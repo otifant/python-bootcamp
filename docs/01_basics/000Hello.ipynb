{
 "cells": [
  {
   "attachments": {},
   "cell_type": "markdown",
   "metadata": {},
   "source": [
    "# Python Ausbildungsproramm\n",
    "Willkommen zum Python Ausbildungsproramm.\n",
    "\n",
    "Python ist einer der beliebtesten Programmiersprachen. Sie wurde 1991 von Guido van Rossum, einem niederländischen Softwareentwickler erschaffen.\n",
    "Python wird oft in folgenden Bereichen angewendet:\n",
    "\n",
    "* Web development (server seitig)\n",
    "* Softwareentwicklung\n",
    "* mathematische Anwendungen\n",
    "* Systemskripting\n",
    "\n",
    "Eine Einzigartigkeit von Python ist die Lesbarkeit. Python liest sich fast wie die englische Sprache, das wirst im Verlauf der Einführung noch merken. Ausserdem war Python so konzipiert, dass die Zeit, die für die Entwicklung benötigt wird, möglichst kurz gehalten wird. Daher war auch das Ziel, dass Python eine leicht verständliche Programmiersprache wird.\n",
    "\n",
    "Ausserdem ist Python eine \"Open Source\"-Programmiersprache, den Source-Code von Python könntest du z.B. hier nachschauen gehen, wenn es dich interessieren sollte: https://www.python.org/downloads/source/"
   ]
  },
  {
   "attachments": {},
   "cell_type": "markdown",
   "metadata": {},
   "source": [
    "## Jupyter-Notebook\n",
    "\n",
    "Dieses Dokument hier ist ein Jupiter-Notebook. Das erkennst du an der Dateiendung \".ipynb\", was so viel bedeutet wie \"integrated Python Notebook\".\n",
    "\n",
    "Das coole an solchen Jupyter-Notebooks ist, dass du formatierten Text (im Markdown-Format) mit Python-Code kombinieren kannst, und Python-Code durch Klick auf den Play-Button direkt ausführen und debuggen kannst.\n",
    "\n",
    "Jupyter-Notebooks bestehen grundsätzlich aus diesen beiden Komponenten:\n",
    "1. Markup Cells (Markup-Blöcke)\n",
    "und\n",
    "2. Code Cells (Code-Blöcke)\n",
    "\n",
    "Du kannst von beiden kreuz und quer in einem Jupyter-Notebook hinzufügen.\n",
    "\n",
    "Neue Blöcke kannst du zwischen, vor und nach jedem Block hinzufügen via einen Klick auf \"+ Code\" bzw. \"+ Markdown\"."
   ]
  },
  {
   "attachments": {},
   "cell_type": "markdown",
   "metadata": {},
   "source": [
    "### Code-Block\n",
    "Nachfolgend siehst du einen Code-Block mit Python-Code drin.\n",
    "\n",
    "Damit du den Code ausführen kannst, benötigst du mindestens folgendes in VS Code:\n",
    "* Eine aktive Python-Installation. Python kannst du von einer der beiden Quellen herunterladen:\n",
    "    * https://www.microsoft.com/store/productId/9NRWMJP3717K oder hier herunterladen.\n",
    "    * https://www.python.org/downloads/\n",
    "* Die Jupyter-Extension für VS Code. In VS Code kannst du diese herunterladen, indem du [Ctrl] + [Shift] + [X] klickst, das öffnet das Extensions-Tab auf der Seite, dort suchst du nach \"Jupyter\" und installierst die gleichnamige Extension von Microsoft. Möglicherweise wurdest du bereits gefragt, ob du diese Extension installieren möchtest, da diese in der Datei für vorgeschlagene Extensions (\".vscode/extensions.json\") vorkommt.\n",
    "* Die Python-Extension von Microsoft. Diese sollte bereits nach der Installation der Jupyter-Extension installiert worden sein.\n",
    "\n",
    "Anschliessend solltest du in der Lage sein, Code-Blöcke auszuführen. Möglicherweise fehlt dir noch ein Jupyter-Kernel, das wirst du aber gleich herausfinden. Klicke im Nachfolgenden Code-Block auf den Play-Button und wenn dich VS Code unten rechts fragt, ob es etwas installieren oder erstellen soll, dann bestätige dies.\n",
    "\n",
    "Wenn du nach einem Python-Environment gefragt wirst, dann wähle diejenige Python-Version aus, die du als letztes installiert hast (also eine aktuelle, die neuer als 3.9 ist).\n"
   ]
  },
  {
   "cell_type": "code",
   "execution_count": null,
   "metadata": {},
   "outputs": [],
   "source": [
    "import getpass\n",
    "\n",
    "username = getpass.getuser()\n",
    "print(f\"Hello {username}, nice to see you!\")"
   ]
  },
  {
   "attachments": {},
   "cell_type": "markdown",
   "metadata": {},
   "source": [
    "Unterhalb des Code-Block solltest du nun eine Begrüssungs-Nachricht sehen, wo dein Benutzer-Name vorkommt."
   ]
  },
  {
   "attachments": {},
   "cell_type": "markdown",
   "metadata": {},
   "source": [
    "### Markup-Blöcke\n",
    "\n",
    "Markup-Blöcke bestehen im Prinzip nur aus formatiertem Text.\n",
    "\n",
    "Die Formatierung wird mit bestimmten Zeichen realisiert. Versuche dies gerade aus:\n",
    "* Klicke unterhalb dieses Blockes auf \"+ Markdown\".\n",
    "* Gib einen Text ein, z.B. `Hello **World**, nice to see *you*.`.\n",
    "* Klicke oben rechts bei der Zelle/beim Block auf das Gut-Zeichen oder klicke [Shift] + [Enter].\n",
    "\n",
    "Nun sollte dein Text formatiert erscheinen.\n",
    "* Mit zwei Sternchen markierst du fetten Text: `**World**`\n",
    "* Mit einem Sternchen markierst du kursiven Text: `*you*`\n",
    "* Mit `#`, `##`, `###` usw. markierst du überschriften: `# Überschrift 1`\n",
    "\n",
    "Die Formatierung ist \"Markdown\". In VS Code wird das Markdown für GitHub standardmässig verwendet (unterscheidet sich von demjenigen, das Atlassian z.B. in Jira einsetzt). Eine Übersicht, wie du Text in Markdown formatieren kannst, findest du hier: https://docs.github.com/en/get-started/writing-on-github/getting-started-with-writing-and-formatting-on-github/basic-writing-and-formatting-syntax\n"
   ]
  },
  {
   "attachments": {},
   "cell_type": "markdown",
   "metadata": {},
   "source": [
    "## Python\n",
    "### Erstes Beispiel\n",
    "Wir starten nun direkt mit dem Klassiker, dem Hello World Programm.\n",
    "\n",
    "Führe folgenden Code aus, indem du auf den Play-Button neben der Code-Zelle klickst (\"Execute Cell\").\n",
    "\n",
    "(Alternativ kannst du auch einfach in den Programm-Code klicken und [Ctrl]+[Alt]+[Enter] klicken.)"
   ]
  },
  {
   "cell_type": "code",
   "execution_count": null,
   "metadata": {},
   "outputs": [],
   "source": [
    "print(\"Hello World!\")  # Output: Hello World!"
   ]
  },
  {
   "attachments": {},
   "cell_type": "markdown",
   "metadata": {},
   "source": [
    "Ziemlich simpel, oder?\n",
    "\n",
    "Die Methode `print()` nimmt einen Text (nachfolgend String genannt) und gibt ihn in nachher aus.\n",
    "\n",
    "Jede `print()` Anweisung schreibt dabei auf eine neue Zeile.\n",
    "\n",
    "Jedes Statement im Code wird hierbei auf eine neue Zeile geschrieben, ohne Semikolon.\n",
    "\n",
    "Möchtest du den Code kommentieren, dann kannst du Kommentare mit einem `#`-Zeichen (Hashtag, \"Gartenhag\") einleiten. In den Kommentaren kannst du alles schreiben, was du willst. Diese dienen oft dazu, etwas komplizierteres zu beschreiben, wenn der Code nicht selbsterklärend ist.\n",
    "\n",
    "Der Code wird dann von Zeile nach Zeile abgearbeitet. Im Gegensatz zu anderen Programmiersprachen wie Java, können die Anweisungen direkt auf oberster Ebene in eine Datei geschrieben werden, ohne dass du diese noch irgendwo reinpacken musst (also keine Methoden/Funktionen/Klassen erforderlich).\n",
    "\n",
    "Ein sehr wichtiger Punkt, welcher Python von praktisch allen anderen Programmiersprachen unterscheidet ist, \n",
    "dass Code-Blöcke nicht durch geschweifte Klammern `{}` abgetrennt werden, sondern durch Einrückungen.\n",
    "\n",
    "Hier ein kleines Beispiel:"
   ]
  },
  {
   "cell_type": "code",
   "execution_count": null,
   "metadata": {},
   "outputs": [],
   "source": [
    "if True:\n",
    "    print(\"x is 1.\")\n",
    "\n",
    "while False:\n",
    "    if True:\n",
    "        print(\"Hallo\")\n",
    "    else:\n",
    "        break"
   ]
  },
  {
   "attachments": {},
   "cell_type": "markdown",
   "metadata": {},
   "source": [
    "In Java und JavaScript z.B. würde der gleiche Code wie folgt aussehen. Beachte, dass die geschweiften Klammern (`{` und `}`) in Python mit einem Doppelpunkt (`:`) und dessen innerer Block zwingend mit Einrückungen (Tab oder 4 Leerzeichen) realisiert werden."
   ]
  },
  {
   "cell_type": "code",
   "execution_count": null,
   "metadata": {
    "vscode": {
     "languageId": "javascript"
    }
   },
   "outputs": [],
   "source": [
    "if (true) {\n",
    "    console.log(\"It's true\");\n",
    "}\n",
    "\n",
    "while (false) {\n",
    "    if (true) {\n",
    "        console.log(\"Hi\");\n",
    "    } else {\n",
    "        break;\n",
    "    }\n",
    "}"
   ]
  }
 ],
 "metadata": {
  "kernelspec": {
   "display_name": "Python 3",
   "language": "python",
   "name": "python3"
  },
  "language_info": {
   "codemirror_mode": {
    "name": "ipython",
    "version": 3
   },
   "file_extension": ".py",
   "mimetype": "text/x-python",
   "name": "python",
   "nbconvert_exporter": "python",
   "pygments_lexer": "ipython3",
   "version": "3.10.10"
  },
  "orig_nbformat": 4
 },
 "nbformat": 4,
 "nbformat_minor": 2
}
