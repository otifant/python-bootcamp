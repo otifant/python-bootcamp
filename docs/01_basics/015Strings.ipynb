{
 "cells": [
  {
   "attachments": {},
   "cell_type": "markdown",
   "metadata": {},
   "source": [
    "# Strings\n",
    "\n",
    "Strings können in Python mit einfachen oder doppelten Anführungszeichen initialisiert werden.\n",
    "Im nachfolgenden Code findest du ein paar Beispiele:"
   ]
  },
  {
   "cell_type": "code",
   "execution_count": null,
   "metadata": {},
   "outputs": [],
   "source": [
    "random_string = \"Hello\"\n",
    "random_string2 = 'World'\n",
    "\n",
    "random_multiline_string = \"\"\"Say\n",
    "my\n",
    "name!\"\"\"\n",
    "\n",
    "random_multiline_string2 = '''Hello\n",
    "my name is\n",
    "Jeff'''\n",
    "\n",
    "print(random_multiline_string2)\n",
    "# Output:\n",
    "# Hello\n",
    "# my name is\n",
    "# Jeff"
   ]
  },
  {
   "attachments": {},
   "cell_type": "markdown",
   "metadata": {},
   "source": [
    "Wie im obigen Code ersichtlich, ist es möglich, Strings über mehrere Zeilen mit dreifachen Anführungszeichen zu initialisieren.\n",
    "Hierbei werden die Leerzeichen und Zeilenumschläge mitgespeichert. Ein String über 3 Zeilen wird bei einem `print()` Aufruf auch über 3 Zeilen in der Konsole ausgegeben."
   ]
  },
  {
   "attachments": {},
   "cell_type": "markdown",
   "metadata": {},
   "source": [
    "## Slicing\n",
    "\n",
    "Eine weitere coole Operation auf Strings ist das sogenannte **Slicing**.\n",
    "\n",
    "Wie der Name schon suggeriert, kann man Strings in verschiedene Teile zerlegen. Einige slicing Operationen sind:"
   ]
  },
  {
   "cell_type": "code",
   "execution_count": null,
   "metadata": {},
   "outputs": [],
   "source": [
    "beispiel = \"Python ist eine tolle Programmiersprache!\"\n",
    "\n",
    "# Herausschneiden zwischen dem ersten und zweiten Index.\n",
    "# Beachte, dass der Buchstabe mit dem 2. Index nicht inklusive ist.\n",
    "print(beispiel[2:12])  # thon ist e\n",
    "print(beispiel[2:4])  # th\n",
    "\n",
    "# Herausschneiden der ersten Buchstaben\n",
    "print(beispiel[:5])  # Pytho\n",
    "print(beispiel[:20])  # Python ist eine toll\n",
    "\n",
    "# Weglassen der ersten Buchstaben\n",
    "print(beispiel[4:])  # on ist eine tolle Programmiersprache!\n",
    "print(beispiel[22:])  # Programmiersprache!\n",
    "\n",
    "# Start beim 8. letzten Buchstaben, Ende beim 6. letzten Buchstaben.\n",
    "print(beispiel[-8:-5])  # spr"
   ]
  },
  {
   "attachments": {},
   "cell_type": "markdown",
   "metadata": {},
   "source": [
    "Mit `beispiel[2:12]` haben wir den String ab dem 3. bis zum 12. Buchstaben ausgeschnitten. Die erste Zahl ist der sogenannte Start-Index und die zweite der End-Index, wobei die 12 exklusiv ist (also gerade bis vor Index 12).\n",
    "\n",
    "Wie in fast allen anderen Programmiersprachen auch, beginnt man bei Index 0. Also das erste Element in Listen und Strings hat Index 0.\n",
    "\n",
    "Lässt du eine Zahl aus beim Slicing, dann wird der Default-Wert verwendet:\n",
    "* Bei der ersten Zahl ist es 0: also von Beginn an.\n",
    "* Bei der zweiten Zahl ist es -1: Also bis ganz nach hinten.\n",
    "\n",
    "Negative zahlen bedeuten, dass man von hinten beginnt zu rechnen:\n",
    "* -1 ist das letzte Element.\n",
    "* -2 das zweitletzte Element.\n",
    "* usw."
   ]
  },
  {
   "attachments": {},
   "cell_type": "markdown",
   "metadata": {},
   "source": [
    "Möchtest du z.B. nur einen Buchstaben an einer bestimmten Position im String erhalten, dann kannst du via Index darauf zugreifen. Im folgenden Beispiel greifen wir auf den 2. Buchstaben (Index = 1) zu:"
   ]
  },
  {
   "cell_type": "code",
   "execution_count": null,
   "metadata": {},
   "outputs": [],
   "source": [
    "beispiel[1]"
   ]
  },
  {
   "attachments": {},
   "cell_type": "markdown",
   "metadata": {},
   "source": [
    "## String-Methoden"
   ]
  },
  {
   "attachments": {},
   "cell_type": "markdown",
   "metadata": {},
   "source": [
    "Wie auch in Java hat Python einige vordefinierte Methoden auf Strings.\n",
    "\n",
    "Einige sind nachfolgend Aufgelistet:"
   ]
  },
  {
   "cell_type": "code",
   "execution_count": null,
   "metadata": {},
   "outputs": [],
   "source": [
    "s = \"Python is fun!\"\n",
    "\n",
    "print(s.upper())  # PYTHON IS FUN!\n",
    "print(s.lower())  # python is fun!\n",
    "\n",
    "# Ersetzen eines Substrings mit einem anderen Substring\n",
    "print(s.replace(\"n\", \"m\"))  # Pythom is fum!\n",
    "print(s.replace(\" \", \"#\"))  # Python#is#fun!\n",
    "print(s.replace(\"Python\", \"Java\"))  # Java is fun!\n",
    "\n",
    "# .strip() entfernt alle Leerzeichen am Anfang und am Ende\n",
    "print(\"     to many whitespaces     \".strip())  # to many whitespaces\n",
    "\n",
    "# .split() gibt eine Liste mit substrings zurück.\n",
    "print(s.split(\" \"))  # ['Python', 'is', 'fun!']\n",
    "print(s.split(\"n\"))  # ['Pytho', ' is fu', '!']\n",
    "print(s.split(\"is\"))  # ['Python ', ' fun!']\n",
    "\n",
    "# Strings können mit dem + Operator aneinandergeheftet werden.\n",
    "print(s + \" Java too!\")  # Python is fun! Java too!"
   ]
  },
  {
   "attachments": {},
   "cell_type": "markdown",
   "metadata": {},
   "source": [
    "Einige der bekanntesten String-Methoden sind:\n",
    "* `upper()`: Gibt den String in Grossbuchstaben zurück (verändert den ursprünglichen String aber nicht).\n",
    "* `lower()`: Gibt den String in Kleinbuchstaben zurück.\n",
    "* `replace()`: Gibt einen neuen String zurück, wobei bestimmte aufeinander folgende Buchstaben (Parameter 1) mit anderen Buchstaben (Parameter 2) ausgetauscht wurden.\n",
    "* `strip()`: Gibt einen neuen String zurück ohne die Leerzeichen am Anfang und am Ende."
   ]
  },
  {
   "attachments": {},
   "cell_type": "markdown",
   "metadata": {},
   "source": [
    "Falls du noch weitere Methoden sehen möchtest gibt es hier eine grosse Liste: https://www.w3schools.com/python/python_strings_methods.asp"
   ]
  },
  {
   "attachments": {},
   "cell_type": "markdown",
   "metadata": {},
   "source": [
    "## Escape Character\n",
    "\n",
    "Um Zeichen in einem String hinzufügen zu können, welche normalerweise nicht erlaubt sind, kann ein `\\` verwendet werden.\n",
    "Es gibt auch weitere spezielle Zeichen, welche mit Hilfe eines Backslashes in einen String eingefügt werden können."
   ]
  },
  {
   "cell_type": "code",
   "execution_count": null,
   "metadata": {},
   "outputs": [],
   "source": [
    "# ' muss nicht escaped werden, \" aber schon.\n",
    "print(\"Es gibt einfache (') und doppelte (\\\") Anführungszeichen\")\n",
    "# Hier ist es genau umgekehrt\n",
    "print('Es gibt einfache (\\') und doppelte (\") Anführungszeichen')\n",
    "# Escapen des Escape characters\n",
    "print(\"Ich verwende ein \\\\, um zu escapen\")"
   ]
  },
  {
   "attachments": {},
   "cell_type": "markdown",
   "metadata": {},
   "source": [
    "Möchtest du eine neue Zeile in einem String einfügen, dann kannst du das mit `\\n` (n steht für \"newline\") tun:"
   ]
  },
  {
   "cell_type": "code",
   "execution_count": null,
   "metadata": {},
   "outputs": [],
   "source": [
    "print(\"Hello, it's me.\\nHello from the other side\")"
   ]
  },
  {
   "attachments": {},
   "cell_type": "markdown",
   "metadata": {},
   "source": [
    "In bestimmten Fällen möchtest du auch Tabulatoren hinzufügen (z.B. wenn du rasch einen Text mit mehreren Spalten generieren möchtest, denn du dann direkt in Excel einfügen kannst).\n",
    "\n",
    "Dies kannst du mit dem String `\\t` (t wie \"tab\") erreichen:"
   ]
  },
  {
   "cell_type": "code",
   "execution_count": null,
   "metadata": {},
   "outputs": [],
   "source": [
    "print(\"name \\t age \\t weight\")\n",
    "print(\"Mario \\t 1 \\t 500\")"
   ]
  }
 ],
 "metadata": {
  "kernelspec": {
   "display_name": "Python 3",
   "language": "python",
   "name": "python3"
  },
  "language_info": {
   "codemirror_mode": {
    "name": "ipython",
    "version": 3
   },
   "file_extension": ".py",
   "mimetype": "text/x-python",
   "name": "python",
   "nbconvert_exporter": "python",
   "pygments_lexer": "ipython3",
   "version": "3.9.6"
  },
  "orig_nbformat": 4
 },
 "nbformat": 4,
 "nbformat_minor": 2
}
