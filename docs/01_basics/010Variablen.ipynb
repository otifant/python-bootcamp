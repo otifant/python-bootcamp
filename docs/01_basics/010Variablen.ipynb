{
 "cells": [
  {
   "attachments": {},
   "cell_type": "markdown",
   "metadata": {},
   "source": [
    "# Variablen in Python\n",
    "\n",
    "In Python werden Variablen initialisiert, sobald sie einen Wert zugewiesen bekommen.\n",
    "\n",
    "Im folgenden Beispiel wird der Variable `x` den Wert `5` zugewiesen: \n",
    "```python\n",
    "x = 5\n",
    "```\n",
    "\n",
    "Es benötigt weder die Verwendung eines Keywords (wie z.B. `var`, `const`, `new`), noch die Angabe eines Datentypen.\n",
    "\n",
    "\n",
    "In Python ist es üblich, ein sogenanntes **snake_case**-Naming zu wählen, nicht wie in Java das \"camelCase\" oder \"PascalCase\".\n",
    "* Dabei werden Wörter mit einem Unterstrich (also \"_\") getrennt. \n",
    "* Variablennamen starten wie üblich mit einem Kleinbuchstaben, Klassen mit einem Grossbuchstaben. Der Name von Konstanten besteht nur aus Grossbuchstaben, einzelne Wörter werden mit einem Unterstrich kombiniert.\n",
    "\n",
    "Einige Beispiele für die Initialisierung von Variablen: "
   ]
  },
  {
   "cell_type": "code",
   "execution_count": null,
   "metadata": {},
   "outputs": [],
   "source": [
    "MY_INT_CONSTANT = 7\n",
    "print(MY_INT_CONSTANT)  # Output: 7\n",
    "\n",
    "my_float = 7.0\n",
    "print(my_float)  # Output: 7.0\n",
    "\n",
    "my_float = float(MY_INT_CONSTANT)  # Typ-casting von int zu float\n",
    "print(my_float)  # Output: 7.0\n",
    "\n",
    "my_string1 = 'Hello'  # Initialisierung eines Strings mit '\n",
    "my_string2 = \"Hello\"  # Initialisierung eines Strings mit \"\n",
    "\n",
    "# Initialisierung mit \", der Apostroph wird hier als Character angesehen:\n",
    "my_string3 = \"Don't worry about apostrophes\"\n",
    "# Initialisierung mit ', Anführungs- und Schlusszeichen werden hier als Character angesehen:\n",
    "my_string4 = 'I just want to say \"Hello\"'"
   ]
  },
  {
   "attachments": {},
   "cell_type": "markdown",
   "metadata": {},
   "source": [
    "Ein weiteres cooles Feature in Python ist die Mehrfachzuweisung. Folgendes ist valider Python-Code:"
   ]
  },
  {
   "cell_type": "code",
   "execution_count": null,
   "metadata": {},
   "outputs": [],
   "source": [
    "x, y, z = 10, 41, 5.0\n",
    "a = b = c = \"Hello\""
   ]
  },
  {
   "attachments": {},
   "cell_type": "markdown",
   "metadata": {},
   "source": [
    "Hier wurde `x` der Wert `10`, `y` der Wert `41` und `z` den Wert `5.0` zugewiesen.\n",
    "\n",
    "In der zweiten Zeile wurde den Variablen `a`, `b` und `c` jeweils der String `\"Hello\"` zugewiesen."
   ]
  }
 ],
 "metadata": {
  "kernelspec": {
   "display_name": "Python 3",
   "language": "python",
   "name": "python3"
  },
  "language_info": {
   "codemirror_mode": {
    "name": "ipython",
    "version": 3
   },
   "file_extension": ".py",
   "mimetype": "text/x-python",
   "name": "python",
   "nbconvert_exporter": "python",
   "pygments_lexer": "ipython3",
   "version": "3.9.6"
  },
  "orig_nbformat": 4
 },
 "nbformat": 4,
 "nbformat_minor": 2
}
