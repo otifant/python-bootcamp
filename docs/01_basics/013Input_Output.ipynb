{
 "cells": [
  {
   "attachments": {},
   "cell_type": "markdown",
   "metadata": {},
   "source": [
    "# Eingabe in Python\n",
    "Die einfachste Möglichkeit, in Python Eingaben zu erhalten, besteht darin, die `input()` Funktion zu verwenden. Diese Funktion wird verwendet, um Benutzereingaben von der Konsole zu lesen. Die `input()` Funktion liest die Eingabe als Zeichenkette (String), und man kann sie dann in den gewünschten Datentyp konvertieren.\n",
    "\n",
    "Hier ist ein Beispiel:"
   ]
  },
  {
   "cell_type": "code",
   "execution_count": null,
   "metadata": {},
   "outputs": [],
   "source": [
    "name = input(\"Geben Sie Ihren Namen ein: \")\n",
    "print(\"Hallo, \" + name + \". Willkommen in Python!\")"
   ]
  },
  {
   "attachments": {},
   "cell_type": "markdown",
   "metadata": {},
   "source": [
    "Dieses Programm fordert den Benutzer auf, seinen Namen einzugeben, liest die Eingabe als Zeichenkette und gibt dann eine personalisierte Nachricht aus. Beachte, dass die Eingabe innerhalb der `input()` Funktion in Klammern eingegeben wird.\n",
    "\n",
    "# Ausgabe in Python\n",
    "Die einfachste Möglichkeit, in Python Ausgaben zu erstellen, besteht darin, die print()-Funktion zu verwenden. Diese Funktion druckt eine Zeichenkette oder eine Variable auf der Konsole."
   ]
  },
  {
   "cell_type": "code",
   "execution_count": null,
   "metadata": {},
   "outputs": [],
   "source": [
    "name = \"Max\"\n",
    "age = 20\n",
    "print(\"Mein Name ist\", name, \"und ich bin\", age, \"Jahre alt.\")"
   ]
  },
  {
   "attachments": {},
   "cell_type": "markdown",
   "metadata": {},
   "source": [
    "Dieses Programm erstellt eine personalisierte Nachricht, indem es den Namen und das Alter des Benutzers verwendet und diese auf der Konsole ausgibt. Beachte, dass wir hier mehrere Argumente an die `print()` Funktion übergeben haben. Diese werden durch ein Komma getrennt und die Funktion fügt automatisch Leerzeichen zwischen den Argumenten hinzu."
   ]
  }
 ],
 "metadata": {
  "kernelspec": {
   "display_name": "Python 3",
   "language": "python",
   "name": "python3"
  },
  "language_info": {
   "codemirror_mode": {
    "name": "ipython",
    "version": 3
   },
   "file_extension": ".py",
   "mimetype": "text/x-python",
   "name": "python",
   "nbconvert_exporter": "python",
   "pygments_lexer": "ipython3",
   "version": "3.9.13"
  },
  "orig_nbformat": 4
 },
 "nbformat": 4,
 "nbformat_minor": 2
}
