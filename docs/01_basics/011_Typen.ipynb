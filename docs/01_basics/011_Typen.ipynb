{
 "cells": [
  {
   "attachments": {},
   "cell_type": "markdown",
   "metadata": {},
   "source": [
    "# Typen in Python"
   ]
  },
  {
   "attachments": {},
   "cell_type": "markdown",
   "metadata": {},
   "source": [
    "## Zahlen\n",
    "\n",
    "In Python kannst du Variablen von Zahlen wie folgt erstellen:"
   ]
  },
  {
   "cell_type": "code",
   "execution_count": null,
   "metadata": {},
   "outputs": [],
   "source": [
    "zahl1 = 1\n",
    "zahl2 = 2"
   ]
  },
  {
   "attachments": {},
   "cell_type": "markdown",
   "metadata": {},
   "source": [
    "Und ausserdem kannst du auf Zahlen bestimmte Operationen durchführen, z.B. eine Addition.\n",
    "\n",
    "In nächsten Beispiel erstellen wir neue Variablen `zahl3`, die dem Resultat aus der Addition von den ersten beiden Zahlen `zahl1` und `zahl2` entspricht:"
   ]
  },
  {
   "cell_type": "code",
   "execution_count": null,
   "metadata": {},
   "outputs": [],
   "source": [
    "zahl3 = zahl1 + zahl2\n",
    "print(zahl3)  # Output: 3"
   ]
  },
  {
   "cell_type": "code",
   "execution_count": null,
   "metadata": {},
   "outputs": [],
   "source": []
  },
  {
   "attachments": {},
   "cell_type": "markdown",
   "metadata": {},
   "source": [
    "Im obigen Beispiel haben wir folgendes in der Variable `zahl3` gespeichert:\n",
    "\n",
    "```python\n",
    "zahl3 = 1 + 2\n",
    "```\n",
    "\n",
    "Folglich führt `print(zahl3)` zu folgender Ausgabe:\n",
    "```\n",
    "3\n",
    "```\n",
    "\n",
    "\n",
    "Wir haben also gesehen, dass wir Zahlen addieren können. Folgende Operationen sind zudem möglich:"
   ]
  },
  {
   "cell_type": "code",
   "execution_count": null,
   "metadata": {},
   "outputs": [],
   "source": [
    "print(\"Addition\",       1 + 2 + 3)  # Keine der Operationen ist auf 2 Zahlen begrenzt.\n",
    "print(\"Subtraktion\",    10 - 1)\n",
    "print(\"Multiplikation\", 7 * 8)\n",
    "print(\"Division\",       10 / 2)\n",
    "print(\"Hochrechnen\",    5**2)\n",
    "\n",
    "# Zudem kannst du diese Operationen auch kombinieren:\n",
    "print(\"Add und Sub\",      1 + 2 - 3)\n",
    "print(\"Punkt vor Strich\", 1 + 2 * 3)\n",
    "print(\"Klammern\",         (1 + 2) * 3)"
   ]
  },
  {
   "attachments": {},
   "cell_type": "markdown",
   "metadata": {},
   "source": [
    "### Zahlen-Typen\n",
    "Ist dir aufgefallen, dass alle Operationen eine Ganzzahl zurückgegeben haben abgesehen von der Division?\n",
    "\n",
    "```python\n",
    "print(\"Division\",       10 / 2)\n",
    "```\n",
    "\n",
    "Der Grund hierfür ist für dich sicher offensichtlich: Die Division ist die einzige Operation, die aus zwei Ganzzahlen eine Zahl mit Kommastellen generieren könnte. Die Division `10 / 2` würde mathematisch gesehen zwar eine Ganzzahl zurückgeben, aber Python gibt bei einer Division immer eine Fliesskommazahl zurück.\n",
    "\n",
    "Und das ist auch das Praktische an Python! In anderen Programmiersprachen hättest du eine abgerundete Ganzzahl erhalten. Daher musst du dich in Python nicht zwingend mit den verschiedenen Zahlen-Typen auseinander setzen.\n",
    "\n",
    "Lasse uns diese trotzdem rasch anschauen:\n",
    "\n",
    "* Ganzzahlen sind `int`s.\n",
    "* Fliesskommazahlen sind meistens `float`.\n",
    "\n",
    "Möchtest du bei einer Variable angeben, dass sie eine Ganzzahl ist, dann kannst du das wie folgt tun:"
   ]
  },
  {
   "cell_type": "code",
   "execution_count": null,
   "metadata": {},
   "outputs": [],
   "source": [
    "ganz_zahl: int = 3\n",
    "komma_zahl: float = 6.0"
   ]
  },
  {
   "attachments": {},
   "cell_type": "markdown",
   "metadata": {},
   "source": [
    "Bitte beachte im obigen Beispiel, dass die Angabe von `: int` gar nichts macht. Diese Angabe dient dem/der Entwickler:in."
   ]
  },
  {
   "attachments": {},
   "cell_type": "markdown",
   "metadata": {},
   "source": [
    "## String (Text)\n",
    "Du kannst wie folgt Variablen mit Text-Inhalt erstellen:"
   ]
  },
  {
   "cell_type": "code",
   "execution_count": null,
   "metadata": {},
   "outputs": [],
   "source": [
    "hello = \"hello\"\n",
    "world = \"world\""
   ]
  },
  {
   "attachments": {},
   "cell_type": "markdown",
   "metadata": {},
   "source": [
    "Ausserdem kannst du einzelne solche Text-Variablen miteinander kombinieren:"
   ]
  },
  {
   "cell_type": "code",
   "execution_count": null,
   "metadata": {},
   "outputs": [],
   "source": [
    "hello_world = hello + \" \" + world\n",
    "print(hello_world)  # Output: hello world"
   ]
  },
  {
   "attachments": {},
   "cell_type": "markdown",
   "metadata": {},
   "source": [
    "Du kannst auch Zahlen beim Kombinieren von Variablen mit Strings verwenden. Folgender Code wird nicht funktionieren:"
   ]
  },
  {
   "cell_type": "code",
   "execution_count": null,
   "metadata": {},
   "outputs": [],
   "source": [
    "# This will not work!\n",
    "my_number = 1\n",
    "my_string = \"hello\"\n",
    "\n",
    "print(my_string + my_number)  # TypeError"
   ]
  },
  {
   "attachments": {},
   "cell_type": "markdown",
   "metadata": {},
   "source": [
    "Der Fehler wird hier zu Laufzeit des Programms geworfen, der Compiler bemerkt den Fehler nämlich nicht.\n",
    "Die Lösung des Problems sind sogenannte formatted Strings oder einfach f-Strings. Eine Möglichkeit ist die folgende:"
   ]
  },
  {
   "cell_type": "code",
   "execution_count": null,
   "metadata": {},
   "outputs": [],
   "source": [
    "my_number = 1\n",
    "my_string = \"hello\"\n",
    "\n",
    "# Output: my_number is 1 and my_string is \"hello\"\n",
    "print(f'my_number is {my_number} and my_string is \"{my_string}\"')"
   ]
  },
  {
   "attachments": {},
   "cell_type": "markdown",
   "metadata": {},
   "source": [
    "Oder, du \"castest\" die Zahlen zu Strings (die `str(...)`-Funktion wandelt etwas in einen String um.):"
   ]
  },
  {
   "cell_type": "code",
   "execution_count": null,
   "metadata": {},
   "outputs": [],
   "source": [
    "print('my_number is \"' + str(my_number) + '\" and my_string is \"' + str(my_string) + '\"')"
   ]
  },
  {
   "attachments": {},
   "cell_type": "markdown",
   "metadata": {},
   "source": [
    "Möchtest du bei einer String-Variable angeben, dass es sich dabei um einen String handelt, dann kannst du das wie folgt tun:"
   ]
  },
  {
   "cell_type": "code",
   "execution_count": null,
   "metadata": {},
   "outputs": [],
   "source": [
    "my_string: str = \"Hello World\""
   ]
  },
  {
   "attachments": {},
   "cell_type": "markdown",
   "metadata": {},
   "source": [
    "## Booleans\n",
    "\n",
    "Der letzte zentrale Datentyp in Python sind sogenannte Booleans.\n",
    "\n",
    "Ein Boolean kann genau 1 von 2 Werten einnehmen:\n",
    "* `True`, bedeutet wahr bzw. zutreffend\n",
    "* `False` für nicht-zutreffend.\n",
    "\n",
    "Eine Boolean-Variable kannst du wie folgt definieren:"
   ]
  },
  {
   "cell_type": "code",
   "execution_count": null,
   "metadata": {},
   "outputs": [],
   "source": [
    "bool1 = True\n",
    "bool2 = False\n",
    "\n",
    "bool3 = bool1 and bool2\n",
    "bool4 = bool1 or bool2\n",
    "\n",
    "print(bool1, bool2, bool3, bool4)"
   ]
  },
  {
   "attachments": {},
   "cell_type": "markdown",
   "metadata": {},
   "source": [
    "Oft verwendest du Booleans im Zusammenhang mit Bedingungen:"
   ]
  },
  {
   "cell_type": "code",
   "execution_count": null,
   "metadata": {},
   "outputs": [],
   "source": [
    "if bool1:\n",
    "    print(\"There we go!\")"
   ]
  },
  {
   "attachments": {},
   "cell_type": "markdown",
   "metadata": {},
   "source": [
    "In Bedingungen werden (meistens) Booleans angegeben: Wenn dieser Wert gleich `True` ist, wird der innere Block ausgeführt."
   ]
  },
  {
   "attachments": {},
   "cell_type": "markdown",
   "metadata": {},
   "source": [
    "Im ersten Beispiel zu den Booleans hast du auch solche Operationen auf Booleans gesehen:\n",
    "\n",
    "```python\n",
    "bool3 = bool1 and bool2     # False\n",
    "bool4 = bool1 or bool2      # True\n",
    "```\n",
    "\n",
    "* Ein `and` gibt `True` zurück, wenn beide Werte `True` sind, ansonsten `False`.\n",
    "* Ein `or` gibt `True` zurück, wenn **mindestens** eine der beiden Werte `True` ist, ansonsten `False`.\n",
    "\n",
    "Du kannst auch aus einer Zahl einen Boolean generieren:"
   ]
  },
  {
   "cell_type": "code",
   "execution_count": null,
   "metadata": {},
   "outputs": [],
   "source": [
    "bool5 = bool(0)\n",
    "bool6 = bool(1)\n",
    "bool7 = bool(2)\n",
    "bool8 = bool(-1)\n",
    "\n",
    "print(bool5, bool6, bool7, bool8)"
   ]
  },
  {
   "attachments": {},
   "cell_type": "markdown",
   "metadata": {},
   "source": [
    "Die Funktion `bool(...)` gibt für alle Zahlen $\\neq 0$ den Wert `True` zurück, für `0` den Wert `False`."
   ]
  },
  {
   "attachments": {},
   "cell_type": "markdown",
   "metadata": {},
   "source": [
    "## Casting\n",
    "\n",
    "Du wirst in die Situation kommen, wo du z.B. einen String hast, du aber eine `int`-Variable haben musst.\n",
    "\n",
    "Hier kommst das \"Casting\" ins Spiel. Damit kannst du einen Wert eines Types in einen Wert eines anderen Types umwandeln.\n",
    "\n",
    "Versuche bitte, folgendes Beispiel zu verstehen. Wenn du Schwierigkeiten damit hast, dann frage bitte nach."
   ]
  },
  {
   "cell_type": "code",
   "execution_count": null,
   "metadata": {},
   "outputs": [],
   "source": [
    "a = str(100)   # a = '100'\n",
    "b = int(4.2)   # b = 4\n",
    "c = float(7)   # c = 7.0\n",
    "d = int('42')  # d = 42\n",
    "\n",
    "print(a, b, c, d)\n",
    "\n",
    "# type(...) gibt dir an, was für ein Typ die Variable hat:\n",
    "print(type(a), type(b), type(c), type(d))"
   ]
  }
 ],
 "metadata": {
  "kernelspec": {
   "display_name": "Python 3",
   "language": "python",
   "name": "python3"
  },
  "language_info": {
   "codemirror_mode": {
    "name": "ipython",
    "version": 3
   },
   "file_extension": ".py",
   "mimetype": "text/x-python",
   "name": "python",
   "nbconvert_exporter": "python",
   "pygments_lexer": "ipython3",
   "version": "3.9.6"
  },
  "orig_nbformat": 4
 },
 "nbformat": 4,
 "nbformat_minor": 2
}
