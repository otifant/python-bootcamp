{
 "cells": [
  {
   "attachments": {},
   "cell_type": "markdown",
   "metadata": {},
   "source": [
    "In Python gibt es natürlich auch bool'sche ausdrücke. Die meisten Operanden wie:\n",
    "* `==`\n",
    "* `<=`\n",
    "* `<`\n",
    "* `>`\n",
    "* `>=`\n",
    "* `!=` \n",
    "\n",
    "sollten bekannt sein und funktionieren gleich wie in Java.\n",
    "Zusätzlich gibt es folgende Operatoren:\n",
    "\n",
    "* `and`         Funktioniert analog dem **&&** Operator aus Java\n",
    "* `or`          Funktioniert analog dem **||** Operator aus Java\n",
    "* `in`          Gibt True zurück falls ein Element in einem Objekt (z.B. einer Liste) vorhanden ist, sonst False\n",
    "* `is`          Im Gegensatz zum `==` vergleicht der is-Operator nicht die Werte der Variablen, sondern die Instanzen selbst. Siehe Beispiel unten.\n",
    "* `not`         negiert einen bool'schen Ausdruck\n",
    "\n",
    "Im Folenden Beispiele werden alle print statements ausgeführt, weil alle if-Bedinungen zu True evaluieren:"
   ]
  },
  {
   "cell_type": "code",
   "execution_count": null,
   "metadata": {},
   "outputs": [],
   "source": [
    "a = True\n",
    "b = False\n",
    "\n",
    "x = [1, 2, 3]\n",
    "y = [1, 2, 3]\n",
    "\n",
    "print(x == y)  # Output: True\n",
    "print(x is y)  # Output: False\n",
    "\n",
    "if a and b == False:\n",
    "    print(\"a is True and b is False.\")\n",
    "\n",
    "if a or b:\n",
    "    print(\"Either a, b or both of them are True.\")\n",
    "\n",
    "if 1 in x:\n",
    "    print(\"1 is in x.\")\n",
    "\n",
    "if not b:\n",
    "    print(\"b is false.\")"
   ]
  },
  {
   "attachments": {},
   "cell_type": "markdown",
   "metadata": {},
   "source": [
    "Die Anweisungen `if`, `else` und `else if` gibt es auch in Python. Allerdings sind die Keywords leicht abgeändert. \n",
    "In Python heissen sie `if`, `elif` und `else`.\n",
    "Hier ist ein kleines Beispiel, wie if, elif und else Anweisungen verwendet werde können:"
   ]
  },
  {
   "cell_type": "code",
   "execution_count": null,
   "metadata": {},
   "outputs": [],
   "source": [
    "age = 25\n",
    "\n",
    "if age < 18:\n",
    "    print(\"Du bist minderjährig.\")\n",
    "elif age >= 18 and age < 65:\n",
    "    print(\"Du bist erwachsen.\")\n",
    "else:\n",
    "    print(\"Du bist im Rentenalter.\")"
   ]
  },
  {
   "attachments": {},
   "cell_type": "markdown",
   "metadata": {},
   "source": [
    "Einen kleinen Hinweis noch an dieser Stelle: \n",
    "\n",
    "Das Schlüsselwort `pass` in Python wird verwendet, um einen leeren Block zu erstellen, der später mit Code gefüllt werden kann. Es ist nützlich, wenn eine Funktion oder eine Schleife syntaktisch korrekt sein muss, aber noch keinen Code benötigt. Ein Beispiel für die Verwendung von `pass` ist innerhalb einer if-Anweisung, wenn man noch nicht sicher ist, welcher Code ausgeführt werden soll, aber das Programm syntaktisch korrekt sein muss:"
   ]
  },
  {
   "cell_type": "code",
   "execution_count": null,
   "metadata": {},
   "outputs": [],
   "source": [
    "x = 5\n",
    "\n",
    "if x < 0:\n",
    "    print(\"x ist negativ.\")\n",
    "elif x == 0:\n",
    "    pass\n",
    "else:\n",
    "    print(\"x ist positiv.\")"
   ]
  },
  {
   "attachments": {},
   "cell_type": "markdown",
   "metadata": {},
   "source": [
    "In diesem Beispiel wird geprüft, ob x negativ, null oder positiv ist. Wenn x null ist, wird der pass-Block ausgeführt, der hier leer ist (es passiert also nichts). Wenn x negativ oder positiv ist, wird eine entsprechende Ausgabe erstellt.\n",
    "\n",
    "Ein weiteres Beispiel für die Verwendung von pass ist, wenn man eine Funktion oder Klasse definiert, aber noch nicht weis, welchen Code Sie darin später befinden wird:"
   ]
  },
  {
   "cell_type": "code",
   "execution_count": null,
   "metadata": {},
   "outputs": [],
   "source": [
    "def empty_function():\n",
    "    pass\n",
    "\n",
    "class EmptyClass:\n",
    "    pass"
   ]
  },
  {
   "attachments": {},
   "cell_type": "markdown",
   "metadata": {},
   "source": [
    "Die Theorie zu Klassen und Funktionen wirst du später kennenlernen."
   ]
  }
 ],
 "metadata": {
  "language_info": {
   "name": "python"
  },
  "orig_nbformat": 4
 },
 "nbformat": 4,
 "nbformat_minor": 2
}
