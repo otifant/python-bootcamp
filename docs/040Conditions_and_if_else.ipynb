{
 "cells": [
  {
   "attachments": {},
   "cell_type": "markdown",
   "metadata": {},
   "source": [
    "In Python gibt es natürlich auch bool'sche ausdrücke. Die meisten Operanden wie ==, <=, <, >, >=, != sollten bekannt sein und funktionieren gleich wie in Java.\n",
    "Zusätzlich gibt es folgende Operatoren:\n",
    "\n",
    "and         Funktioniert analog dem && Operator aus Java\n",
    "or          Funktioniert analog dem || Operator aus Java\n",
    "in          Gibt True zurück falls ein Element in einem Objekt (z.B. einer Liste) vorhanden ist, sonst False\n",
    "is          Im Gegensatz zum „==“ vergleicht der is-Operator nicht die Werte der Variablen, sondern die Instanzen selbst. Siehe Beispiel unten.\n",
    "not         negiert einen bool'schen Ausdruck\n",
    "\n",
    "Im Folenden Beispiele werden alle print statements ausgeführt, weil alle if-Bedinungen zu True evaluieren:"
   ]
  },
  {
   "cell_type": "code",
   "execution_count": null,
   "metadata": {},
   "outputs": [],
   "source": [
    "a = True\n",
    "b = False\n",
    "\n",
    "x = [1, 2, 3]\n",
    "y = [1, 2, 3]\n",
    "\n",
    "print(x == y)  # Output: True\n",
    "print(x is y)  # Output: False\n",
    "\n",
    "if a and b == False:\n",
    "    print(\"a is True and b is False.\")\n",
    "\n",
    "if a or b:\n",
    "    print(\"Either a, b or both of them are True.\")\n",
    "\n",
    "if 1 in x:\n",
    "    print(\"1 is in x.\")\n",
    "\n",
    "if not b:\n",
    "    print(\"b is false.\")"
   ]
  },
  {
   "attachments": {},
   "cell_type": "markdown",
   "metadata": {},
   "source": [
    "Die Anweisungen if, else und elseif gibt es auch in Python. Allerdings sind die Keywords leicht abgeändert. In Python heissen sie **if**, **elif** und **else**.\n",
    "Hier ist ein kleines Beispiel, wie if, elif und else Anweisungen verwendet werde können:"
   ]
  },
  {
   "cell_type": "code",
   "execution_count": null,
   "metadata": {},
   "outputs": [],
   "source": [
    "age = 25\n",
    "\n",
    "if age < 18:\n",
    "    print(\"Du bist minderjährig.\")\n",
    "elif age >= 18 and age < 65:\n",
    "    print(\"Du bist erwachsen.\")\n",
    "else:\n",
    "    print(\"Du bist im Rentenalter.\")"
   ]
  },
  {
   "cell_type": "code",
   "execution_count": null,
   "metadata": {},
   "outputs": [],
   "source": [
    "Einen kleinen Hinweis noch an dieser Stelle: \n",
    "\n",
    "Das Schlüsselwort pass in Python wird verwendet, um einen leeren Block zu erstellen, der später mit Code gefüllt werden kann. Es ist nützlich, wenn eine Funktion oder eine Schleife syntaktisch korrekt sein muss, aber noch keinen Code benötigt."
   ]
  }
 ],
 "metadata": {
  "language_info": {
   "name": "python"
  },
  "orig_nbformat": 4
 },
 "nbformat": 4,
 "nbformat_minor": 2
}
