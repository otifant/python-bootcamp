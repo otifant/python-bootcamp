{
 "cells": [
  {
   "attachments": {},
   "cell_type": "markdown",
   "metadata": {},
   "source": [
    "# Klassen\n",
    "Während des Programmieren stellst du schnell fest, dass bestimmte Variablen zueinander gehören und dass oft ähnliche Operationen mit dem gleichen Variablen durchgeführt werden.\n",
    "\n",
    "\n",
    "Nehmen wir das Beispiel eines Baumes. Nehmen wir an, dass ein Baum einen Namen/eine Art `species` sowie eine bestimmte Höhe `height` besitzt.\n",
    "\n",
    "Angenommen, wir hätten zwei Bäume. Ein Anfänger in Python könnte es ungefähr so versuchen:"
   ]
  },
  {
   "cell_type": "code",
   "execution_count": null,
   "metadata": {},
   "outputs": [],
   "source": [
    "species_oak = \"oak\"\n",
    "species_pine = \"pine\"\n",
    "\n",
    "height_oak = 10\n",
    "height_pine = 8\n",
    "\n",
    "def describe(species, height):\n",
    "    return f\"This tree is a {species} and is {height} m tall.\"\n",
    "\n",
    "\n",
    "print( describe(species_oak, height_oak) )\n",
    "print( describe(species_pine, height_pine) )"
   ]
  },
  {
   "attachments": {},
   "cell_type": "markdown",
   "metadata": {},
   "source": [
    "In diesem Beispiel sehen wir aber schon, dass bestimmte Werte zum \"Gleichen\" dazugehören. Nämlich hat ein Baum jeweils eine `species` und eine `height`.\n",
    "\n",
    "Dass ein Baum immer diese Werte haben kann, können wir definieren. Das können wir mit einer Klassen-Definition erzielen:"
   ]
  },
  {
   "cell_type": "code",
   "execution_count": null,
   "metadata": {},
   "outputs": [],
   "source": [
    "class Tree:\n",
    "    # Konstruktor\n",
    "    def __init__(self, species, height):\n",
    "        self.species = species\n",
    "        self.height = height\n",
    "\n",
    "    # Methode\n",
    "    def describe(self):\n",
    "        return f\"This tree is a {self.species} and is {self.height} m tall.\""
   ]
  },
  {
   "attachments": {},
   "cell_type": "markdown",
   "metadata": {},
   "source": [
    "Mit dem Keyword `class` haben wir die neue Klasse `Tree` eingeleitet.\n",
    "\n",
    "Die Methode (=Funktion) `__init__(self, ...)` wird Konstruktor genannt. Das ist eine spezielle Methode, die immer aufgerufen wird, wenn ein neues Objekt von dieser Klasse erzeugt wird. Im folgenden Code erzeugen (\"initialisieren\") wir ein neues Objekt `oak` vom Typ `Tree`:"
   ]
  },
  {
   "cell_type": "code",
   "execution_count": null,
   "metadata": {},
   "outputs": [],
   "source": [
    "oak = Tree(\"oak\", 10)"
   ]
  },
  {
   "attachments": {},
   "cell_type": "markdown",
   "metadata": {},
   "source": [
    "Hier haben wir ein neues Objekt vom Typ `Tree` erstellt und der Variable `oak` zugewiesen.\n",
    "\n",
    "Mit diesem Code `Tree(\"oak\", 10)` haben wir den Konstruktor aufgerufen und folgende Werte übergeben, die dann im Konstruktor verfügbar sind: `species: \"oak\", height: 10`.\n",
    "\n",
    "Das Argument `self` wird bei Python automatisch übersprungen bzw. automatisch übergeben. Dieses `self` ist im Prinzip eine Referenz auf sich selber.\n",
    "\n",
    "Mit `self.species = species` wird im Objekt der Klasse eine Variable `species` gespeichert. Wichtig zu erwähnen ist hierbei, dass das `species` ohne `self.` vorne dran ein völlig normales Argument aus dem Parameter des Konstruktors ist. Die beiden Variablen müssen auch nicht gleich heissen. Z.B. würde auch das funktionieren: `self.species = \"hello\"`\n",
    "\n",
    "Auf diese Weise können also Variablen definiert werden, die im Objekt gespeichert werden. Dies ist übrigens eine bekannte Schreibweise, um zu definieren, welche Eigenschaften (also Variablen) eine Klasse besitzt."
   ]
  },
  {
   "attachments": {},
   "cell_type": "markdown",
   "metadata": {},
   "source": [
    "Wir haben in der Klasse auch eine Funktion/Methode definiert: `describe()`.\n",
    "\n",
    "Diese können wir für ein Objekt aufrufen:"
   ]
  },
  {
   "cell_type": "code",
   "execution_count": null,
   "metadata": {},
   "outputs": [],
   "source": [
    "oak.describe()"
   ]
  },
  {
   "attachments": {},
   "cell_type": "markdown",
   "metadata": {},
   "source": [
    "**Hinweis zu `self`**\n",
    "\n",
    "Dir ist sicherlich auch das `self` im Parameter der `describe(self)`-Methode aufgefallen. Das Argument `self` wird automatisch übergeben und ist hier automatisch das Objekt `oak`, weil das vor dem `.describe()` stand.\n",
    "\n",
    "Das `self` ist somit die Information, auf welchem Objekt die Methode aufgerufen wird."
   ]
  },
  {
   "attachments": {},
   "cell_type": "markdown",
   "metadata": {},
   "source": [
    "## Zusammenfassung\n",
    "Den Code ganz oben können wir mit Hilfe der Klasse wie folgt umformulieren:"
   ]
  },
  {
   "cell_type": "code",
   "execution_count": null,
   "metadata": {},
   "outputs": [],
   "source": [
    "class Tree:\n",
    "    # Konstruktor\n",
    "    def __init__(self, species, height):\n",
    "        self.species = species\n",
    "        self.height = height\n",
    "\n",
    "    # Methode\n",
    "    def describe(self):\n",
    "        return f\"This tree is a {self.species} and is {self.height} m tall.\"\n",
    "\n",
    "\n",
    "oak = Tree(\"oak\", 10)\n",
    "pine = Tree(\"pine\", 8)\n",
    "\n",
    "print(  oak.describe()  )\n",
    "print(  pine.describe() )"
   ]
  },
  {
   "attachments": {},
   "cell_type": "markdown",
   "metadata": {},
   "source": [
    "Wie du hier sehen konntest, kann Programmieren mit Klassen (sogenanntes objekt-orientiertes Programmieren) stark dabei helfen, den Code \"wiederverwendbar\" zu machen.\n",
    "\n",
    "Das bedeutet z.B., dass wir automatisch eine Variable `species` und `height` bei unseren `Tree`-Objekten initialisieren.\n",
    "\n",
    "Ausserdem erzwingen wir automatisch, dass wir bei jedem solchen Objekt einen Wert für `species` und `height` angeben müssen (auch wenn er `None` sein kann). Das macht es für uns als Entwickler:innen einfacher, Fehler im Code früher zu bemerken, weil wir automatisch schon beim Erstellen des Objektes darauf aufmerksam gemacht werden, dass z.B. ein Wert vergessen gegangen ist.\n",
    "\n",
    "Ein weiterer Vorteil von objekt-orientierter Programmierung (=Verwendung von Klassen) ist es, dass der Code verständlicher, aufgeräumter und einfacher wartbar (wenn jemand anderes z.B. Änderungen daran vornehmen muss) wird."
   ]
  }
 ],
 "metadata": {
  "kernelspec": {
   "display_name": "Python 3",
   "language": "python",
   "name": "python3"
  },
  "language_info": {
   "codemirror_mode": {
    "name": "ipython",
    "version": 3
   },
   "file_extension": ".py",
   "mimetype": "text/x-python",
   "name": "python",
   "nbconvert_exporter": "python",
   "pygments_lexer": "ipython3",
   "version": "3.11.3"
  },
  "orig_nbformat": 4
 },
 "nbformat": 4,
 "nbformat_minor": 2
}
