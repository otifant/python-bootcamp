{
 "cells": [
  {
   "attachments": {},
   "cell_type": "markdown",
   "metadata": {},
   "source": [
    "# pydantic\n",
    "Im vorherigen Kapitel haben wir `@dataclass`es angeschaut. Diese haben eine kurze und sehr praktische Möglichkeit angeboten, Klassen für die Speicherung von Daten zu erstellen.\n",
    "\n",
    "Im Zusammenhang mit Daten müssen oft weitere Dinge gemacht werden, die sich immer wieder wiederholen:\n",
    "* Die Struktur einer Klasse definieren (welche Variablen hat die Klasse).\n",
    "* Daten (Werte) überprüfen, z.B. anhand des Datentypes.\n",
    "* (De)Serialization: Daten umwandeln von oder nach JSON, XML oder YAML.\n",
    "\n",
    "Pydantic widmet sich genau diesen Themen."
   ]
  },
  {
   "attachments": {},
   "cell_type": "markdown",
   "metadata": {},
   "source": [
    "## Pydantic installieren"
   ]
  },
  {
   "attachments": {},
   "cell_type": "markdown",
   "metadata": {},
   "source": [
    "Pydantic ist nicht in der Standard-Installation von Python enthalten und muss daher zuerst heruntergeladen werden.\n",
    "\n",
    "Um es zu installieren, füge das Package `pydantic` zu deinen Dependencies hinzu."
   ]
  },
  {
   "attachments": {},
   "cell_type": "markdown",
   "metadata": {},
   "source": [
    "Verwendest du bereits Poetry (wird im Kapitel \"project_structure\" später erläutert), dann kannst du das mit folgendem Kommandozeilenbefehl tun:"
   ]
  },
  {
   "cell_type": "code",
   "execution_count": null,
   "metadata": {},
   "outputs": [],
   "source": [
    "!poetry add pydantic"
   ]
  },
  {
   "attachments": {},
   "cell_type": "markdown",
   "metadata": {},
   "source": [
    "Verwendest du kein Poetry, dann ist eine Good-Practice, die verwendeten Dependencies in einer Datei zu notieren, damit andere Entwickler wissen, welche Dependencies/Packages sie auch benötigen.\n",
    "\n",
    "Solche Dependencies werden oft in der Datei `requirements.txt` gespeichert, wobei jede Zeile der Name der Dependency ist (kann auch die Version enthalten).\n",
    "\n",
    "In diesem Fall macht es Sinn, nicht die Dependency alleine zu installieren, sondern so, wie sie in der Dependency-Datei definiert ist. Das kann mit dem Befehl `pip install -r <Dependency-Dateiname>` (`-r` für \"requirements\") erreicht werden:"
   ]
  },
  {
   "cell_type": "code",
   "execution_count": null,
   "metadata": {},
   "outputs": [],
   "source": [
    "! echo pydantic > ./requirements.txt\n",
    "\n",
    "! pip install -r ./requirements.txt"
   ]
  },
  {
   "attachments": {},
   "cell_type": "markdown",
   "metadata": {},
   "source": [
    "Bist du hingegen ein kleiner Erfinder und unstrukturierter Bastler, dann reicht folgender Kommandozeilenbefehl aus:"
   ]
  },
  {
   "cell_type": "code",
   "execution_count": null,
   "metadata": {},
   "outputs": [],
   "source": [
    "! pip install pydantic"
   ]
  },
  {
   "attachments": {},
   "cell_type": "markdown",
   "metadata": {},
   "source": [
    "## Datenklasse erstellen\n",
    "\n",
    "Eine neue Datenklasse kann ziemlich ähnlich mit pydantic erstellt werden wie mit der `@dataclass`-Annotation. Zu Beachten ist, dass die neue Datenklasse (auch Model genannt) von der pydantic-Klasse `BaseModel` erben muss, sprich nach dem Namen der Klasse muss in Klammern `BaseModel` angegeben werden:"
   ]
  },
  {
   "cell_type": "code",
   "execution_count": null,
   "metadata": {},
   "outputs": [],
   "source": [
    "from pydantic import BaseModel\n",
    "\n",
    "\n",
    "class Tree(BaseModel):\n",
    "    # Instanz-Variablen\n",
    "    species: str\n",
    "    height: float\n",
    "\n",
    "    def describe(self):\n",
    "        return f\"This tree is a {self.species} and is {self.height} m tall.\""
   ]
  },
  {
   "attachments": {},
   "cell_type": "markdown",
   "metadata": {},
   "source": [
    "Die Klasse kann dan ziemlich ähnlich wie eine `@dataclass`-Klasse verwendet werden.\n",
    "\n",
    "Beachte, dass beim Konstruktor die Namen der Argumente angegeben werden muss:"
   ]
  },
  {
   "cell_type": "code",
   "execution_count": null,
   "metadata": {},
   "outputs": [],
   "source": [
    "dracula_tree = Tree(species=\"Dracula Orchid\", height=0.2)\n",
    "\n",
    "dracula_tree.describe()\n"
   ]
  },
  {
   "attachments": {},
   "cell_type": "markdown",
   "metadata": {},
   "source": [
    "## Validierung\n",
    "Pydantic wird oft auch dafür verwendet, um Python mit Features zu versehen, die typisierte Programmiersprachen oft schon mitbringen: Prüfen, ob der Datentyp bei einer Zuweisung stimmt.\n",
    "\n",
    "Bei unserem Model (=Datenklasse) haben wir angegeben, dass die `height` vom Typ `float` ist. Pydantic berücksichtigt diese Information und wirft einen Fehler, wenn etwas anderes als eine Zahl versucht wird, zuzuweisen:"
   ]
  },
  {
   "cell_type": "code",
   "execution_count": null,
   "metadata": {},
   "outputs": [],
   "source": [
    "dracula_tree = Tree(species=\"Baobab Tree\", height=\"twenty\")"
   ]
  },
  {
   "attachments": {},
   "cell_type": "markdown",
   "metadata": {},
   "source": [
    "Zusätzlich ist es möglich, weitere Bedingungen an die Variablen zu knüpfen, bspw. dass die Höhe grösser als `0` sein muss. Hierfür weisen wir dem Feld den Rückgabewert der Funktion `Field(...)` zu:"
   ]
  },
  {
   "cell_type": "code",
   "execution_count": null,
   "metadata": {},
   "outputs": [],
   "source": [
    "from pydantic import BaseModel, Field\n",
    "\n",
    "class Tree(BaseModel):\n",
    "    species: str = Field(..., description=\"The species of the tree.\")\n",
    "    height: float = Field(..., gt=0, description=\"The height of the tree in meters.\")\n"
   ]
  },
  {
   "attachments": {},
   "cell_type": "markdown",
   "metadata": {},
   "source": [
    "Das `description`-Argument hat keine Funkion. Sie wird oft dafür verwendet, um den Sinn und die Verwendung der Variable zu dokumentieren, damit ein andere(r) Entwickler:in versteht, wofür die Variable verwendet wird.\n",
    "\n",
    "Für die Variable `height` wurde das Argument `gt` spezifiziert. Dies steht für \"greater than\" (also grösser als). Mit diesem optionalen Argument können wir festlegen, dass keine Werte unter 0 akzeptiert werden.\n",
    "\n",
    "Folglich sollte folgendes funktionieren:"
   ]
  },
  {
   "cell_type": "code",
   "execution_count": null,
   "metadata": {},
   "outputs": [],
   "source": [
    "pancake_tree = Tree(species=\"Pancake Tree\", height=13)"
   ]
  },
  {
   "attachments": {},
   "cell_type": "markdown",
   "metadata": {},
   "source": [
    "Und folgendes natürlich nicht:"
   ]
  },
  {
   "cell_type": "code",
   "execution_count": null,
   "metadata": {},
   "outputs": [],
   "source": [
    "dwarf_willow_tree = Tree(species=\"Dwarf Willow\", height=-0.02)"
   ]
  },
  {
   "attachments": {},
   "cell_type": "markdown",
   "metadata": {},
   "source": [
    "Neben `gt` gibt es viele weitere Parameter, die hilfreich im Bezug auf Validierung sind. Hier sind einige aufgelistet:\n",
    "* `gt`: grösser als.\n",
    "* `ge`: Grösser oder gleich.\n",
    "* `lt`: Kleiner als.\n",
    "* `le`: Kleiner oder gleich.\n",
    "* `ne`: ungleich.\n",
    "* `anystr_length`: Länge eines Strings.\n",
    "* `regex`: Regex, der die Variable \"matchen\" muss.\n",
    "* `email`: Muss eine Email sein.\n",
    "* `url`: Muss eine URL sein.\n",
    "* `positive`: Muss eine positive Zahl sein.\n",
    "* `negative`: Muss eine negative Zahl sein.\n",
    "* `none`: Nur `None` ist als Wert zulässig.\n",
    "\n",
    "Hier findest du mehr Parameter und Beispiele: https://docs.pydantic.dev/latest/usage/schema/#field-customization-parameters"
   ]
  },
  {
   "attachments": {},
   "cell_type": "markdown",
   "metadata": {},
   "source": [
    "## Serialization\n",
    "\n",
    "Unter diesem Begriff verstehen wir das Umwandeln vom Objekt in ein \"serialisiertes\" Format wie JSON, XML oder YAML. Pydantic unterstützt das Konvertieren in JSON.\n",
    "\n",
    "Nehmen wir als Beispiel folgendes als Objekt:"
   ]
  },
  {
   "cell_type": "code",
   "execution_count": null,
   "metadata": {},
   "outputs": [],
   "source": [
    "corkscrew_tree = Tree(species=\"Corkscrew Willow\", height=7)"
   ]
  },
  {
   "attachments": {},
   "cell_type": "markdown",
   "metadata": {},
   "source": [
    "Möchten wir das Objekt als Dictionary präsentiert haben, dann bekommen wir dies mit der `json()`-Methode:"
   ]
  },
  {
   "cell_type": "code",
   "execution_count": null,
   "metadata": {},
   "outputs": [],
   "source": [
    "tree_as_dict = corkscrew_tree.dict()\n",
    "tree_as_dict"
   ]
  },
  {
   "attachments": {},
   "cell_type": "markdown",
   "metadata": {},
   "source": [
    "Wenn wir es direkt als JSON-String haben möchten, dann reicht dies aus:"
   ]
  },
  {
   "cell_type": "code",
   "execution_count": null,
   "metadata": {},
   "outputs": [],
   "source": [
    "tree_as_json = corkscrew_tree.json()\n",
    "tree_as_json"
   ]
  },
  {
   "attachments": {},
   "cell_type": "markdown",
   "metadata": {},
   "source": [
    "## Deserialization\n",
    "Deserialization ist Serialization in die andere Richtung:\n",
    "\n",
    "Wir haben z.B. einen JSON-String und möchten daraus ein Objekt instantiieren:"
   ]
  },
  {
   "cell_type": "code",
   "execution_count": null,
   "metadata": {},
   "outputs": [],
   "source": [
    "json_string = '{\"species\": \"Elephant Foot Yam Tree\", \"height\": 2.5}'\n",
    "\n",
    "elephant_tree = Tree.parse_raw(json_string)\n",
    "\n",
    "elephant_tree"
   ]
  },
  {
   "attachments": {},
   "cell_type": "markdown",
   "metadata": {},
   "source": [
    "Und wenn wir von einem Dictionary aus deserialisieren möchten:"
   ]
  },
  {
   "cell_type": "code",
   "execution_count": null,
   "metadata": {},
   "outputs": [],
   "source": [
    "dictionary = {\"species\": \"Tickle-Me-Not Tree\", \"height\": 1.5}\n",
    "\n",
    "tickle_me_not_tree = Tree.parse_obj(dictionary)\n",
    "\n",
    "tickle_me_not_tree"
   ]
  }
 ],
 "metadata": {
  "kernelspec": {
   "display_name": "Python 3",
   "language": "python",
   "name": "python3"
  },
  "language_info": {
   "codemirror_mode": {
    "name": "ipython",
    "version": 3
   },
   "file_extension": ".py",
   "mimetype": "text/x-python",
   "name": "python",
   "nbconvert_exporter": "python",
   "pygments_lexer": "ipython3",
   "version": "3.11.3"
  },
  "orig_nbformat": 4
 },
 "nbformat": 4,
 "nbformat_minor": 2
}
