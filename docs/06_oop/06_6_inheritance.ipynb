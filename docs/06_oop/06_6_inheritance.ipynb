{
 "cells": [
  {
   "attachments": {},
   "cell_type": "markdown",
   "metadata": {},
   "source": [
    "# Vererbung\n",
    "\n",
    "Vererbung erlaubt es, neue Klassen auf Grundlage anderer zu erstellen.\n",
    "\n",
    "Die neue Klasse wird oft _Subklasse_ oder _Child-Klasse_ genannt, während die alte Klasse, von welcher \"geerbt\" wird, _Parent_- oder _Base-Klasse_ genannt wird.\n",
    "\n",
    "Nehmen wir das Beispiel von `User`n:\n",
    "* Alle User haben einen `username`.\n",
    "* Alle User haben ein Profil, das man anschauen kann.\n",
    "\n",
    "Als Klasse könnte `User` so aussehen:"
   ]
  },
  {
   "cell_type": "code",
   "execution_count": null,
   "metadata": {},
   "outputs": [],
   "source": [
    "from dataclasses import dataclass\n",
    "\n",
    "\n",
    "@dataclass\n",
    "class User:\n",
    "    username: str\n",
    "\n",
    "    def show_profile(self):\n",
    "        print(f\"This is User {self.username}\")"
   ]
  },
  {
   "attachments": {},
   "cell_type": "markdown",
   "metadata": {},
   "source": [
    "`Admin`s sind auch `User`, besitzen alle Eigenschaften von `User`n und können noch mehr:\n",
    "* Sie können andere User verwalten.\n",
    "\n",
    "Dass `Admin`s alle Eigenschaften von `User` erben soll, kann erreicht werden, indem die Parent-Klasse `User` in Klammern neben dem neuen Klassennamen hingeschrieben wird:"
   ]
  },
  {
   "cell_type": "code",
   "execution_count": null,
   "metadata": {},
   "outputs": [],
   "source": [
    "class Admin(User):\n",
    "    def manage_user(self, other: User, new_username):\n",
    "        other.username = new_username"
   ]
  },
  {
   "attachments": {},
   "cell_type": "markdown",
   "metadata": {},
   "source": [
    "Nun können wir Objekte von der Klasse `User` und `Admin` erstellen:"
   ]
  },
  {
   "cell_type": "code",
   "execution_count": null,
   "metadata": {},
   "outputs": [],
   "source": [
    "# User (kein Admin):\n",
    "user123 = User(\"user123\")\n",
    "pierre: User = User(\"pièrre\")\n",
    "\n",
    "# Admins:\n",
    "tux = Admin(\"tux\")\n",
    "root: User = Admin(\"root\")\n",
    "chuck_norris: Admin = Admin(\"chuck_norris\")"
   ]
  },
  {
   "attachments": {},
   "cell_type": "markdown",
   "metadata": {},
   "source": [
    "Auf allen diesen Objekten können wir das Profil anschauen, da dies bei allen `User`n möglich ist. Die `Admin`s besitzen auch diese Methode, weil die Klasse die Methode von `User` geerbt hat:"
   ]
  },
  {
   "cell_type": "code",
   "execution_count": null,
   "metadata": {},
   "outputs": [],
   "source": [
    "user123.show_profile()\n",
    "pierre.show_profile()\n",
    "\n",
    "# Admins:\n",
    "tux.show_profile()\n",
    "root.show_profile()\n",
    "chuck_norris.show_profile()"
   ]
  },
  {
   "attachments": {},
   "cell_type": "markdown",
   "metadata": {},
   "source": [
    "Die `manage_user(...)`-Medhode hingegen existiert nur für `Admin`s:"
   ]
  },
  {
   "cell_type": "code",
   "execution_count": null,
   "metadata": {},
   "outputs": [],
   "source": [
    "tux.manage_user(user123, \"user1\")\n",
    "root.manage_user(user123, \"user2\")\n",
    "chuck_norris.manage_user(user123, \"user3\")"
   ]
  },
  {
   "attachments": {},
   "cell_type": "markdown",
   "metadata": {},
   "source": [
    "Das Konzept der Vererbung folgt dem Prinzip der Wiederverwendung von Code. Das bedeutet, dass du nicht für alle Subklassen die gleichen Methoden selber neu implementieren musst, sondern, dass es reicht, dass du sie in der Base-Klasse implementierst."
   ]
  },
  {
   "attachments": {},
   "cell_type": "markdown",
   "metadata": {},
   "source": [
    "## \"Is-A\"-Beziehung\n",
    "\n",
    "Beim Definieren der Variable `root` ist dir sicher aufgefallen, dass wir ein `Admin`-Objekt einer `User`-Variable zugewiesen haben:\n",
    "\n",
    "```python\n",
    "root: User = Admin(\"root\")\n",
    "```\n",
    "\n",
    "Zu Beginn haben wir gesagt, dass die Variable vom Typ `User` sein soll: `root: User`.\n",
    "\n",
    "Rechts nach dem `=`-Operator folgt dann aber ein Objekt vom Typ `Admin`. Dies ist zulässig, weil ein `Admin` auch ein `User` ist (\"ist-ein\"-Beziehung), umgekehrt aber nicht zwingend.\n",
    "\n",
    "Möchten wir herausfinden, ob ein Objekt eine Instanz von einer bestimmten Klasse ist, dann verwenden wir die `isinstance(object, class)`-Funktion:"
   ]
  },
  {
   "cell_type": "code",
   "execution_count": null,
   "metadata": {},
   "outputs": [],
   "source": [
    "# Prüfen, ob Objekt vom Typ `User` ist:\n",
    "print( isinstance(user123,      User) )\n",
    "print( isinstance(pierre,       User) )\n",
    "print( isinstance(tux,          User) )\n",
    "print( isinstance(root,         User) )\n",
    "print( isinstance(chuck_norris, User) )\n",
    "\n",
    "print(\"\\n\")\n",
    "\n",
    "# Prüfen, ob User Admin ist:\n",
    "print( isinstance(user123,      Admin) )\n",
    "print( isinstance(pierre,       Admin) )\n",
    "print( isinstance(tux,          Admin) )\n",
    "print( isinstance(root,         Admin) )\n",
    "print( isinstance(chuck_norris, Admin) )"
   ]
  },
  {
   "attachments": {},
   "cell_type": "markdown",
   "metadata": {},
   "source": [
    "Diese Eigenschaft kann in sich als sehr nützlich herausstellen.\n",
    "\n",
    "Z.B. wenn wir eine Funktion schreibt, die etwas mit Objekten macht, die entweder vom Typ `User` oder `Admin` sind:"
   ]
  },
  {
   "cell_type": "code",
   "execution_count": null,
   "metadata": {},
   "outputs": [],
   "source": [
    "def get_all_usernames(users: list[User]) -> list[str]:\n",
    "    usernames = [user.username for user in users]\n",
    "\n",
    "    return usernames\n",
    "\n",
    "\n",
    "get_all_usernames([user123, pierre, tux, root, chuck_norris])"
   ]
  },
  {
   "attachments": {},
   "cell_type": "markdown",
   "metadata": {},
   "source": [
    "Wie du gesehen hast, werden auch Admins in der Liste im Parameter akzeptiert.\n",
    "\n",
    "Folglich reicht es vollkommen aus, diese Methode 1-mal zu implementieren. Zusätzlich wird sie für alle weiteren Sub-Klassen funktionieren, die in der Zukunft geschrieben wird.\n",
    "\n",
    "Mit Vererbung können wir in vielen Fällen sehr viel Zeilen Code sparen."
   ]
  },
  {
   "attachments": {},
   "cell_type": "markdown",
   "metadata": {},
   "source": [
    "## Methoden überschreiben\n",
    "Oft möchtest du eine Methode in einer Sub-Klasse ein bisschen abändern. Das kannst du machen, indem du die genau gleiche Methode in der Sub-Klasse neu definierst (hier `get_privileges()`):"
   ]
  },
  {
   "cell_type": "code",
   "execution_count": null,
   "metadata": {},
   "outputs": [],
   "source": [
    "from dataclasses import dataclass\n",
    "from typing_extensions import override\n",
    "\n",
    "\n",
    "@dataclass\n",
    "class User:\n",
    "    username: str\n",
    "\n",
    "    def get_privileges(self):\n",
    "        return [\"read\"]\n",
    "\n",
    "\n",
    "class Admin(User):\n",
    "    @override\n",
    "    def get_privileges(self):\n",
    "        return [\"read\", \"write\"]\n"
   ]
  },
  {
   "attachments": {},
   "cell_type": "markdown",
   "metadata": {},
   "source": [
    "Wenn du nun `get_privileges()` auf einem `User`-Objekt aufrufst, dann wird die Methode in `User` aufgerufen.\n",
    "\n",
    "Da du diese Methode in `Admin` überschrieben hast, wird die neue Methode aufgerufen, wenn du die Methode im `Admin`-Objekt aufrufst:"
   ]
  },
  {
   "cell_type": "code",
   "execution_count": null,
   "metadata": {},
   "outputs": [],
   "source": [
    "user123 = User(\"user123\")\n",
    "root: User = Admin(\"root\")\n",
    "\n",
    "print( user123.get_privileges() )\n",
    "print( root.get_privileges()    )\n"
   ]
  },
  {
   "attachments": {},
   "cell_type": "markdown",
   "metadata": {},
   "source": [
    "Beachte, dass die `@override`-Annotation freiwillig ist. Es ist aber eine Good-Practice, diese Angabe zu machen, damit andere Entwickler:innen sehen, dass die Methode überschrieben wird.\n",
    "\n",
    "Möchtest du, dass in deiner neuen Methode auch die überschriebene Methode aufgerufen wird, dann kannst du in der neuen Methode den Aufruf mit `super.Methoden-Name(Argumente)` ergänzen. In unserem Beispiel müsste das `super().get_privileges()` sein."
   ]
  },
  {
   "attachments": {},
   "cell_type": "markdown",
   "metadata": {},
   "source": [
    "## protected\n",
    "\n",
    "In der Theorie zu Variablen in Klassen wurden verschiedene Sichtbarkeitstufen vorgestellt (public, protected und private).\n",
    "\n",
    "Nun stellen wir dir noch die _protected_-Sichtbarkeitsstufe vor. Methodennamen mit der Sichtbarkeitsstufe _protected_ beginnen mit 1 Underscore (`_`):"
   ]
  },
  {
   "cell_type": "code",
   "execution_count": null,
   "metadata": {},
   "outputs": [],
   "source": [
    "from dataclasses import dataclass\n",
    "\n",
    "\n",
    "@dataclass\n",
    "class User:\n",
    "    _username: str\n",
    "\n",
    "    def get_username(self):\n",
    "        return self._username\n",
    "\n",
    "\n",
    "class Admin(User):\n",
    "    def username_in_capital_letters(self):\n",
    "        return self._username.upper()\n"
   ]
  },
  {
   "attachments": {},
   "cell_type": "markdown",
   "metadata": {},
   "source": [
    "_Protected_ bedeutet in diesem Fall, dass auch die Sub-Klassen (hier `Admin`) die Variable `_username` sehen kann:"
   ]
  },
  {
   "cell_type": "code",
   "execution_count": null,
   "metadata": {},
   "outputs": [],
   "source": [
    "root = Admin(\"root\")\n",
    "\n",
    "print (root.get_username()                  )\n",
    "print (root.username_in_capital_letters()   )"
   ]
  },
  {
   "attachments": {},
   "cell_type": "markdown",
   "metadata": {},
   "source": [
    "Die Meinung hinter der Sichtbarkeitsstufe _protected_ ist, dass nur die Parent- und Sub-Klasse die Variable `_username` sehen können sollen.\n",
    "\n",
    "Folglich sollte folgender Code vermieden werden, obwohl er funktioniert:"
   ]
  },
  {
   "cell_type": "code",
   "execution_count": null,
   "metadata": {},
   "outputs": [],
   "source": [
    "root._username"
   ]
  },
  {
   "attachments": {},
   "cell_type": "markdown",
   "metadata": {},
   "source": [
    "Wichtig zu verstehen ist, dass die Sichtbarkeitsstufe _protected_ nicht wirklich eine Python-Funktion ist, sondern, dass sich die Entwickler:innen daran halten sollen, keine _protected_ Felder aufzurufen.\n",
    "\n",
    "Wenn du also in deinem Code eine Methode oder eine Variable von einem Objekt verwendest, die mit einem Underscore beginnt, dann verletzt du dieses Prinzip. Ausser: du befindest dich in der gleichen Klasse, in welcher die Variable definiert wird, oder in einer Sub-Klasse von ihr."
   ]
  }
 ],
 "metadata": {
  "kernelspec": {
   "display_name": "Python 3",
   "language": "python",
   "name": "python3"
  },
  "language_info": {
   "codemirror_mode": {
    "name": "ipython",
    "version": 3
   },
   "file_extension": ".py",
   "mimetype": "text/x-python",
   "name": "python",
   "nbconvert_exporter": "python",
   "pygments_lexer": "ipython3",
   "version": "3.11.3"
  },
  "orig_nbformat": 4
 },
 "nbformat": 4,
 "nbformat_minor": 2
}
