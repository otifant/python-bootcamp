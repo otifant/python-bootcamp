{
 "cells": [
  {
   "attachments": {},
   "cell_type": "markdown",
   "metadata": {},
   "source": [
    "# Magic Methods\n",
    "In der vorherigen Einführung zu Klassen haben wir bereits eine Art kennengelernt, wie Methoden (=Funktionen) in Klassen definiert werden können.\n",
    "\n",
    "In diesem Kapitel möchten wir Dir einige sehr wichtige Standard-Methoden in Klassen näherbringen."
   ]
  },
  {
   "attachments": {},
   "cell_type": "markdown",
   "metadata": {},
   "source": [
    "Unter \"magic methods\" oder \"dunder methods\" verstehen wir Methoden, die von Python aus vordefinierte Namen besitzen und automatisch unter bestimmten Umständen ausgeführt werden."
   ]
  },
  {
   "attachments": {},
   "cell_type": "markdown",
   "metadata": {},
   "source": [
    "## Konstruktor\n",
    "Den Konstruktor hast du bereits bei der Einführung kennengelernt.\n",
    "\n",
    "Der Konstruktor muss den Namen `__init__` haben."
   ]
  },
  {
   "cell_type": "code",
   "execution_count": null,
   "metadata": {},
   "outputs": [],
   "source": [
    "class Tree:\n",
    "    # Konstruktor\n",
    "    def __init__(self, species, height):\n",
    "        self.species = species\n",
    "        self.height = height\n",
    "\n",
    "\n",
    "oak = Tree(\"oak\", 10)\n",
    "\n",
    "print(oak.species)\n",
    "print(oak.height)"
   ]
  },
  {
   "attachments": {},
   "cell_type": "markdown",
   "metadata": {},
   "source": [
    "Den Konstruktor haben wir hier auf folgende Weise aufgerufen: `Tree(\"oak\", 10)`.\n",
    "\n",
    "Wir rufen den Konstruktor also auf, indem wir den Namen der Klasse angeben und dann in Klammern Werte für die Argumente mitgeben.\n",
    "\n",
    "Das Argument `self` muss nie manuell gesetzt werden. Der wird praktisch immer automatisch übergeben. Beim Konstruktor ist es das Objekt, das neu erstellt wird."
   ]
  },
  {
   "attachments": {},
   "cell_type": "markdown",
   "metadata": {},
   "source": [
    "## To String\n",
    "Wenn wir ein Objekt direkt mit `print(...)` ausgeben, dann möchten wir einen nützlichen Text sehen.\n",
    "\n",
    "Hierfür gibt es die `__str__`-Methode, die automatisch ein Objekt in einen String konvertiert. Siehe dieses Beispiel:"
   ]
  },
  {
   "cell_type": "code",
   "execution_count": null,
   "metadata": {},
   "outputs": [],
   "source": [
    "class Tree:\n",
    "    # Konstruktor\n",
    "    def __init__(self, species, height):\n",
    "        self.species = species\n",
    "        self.height = height\n",
    "\n",
    "    # To String\n",
    "    def __str__(self):\n",
    "        return f\"This tree is a {self.species} and is {self.height} m tall.\""
   ]
  },
  {
   "attachments": {},
   "cell_type": "markdown",
   "metadata": {},
   "source": [
    "Wenn wir nun ein Objekt dieses Types `print`en, dann wird automatisch der Rückgabewert dieser `__str__`-Methode verwendet:"
   ]
  },
  {
   "cell_type": "code",
   "execution_count": null,
   "metadata": {},
   "outputs": [],
   "source": [
    "oak = Tree(\"oak\", 10)\n",
    "\n",
    "print(  oak  )"
   ]
  },
  {
   "attachments": {},
   "cell_type": "markdown",
   "metadata": {},
   "source": [
    "Möchtest du ein Objekt in eine String-Variable packen, dann kannst du das mit der `str(...)`-Funktion tun:"
   ]
  },
  {
   "cell_type": "code",
   "execution_count": null,
   "metadata": {},
   "outputs": [],
   "source": [
    "variable = str(oak)\n",
    "\n",
    "variable"
   ]
  },
  {
   "attachments": {},
   "cell_type": "markdown",
   "metadata": {},
   "source": [
    "Die `str(...)`-Funktion ruft automatisch die `__str__(self)`-Methode des Objektes auf."
   ]
  },
  {
   "attachments": {},
   "cell_type": "markdown",
   "metadata": {},
   "source": [
    "## String Representation eines Objektes\n",
    "\n",
    "Sehr bekannt ist auch die Methode `__repr__(self)`. Sie erfüllt praktisch den gleichen Zweck wie `__str__`.\n",
    "\n",
    "Wenn sie nicht definiert ist, gibt sie (wie `__str__` auch) zurück, was für eine Klasse hinter dem Objekt steckt und wo im Arbeitsspeicher sie gespeichert ist:"
   ]
  },
  {
   "cell_type": "code",
   "execution_count": null,
   "metadata": {},
   "outputs": [],
   "source": [
    "print(str(oak))\n",
    "print(repr(oak))"
   ]
  },
  {
   "attachments": {},
   "cell_type": "markdown",
   "metadata": {},
   "source": [
    "Die `__repr__`-Funktion wird eher im Debugging-Umfeld verwendet.\n",
    "\n",
    "Aber zuerst einmal ein Beispiel, wie sie definiert sein könnte:"
   ]
  },
  {
   "cell_type": "code",
   "execution_count": null,
   "metadata": {},
   "outputs": [],
   "source": [
    "class Tree:\n",
    "    # Konstruktor\n",
    "    def __init__(self, species, height):\n",
    "        self.species = species\n",
    "        self.height = height\n",
    "\n",
    "    # To String\n",
    "    def __str__(self) -> str:\n",
    "        return f\"This tree is a {self.species} and is {self.height} m tall.\"\n",
    "    \n",
    "    # Repr\n",
    "    def __repr__(self) -> str:\n",
    "        return f\"Tree: species: {self.species}, height: {self.height}\""
   ]
  },
  {
   "attachments": {},
   "cell_type": "markdown",
   "metadata": {},
   "source": [
    "Versuche im folgenden Code einen Break-Point bei der ersten `print(...)`-Anweisung zu aktivieren und den den Code zu debuggen:"
   ]
  },
  {
   "cell_type": "code",
   "execution_count": null,
   "metadata": {},
   "outputs": [],
   "source": [
    "pine = Tree(\"pine\", 8)\n",
    "\n",
    "print(str(pine))\n",
    "print(repr(pine))"
   ]
  },
  {
   "attachments": {},
   "cell_type": "markdown",
   "metadata": {},
   "source": [
    "Dann wirst du sehen, dass bei der Schnell-Ansicht des Debuggers für die Variable der Wert der `__repr__`-Methode angezeigt wird:\n",
    "\n",
    "![Debugging mit repr](./06_2_repr_debug.png)"
   ]
  },
  {
   "attachments": {},
   "cell_type": "markdown",
   "metadata": {},
   "source": [
    "## Weitere Magic Methods\n",
    "\n",
    "Weitere solche Magic Methods sind hier aufgelistet: https://docs.python.org/3/reference/datamodel.html#special-method-names\n",
    "\n",
    "Hier noch eine Zusammenfassung von den bekanntesten. Du wirst keinen davon zwingend brauchen, ist aber gut zu wissen, was Du alles übersteuern kannst:\n",
    "\n",
    "* `__len__`: Gibt den Wert für den Aufruf von `len(...)`.\n",
    "* Vergleichen von zwei Objekten:\n",
    "    * `__eq__`: Operator `==`.\n",
    "    * `__ne__`: Operator `!=`.\n",
    "    * `__lt__`: Operator `<`.\n",
    "    * `__gt__`: Operator `>`.\n",
    "    * `__le__`: Operator `<=`.\n",
    "    * `__ge__`: Operator `>=`.\n",
    "* Mathematische Operationen:\n",
    "    * `__add__`: Operator `+`.\n",
    "    * `__sub__`: Operator `-`.\n",
    "    * `__mul__`: Operator `*`.\n",
    "    * `__div__`: Operator `/`.\n",
    "    * `__mod__`: Operator `%` (Modulo).\n",
    "    * `__pow__`: Operator `**` (Hochrechnen).\n",
    "* Container Types:\n",
    "    * `__getitem__`: Zugriff auf ein Element mit [].\n",
    "    * `__setitem__`: Setzen eines Elements mit [].\n",
    "    * `__contains__`: Prüfen, ob ein anderes Element in diesem Objekt drin ist. Verwendet für den `in`-Operator.\n",
    "* `with`-Statement:\n",
    "    * `__enter__`: Wird beim Betreten eines `with`-Blocks aufgerufen.\n",
    "    * `__exit__`: Wird beim Verlassen eines `with`-Blocks aufgerufen."
   ]
  }
 ],
 "metadata": {
  "kernelspec": {
   "display_name": "Python 3",
   "language": "python",
   "name": "python3"
  },
  "language_info": {
   "codemirror_mode": {
    "name": "ipython",
    "version": 3
   },
   "file_extension": ".py",
   "mimetype": "text/x-python",
   "name": "python",
   "nbconvert_exporter": "python",
   "pygments_lexer": "ipython3",
   "version": "3.11.3"
  },
  "orig_nbformat": 4
 },
 "nbformat": 4,
 "nbformat_minor": 2
}
