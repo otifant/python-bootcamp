{
 "cells": [
  {
   "attachments": {},
   "cell_type": "markdown",
   "metadata": {},
   "source": [
    "# Methoden-Arten\n",
    "\n",
    "Im Zusammenhang mit Klassen solltest du zwischen diesen Arten von Methoden unterscheiden können:\n",
    "* Instanz-Methoden (gewöhnliche Methoden)\n",
    "* Statische Methoden (`@staticmethod` und `@classmethod`)\n",
    "\n",
    "In den aller meisten Fällen wirst du Instanz-Methoden verwenden, statische Methoden können aber manchmal sehr nützlich sein."
   ]
  },
  {
   "attachments": {},
   "cell_type": "markdown",
   "metadata": {},
   "source": [
    "## Instanz-Methoden\n",
    "\n",
    "Instanz-Methoden wurden vorher schon vorgestellt. Sie sind Methoden, die dann auf einer Instanz (also einem Objekt) ausgeführt werden.\n",
    "\n",
    "Für folgende Klasse definieren wir genau 1 neue Instanz-Methode (`talk`):"
   ]
  },
  {
   "cell_type": "code",
   "execution_count": null,
   "metadata": {},
   "outputs": [],
   "source": [
    "class Tree:\n",
    "    # Instanz-Methode\n",
    "    def talk(self):\n",
    "        return \"Hello I'm a rubber tree and I'm just standing here a little, like this.\""
   ]
  },
  {
   "attachments": {},
   "cell_type": "markdown",
   "metadata": {},
   "source": [
    "Möchten wir nun diese Methode aufrufen, dann müssen wir zuerst eine Instanz (also ein Objekt) dieser Klasse erzeugen:"
   ]
  },
  {
   "cell_type": "code",
   "execution_count": null,
   "metadata": {},
   "outputs": [],
   "source": [
    "rubber_tree = Tree()"
   ]
  },
  {
   "attachments": {},
   "cell_type": "markdown",
   "metadata": {},
   "source": [
    "Und anschliessend können wir die Methode auf der Instanz aufrufen:"
   ]
  },
  {
   "cell_type": "code",
   "execution_count": null,
   "metadata": {},
   "outputs": [],
   "source": [
    "rubber_tree.talk()"
   ]
  },
  {
   "attachments": {},
   "cell_type": "markdown",
   "metadata": {},
   "source": [
    "Was hingegen nicht funktioniert, ist, die Methode direkt auf der Klasse auszuführen:"
   ]
  },
  {
   "cell_type": "code",
   "execution_count": null,
   "metadata": {},
   "outputs": [],
   "source": [
    "Tree.talk()"
   ]
  },
  {
   "attachments": {},
   "cell_type": "markdown",
   "metadata": {},
   "source": [
    "Führst du den vorherigen Code aus, dann wird reklamiert, dass das Argument `self` nicht übergeben wurde...\n",
    "\n",
    "Rufst du die Methode auf einer Instanz (hier `rubber_tree`) auf, dann wird implizit die Instanz als erstes Argument übergeben (für den Parameter `self`).\n",
    "\n",
    "`rubber_tree.talk()` ruft im Prinzip das auf:"
   ]
  },
  {
   "cell_type": "code",
   "execution_count": null,
   "metadata": {},
   "outputs": [],
   "source": [
    "Tree.talk(rubber_tree)"
   ]
  },
  {
   "attachments": {},
   "cell_type": "markdown",
   "metadata": {},
   "source": [
    "Kurz zusammengefasst, eine Instanz-Methode\n",
    "* ist immer mit einer Instanz (Objekt) verknüpft und muss daher auf einem Objekt (nicht der Klasse direkt) ausgeführt werden\n",
    "* und hat immer `self` als erstes Argument im Parameter."
   ]
  },
  {
   "attachments": {},
   "cell_type": "markdown",
   "metadata": {},
   "source": [
    "## Statische Methoden\n",
    "In bestimmten Fällen kommt es vor, dass du eine Methode in einer Klasse haben willst, du aber für den Aufruf der Methode noch kein Objekt der Klasse instantiiert haben willst oder kannst."
   ]
  },
  {
   "attachments": {},
   "cell_type": "markdown",
   "metadata": {},
   "source": [
    "### @classmethod\n",
    "\n",
    "Ein bekanntes Beispiel für eine statische \"Klassen-Methode\" ist das instantiieren eines neues Objektes anhand eines speziellen Datentypes wie einem Dictionary. Im folgenden Beispiel erhalten wir ein Dictionary als Input und wandeln es in ein Objekt der Klasse `Tree` um:"
   ]
  },
  {
   "cell_type": "code",
   "execution_count": null,
   "metadata": {},
   "outputs": [],
   "source": [
    "class Tree:\n",
    "    # Konstruktor\n",
    "    def __init__(self, species, height):\n",
    "        self.species = species\n",
    "        self.height = height\n",
    "\n",
    "    # Instanz-Methode\n",
    "    def describe(self):\n",
    "        return f\"This tree is a {self.species} and is {self.height} m tall.\"\n",
    "\n",
    "    # Klassen-Methode\n",
    "    @classmethod\n",
    "    def from_dict(cls, my_dict: dict):\n",
    "        return cls(my_dict[\"species\"], my_dict[\"height\"])\n"
   ]
  },
  {
   "attachments": {},
   "cell_type": "markdown",
   "metadata": {},
   "source": [
    "Und so rufen wir sie auf:"
   ]
  },
  {
   "cell_type": "code",
   "execution_count": null,
   "metadata": {},
   "outputs": [],
   "source": [
    "my_input = {\n",
    "    \"species\": \"oak\",\n",
    "    \"height\": 10,\n",
    "}\n",
    "\n",
    "oak = Tree.from_dict(my_input)\n",
    "\n",
    "oak.describe()\n"
   ]
  },
  {
   "attachments": {},
   "cell_type": "markdown",
   "metadata": {},
   "source": [
    "Der Fokus in diesem Beispiel liegt auf der statischen Klassen-Methode:\n",
    "```python\n",
    "@classmethod\n",
    "def from_dict(cls, my_dict: dict):\n",
    "    return cls(my_dict[\"species\"], my_dict[\"height\"])\n",
    "```\n",
    "\n",
    "Die Annotation `@classmethod` bewirkt, dass\n",
    "* die Methode direkt auf der Klasse aufgerufen werden kann\n",
    "* und dass das erste Argument `cls` automatisch übergeben wird.\n",
    "\n",
    "Das erste Argument `cls` ist ist kurz und steht für `class`. In diesem Beispiel ist `cls = Tree`.\n",
    "\n",
    "Die Anweisung\n",
    "```python\n",
    "cls(\"oak\", 10)\n",
    "```\n",
    "\n",
    "ist im Prinzip das Gleiche wie\n",
    "```python\n",
    "Tree(\"oak\", 10)\n",
    "```\n",
    "\n",
    "In diesem statischen Kontext hast du aber möglicherweise noch kein Zugriff auf die Klasse `Tree` und musst womöglich wie in diesem Beispiel über `@classmethod` und `cls` kehren."
   ]
  },
  {
   "attachments": {},
   "cell_type": "markdown",
   "metadata": {},
   "source": [
    "### @staticmethod\n",
    "\n",
    "Mit `@staticmethod` kannst du statische Methoden definieren. Im Gegensatz zu `@classmethod` wirst du keine Referenz auf die Klasse selber benötigen. Deswegen entfällt der erste Parameter `cls`."
   ]
  },
  {
   "cell_type": "code",
   "execution_count": null,
   "metadata": {},
   "outputs": [],
   "source": [
    "class Tree:\n",
    "    # statische Methode (ohne cls)\n",
    "    @staticmethod\n",
    "    def random_quote() -> str:\n",
    "        # source of quote: unknown.\n",
    "        return \"Trees are nature's way of showing us that even when we're rooted, we can still branch out.\""
   ]
  },
  {
   "attachments": {},
   "cell_type": "markdown",
   "metadata": {},
   "source": [
    "Die Methode kannst du nun wie folgt aufrufen:"
   ]
  },
  {
   "cell_type": "code",
   "execution_count": null,
   "metadata": {},
   "outputs": [],
   "source": [
    "Tree.random_quote()"
   ]
  },
  {
   "cell_type": "code",
   "execution_count": null,
   "metadata": {},
   "outputs": [],
   "source": []
  }
 ],
 "metadata": {
  "kernelspec": {
   "display_name": "Python 3",
   "language": "python",
   "name": "python3"
  },
  "language_info": {
   "codemirror_mode": {
    "name": "ipython",
    "version": 3
   },
   "file_extension": ".py",
   "mimetype": "text/x-python",
   "name": "python",
   "nbconvert_exporter": "python",
   "pygments_lexer": "ipython3",
   "version": "3.11.3"
  },
  "orig_nbformat": 4
 },
 "nbformat": 4,
 "nbformat_minor": 2
}
