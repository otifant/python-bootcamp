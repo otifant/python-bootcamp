{
 "cells": [
  {
   "attachments": {},
   "cell_type": "markdown",
   "metadata": {},
   "source": [
    "# Python Ausbildungsproramm\n",
    "Willkommen zum Python Ausbildungsproramm.\n",
    "Java solltest du bereits kennen. Begriffe wie Variable, Array, Methode sind dir keine Fremdwörter.\n",
    "\n",
    "Python ist einer der beliebtesten Programmiersprachen. Sie wurde 1991 von Guido van Rossum, einem niederländischen Softwareentwickler erschaffen.\n",
    "Python wird oft in folgenden Bereichen angewendet:\n",
    "\n",
    "* Web development (server seitig)\n",
    "* Software entwicklung\n",
    "* mathematische Anwendungen\n",
    "* Systemskripting\n",
    "\n",
    "Eine Einzigartigkeit von Python ist die Leserlickeit. Python liest sich fast wie die englische Sprache, das wirst im Verlauf der Einführung noch merken.\n",
    "\n",
    "Wir starten nun direkt mit dem Klassiker, dem Hello World Programm."
   ]
  },
  {
   "cell_type": "code",
   "execution_count": null,
   "metadata": {},
   "outputs": [],
   "source": [
    "print(\"Hello World!\")  # Output: Hello World!"
   ]
  },
  {
   "attachments": {},
   "cell_type": "markdown",
   "metadata": {},
   "source": [
    "Ziemlich simpel, oder? Die Methode `print()` nimmt einen String und gibt ihn in der Kommandozeile aus.\n",
    "Jede `print()` Anweisung schreibt dabei auf eine neue Zeile. Beachte, das in Python keine Semikolons benutzt werden.\n",
    "Jedes Statement im Code wird hierbei auf eine neue Zeile geschrieben, ohne Semikolon.\n",
    "Kommentare werden mit einem `#` Zeichen eingeleitet.\n",
    "Eine main Methode wie in vielen anderen Programmiersprachen braucht es nicht.\n",
    "\n",
    "Ein sehr wichtiger Punkt, welcher Python von praktisch allen anderen Programmiersprachen unterscheidet ist, \n",
    "dass Code-Blöcke nicht durch geschweifte Klammern `{}` abgetrennt werden, sondern durch Einrückungen.\n",
    "\n",
    "Hier ein kleines Beispiel:"
   ]
  },
  {
   "cell_type": "code",
   "execution_count": null,
   "metadata": {},
   "outputs": [],
   "source": [
    "if True:\n",
    "    print(\"x is 1.\")\n",
    "\n",
    "while False:\n",
    "    if True:\n",
    "        print(\"Hallo\")\n",
    "    else:\n",
    "        break"
   ]
  }
 ],
 "metadata": {
  "kernelspec": {
   "display_name": "Python 3",
   "language": "python",
   "name": "python3"
  },
  "language_info": {
   "name": "python",
   "version": "3.9.13"
  },
  "orig_nbformat": 4
 },
 "nbformat": 4,
 "nbformat_minor": 2
}
