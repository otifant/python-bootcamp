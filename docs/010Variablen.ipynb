{
 "cells": [
  {
   "attachments": {},
   "cell_type": "markdown",
   "metadata": {},
   "source": [
    "In Python werden variablen initialisiert, sobald sie einen Wert zugewiesen bekommen.\n",
    "Es benötigt weder die Verwendung eines Keywords (wie z.B. new), Noch die Angabe eines Datentypen.\n",
    "Dies ist nämlich nicht erforderlich, da alle variablen als Objekte angesehen werden. Python bestimmt im Hintergrund, um welchen Datentyp es sich hierbei handelt. \n",
    "\n",
    "Das Einfachste Beispiel lautet ganz einfach x = 5\n",
    "\n",
    "In Python ist es üblich ein sogenanntes Snake Case naming zu wählen, nicht wie in Java Camel oder Pascal Case.\n",
    "Dabei werden Wörter einfach mit einem Unterstrich (also \"_\") getrennt. \n",
    "Variablennamen starten wie üblich mit einem Kleinbuchstaben, Klassen mit einem Grossbuchstaben.\n",
    "\n",
    "Einige Beispiele für die Initialisierung und Operationen mit Variablen: "
   ]
  },
  {
   "cell_type": "code",
   "execution_count": null,
   "metadata": {},
   "outputs": [],
   "source": [
    "my_int = 7\n",
    "print(my_int)  # Output: 7\n",
    "\n",
    "my_float = 7.0\n",
    "print(my_float)  # Output: 7.0\n",
    "\n",
    "my_float = float(my_int)  # Typ-casting von int zu float\n",
    "print(my_float)  # Output: 7.0\n",
    "\n",
    "my_string1 = 'Hello'  # Initialisierung eines Strings mit '\n",
    "my_string2 = \"Hello\"  # Initialisierung eines Strings mit \"\n",
    "\n",
    "# Initialisierung mit \", der Apostroph wird hier als character angesehen.\n",
    "my_string3 = \"Don't worry about apostrophes\"\n",
    "# Initialisierung mit ', Anführuns- und Schlusszeichen werden hier als character angesehen.\n",
    "my_string4 = 'I just want to say \"Hello\"'\n",
    "\n",
    "my_int2 = 1\n",
    "my_int3 = 2\n",
    "my_int4 = my_int2 + my_int3\n",
    "print(my_int4)  # Output: 3\n",
    "\n",
    "\n",
    "hello = \"hello\"\n",
    "world = \"world\"\n",
    "hello_world = hello + \" \" + world\n",
    "print(hello_world)  # Output: hello world"
   ]
  },
  {
   "attachments": {},
   "cell_type": "markdown",
   "metadata": {},
   "source": [
    "Aber Vorsicht! Zahlen können nicht mit Strings addiert werden! Folgender Code wirft einen Error:\n"
   ]
  },
  {
   "cell_type": "code",
   "execution_count": 1,
   "metadata": {},
   "outputs": [
    {
     "ename": "TypeError",
     "evalue": "can only concatenate str (not \"int\") to str",
     "output_type": "error",
     "traceback": [
      "\u001b[1;31m---------------------------------------------------------------------------\u001b[0m",
      "\u001b[1;31mTypeError\u001b[0m                                 Traceback (most recent call last)",
      "Cell \u001b[1;32mIn[1], line 5\u001b[0m\n\u001b[0;32m      2\u001b[0m my_number \u001b[39m=\u001b[39m \u001b[39m1\u001b[39m\n\u001b[0;32m      3\u001b[0m my_string \u001b[39m=\u001b[39m \u001b[39m\"\u001b[39m\u001b[39mhello\u001b[39m\u001b[39m\"\u001b[39m\n\u001b[1;32m----> 5\u001b[0m \u001b[39mprint\u001b[39m(my_string \u001b[39m+\u001b[39;49m my_number)  \u001b[39m# TypeError\u001b[39;00m\n",
      "\u001b[1;31mTypeError\u001b[0m: can only concatenate str (not \"int\") to str"
     ]
    }
   ],
   "source": [
    "# This will not work!\n",
    "my_number = 1\n",
    "my_string = \"hello\"\n",
    "\n",
    "print(my_string + my_number)  # TypeError"
   ]
  },
  {
   "attachments": {},
   "cell_type": "markdown",
   "metadata": {},
   "source": [
    "Der Fehler wird hier zu Laufzeit des Programms geworfen, der Compiler bemerkt den Fehler nämlich nicht.\n",
    "Die Lösung des Problems sind sogenannte formatted Strings oder einfach f-Strings. Eine Möglichkeit ist die folgende:"
   ]
  },
  {
   "cell_type": "code",
   "execution_count": null,
   "metadata": {},
   "outputs": [],
   "source": [
    "my_number = 1\n",
    "my_string = \"hello\"\n",
    "\n",
    "# Output: my_number is 1 and my_string is \"hello\"\n",
    "print(f'my_number is {my_number} and my_string is \"{my_string}\"')\n"
   ]
  },
  {
   "attachments": {},
   "cell_type": "markdown",
   "metadata": {},
   "source": [
    "Ein weiteres cooles Feature in Python ist die Mehrfachzuweisung. Folgende Beispiele sind valider Python code:\n"
   ]
  },
  {
   "cell_type": "code",
   "execution_count": null,
   "metadata": {},
   "outputs": [],
   "source": [
    "x, y, z = 10, 41, 5.0\n",
    "a = b = c = \"Hello\""
   ]
  },
  {
   "attachments": {},
   "cell_type": "markdown",
   "metadata": {},
   "source": [
    "Hier wurde x der Wert 10, y der Wert 41 und z den Wert 5.0 zugewiesen.\n",
    "In der zweiten Zeile wurde den Variablen a, b und c jeweils der String \"Hello\" zugewiesen.\n",
    "\n",
    "Zusatz: Casting\n",
    "\n",
    "Wie auch in anderen Programmiersprachen können Datentypen gecastet werden.\n",
    "Folgend einige Beispiele, das Prinzip sollte klar sein:"
   ]
  },
  {
   "cell_type": "code",
   "execution_count": null,
   "metadata": {},
   "outputs": [],
   "source": [
    "a = str(100)  # a = '100'\n",
    "b = int(4.2)  # b = 4\n",
    "c = float(7)  # c = 7.0\n",
    "d = int('42')  # d = 42"
   ]
  }
 ],
 "metadata": {
  "kernelspec": {
   "display_name": "Python 3",
   "language": "python",
   "name": "python3"
  },
  "language_info": {
   "codemirror_mode": {
    "name": "ipython",
    "version": 3
   },
   "file_extension": ".py",
   "mimetype": "text/x-python",
   "name": "python",
   "nbconvert_exporter": "python",
   "pygments_lexer": "ipython3",
   "version": "3.9.13"
  },
  "orig_nbformat": 4
 },
 "nbformat": 4,
 "nbformat_minor": 2
}
