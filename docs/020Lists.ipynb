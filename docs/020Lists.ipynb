{
 "cells": [
  {
   "attachments": {},
   "cell_type": "markdown",
   "metadata": {},
   "source": [
    "In Python gibt es keine Arrays, dafür Listen. \n",
    "Eine Liste (engl \"List\") ist im Prinzip ein Array, benutzt auch die gleiche Syntax wie ein Array in Java, hat aber die Funktionalitäten einer ArrayList.\n",
    "Wir sehen im folgenden Code-Beispiel wie mit Listen gearbeitet werden kann. \n",
    "Da in Python alle Variablen als Objekte gespeichert sind, kann man in eine Liste auch verschiedene Datentypen einfügen.\n",
    "Aber Vorsicht! Dies ist nicht zu empfehlen und Fehleranfällig!\n",
    "Einige Funktionen, wie zum Beispiel das Sortieren funktioniert nicht bei einer Liste mit unterschiedlichen Datentypen!"
   ]
  },
  {
   "cell_type": "code",
   "execution_count": null,
   "metadata": {},
   "outputs": [],
   "source": [
    "my_list = []  # create an empty list\n",
    "my_list.append(1)  # add (int) 1 to the list\n",
    "my_list.append(2)\n",
    "my_list.append(\"Regenschirm\")  # add (str) \"Regenschirm\" to the list\n",
    "print(my_list[0])  # Output: 1\n",
    "print(my_list[1])  # Output: 2\n",
    "print(my_list[2])  # Output: Regenschirm\n",
    "\n",
    "my_list2 = [1, 2, \"Regenschirm\"]  # initialize the same list directly\n",
    "my_list2.pop(0)  # Remove element at pos 0\n",
    "\n",
    "print(my_list2)  # Output: [2, 'Regenschirm']"
   ]
  },
  {
   "attachments": {},
   "cell_type": "markdown",
   "metadata": {},
   "source": [
    "In diesem Beispiel sieht man, dass das Printen einer Liste einfach mit print(list) machbar ist. Es braucht hierfür keine toString Methode wie z.B. in Java.\n",
    "Hilfreiche Operationen bezüglich Listen sind die folgenden:"
   ]
  },
  {
   "cell_type": "code",
   "execution_count": null,
   "metadata": {},
   "outputs": [],
   "source": [
    "list_name = []  # leere Liste initialisieren\n",
    "list_name = {\"element1\", \"element2\"}  # Initialisierung mit Elementen\n",
    "# Initialisierung mit Elementen via Konstruktor\n",
    "list_name = list((\"element1\", \"element2\"))\n",
    "\n",
    "list_name.append(\"element\")  # fügt ein Element am Ende hinzu\n",
    "# fügt das Element an der angegebenen Position hinzu\n",
    "list_name.insert(\"position\", \"element\")\n",
    "\n",
    "list_name.pop(\"position\")  # löscht das Element an der angegebenen Position\n",
    "list_name.remove(\"element\")  # löscht das angegebene Element\n",
    "list_name.clear()  # löscht alle Elemente\n",
    "\n",
    "len(list_name)  # gibt die Länge (anzahl Elemente) zurück\n",
    "list_name.reverse()  # dreht die Reihenfolge der Liste um\n",
    "list_name.sort()  # sortiert die Liste\n",
    "\n",
    "# gibt den Index des ersten elementes mit diesem Wert aus\n",
    "list_name.index(\"element\")"
   ]
  },
  {
   "attachments": {},
   "cell_type": "markdown",
   "metadata": {},
   "source": [
    "Zusatz: \n",
    "Wir haben zuvor die Mehrfachzuweisung von Variablen kennengelernt. \n",
    "Diese können wir nun anwenden, um Werte direkt aus einer Liste zu extrahieren und in Variablen zu speichern.\n",
    "Siehe folgendes Beispiel:"
   ]
  },
  {
   "cell_type": "code",
   "execution_count": null,
   "metadata": {},
   "outputs": [],
   "source": [
    "numbers = [31, 5007, 19]\n",
    "x, y, z = numbers\n",
    "print(x)  # 31\n",
    "print(y)  # 5007\n",
    "print(z)  # 19"
   ]
  }
 ],
 "metadata": {
  "language_info": {
   "name": "python"
  },
  "orig_nbformat": 4
 },
 "nbformat": 4,
 "nbformat_minor": 2
}
