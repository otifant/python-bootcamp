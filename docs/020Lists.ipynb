{
 "cells": [
  {
   "attachments": {},
   "cell_type": "markdown",
   "metadata": {},
   "source": [
    "# Listen\n",
    "\n",
    "In Python gibt es keine Arrays, dafür Listen. \n",
    "Eine Liste (engl \"List\") benutzt eine ähnliche Syntax wie ein Array in Java, hat aber die Funktionalitäten einer `List`.\n",
    "\n",
    "Wir sehen im folgenden Code-Beispiel wie mit Listen gearbeitet werden kann.\n",
    "\n",
    "Da in Python alle Variablen als Objekte gespeichert sind, kann man in eine Liste auch verschiedene Datentypen einfügen.\n",
    "Aber Vorsicht! Dies ist nicht zu empfehlen und Fehleranfällig!\n",
    "Einige Funktionen, wie zum Beispiel das Sortieren funktioniert nicht bei einer Liste mit unterschiedlichen Datentypen!"
   ]
  },
  {
   "cell_type": "code",
   "execution_count": null,
   "metadata": {},
   "outputs": [],
   "source": [
    "my_list = []  # create an empty list\n",
    "my_list.append(1)  # add (int) 1 to the list\n",
    "my_list.append(2)\n",
    "my_list.append(\"Regenschirm\")  # add (str) \"Regenschirm\" to the list\n",
    "print(my_list[0])  # Output: 1\n",
    "print(my_list[1])  # Output: 2\n",
    "print(my_list[2])  # Output: Regenschirm\n",
    "\n",
    "my_list2 = [1, 2, \"Regenschirm\"]  # initialize the same list directly\n",
    "my_list2.pop(0)  # Remove element at pos 0\n",
    "\n",
    "print(my_list2)  # Output: [2, 'Regenschirm']"
   ]
  },
  {
   "attachments": {},
   "cell_type": "markdown",
   "metadata": {},
   "source": [
    "In diesem Beispiel sieht man, dass das Ausgeben einer Liste einfach mit `print(list)` machbar ist. Es braucht hierfür keine `toString()`-Methode wie z.B. in Java.\n",
    "Hilfreiche Operationen bezüglich Listen sind die folgenden:"
   ]
  },
  {
   "cell_type": "code",
   "execution_count": null,
   "metadata": {},
   "outputs": [],
   "source": [
    "list_name = []  # leere Liste initialisieren\n",
    "list_name = {\"element1\", \"element2\"}  # Initialisierung mit Elementen\n",
    "# Initialisierung mit Elementen via Konstruktor\n",
    "list_name = list((\"element1\", \"element2\"))\n",
    "\n",
    "list_name.append(\"element\")  # fügt ein Element am Ende hinzu\n",
    "# fügt das Element an der angegebenen Position hinzu\n",
    "list_name.insert(\"position\", \"element\")\n",
    "\n",
    "list_name.pop(\"position\")  # löscht das Element an der angegebenen Position\n",
    "list_name.remove(\"element\")  # löscht das angegebene Element\n",
    "list_name.clear()  # löscht alle Elemente\n",
    "\n",
    "len(list_name)  # gibt die Länge (anzahl Elemente) zurück\n",
    "list_name.reverse()  # dreht die Reihenfolge der Liste um\n",
    "list_name.sort()  # sortiert die Liste\n",
    "\n",
    "# gibt den Index des ersten elementes mit diesem Wert aus\n",
    "list_name.index(\"element\")"
   ]
  },
  {
   "attachments": {},
   "cell_type": "markdown",
   "metadata": {},
   "source": [
    "# Listen-Komprehensionen\n",
    "Listen-Komprehensionen in Python sind eine Möglichkeit, um neue Listen auf Basis von existierenden iterierbaren Objekten zu erstellen. Sie bestehen aus einer einzigen Codezeile, welche die Operation angibt, die auf jedem Element des iterierbaren Objekts durchgeführt werden soll. Die resultierende Liste wird on-the-fly generiert und als einzelner Ausdruck zurückgegeben.\n",
    "\n",
    "Im Allgemeinen hat eine Listen-Komprehension die folgende Syntax:"
   ]
  },
  {
   "cell_type": "code",
   "execution_count": null,
   "metadata": {},
   "outputs": [],
   "source": [
    "[expression for variable in iterable]"
   ]
  },
  {
   "attachments": {},
   "cell_type": "markdown",
   "metadata": {},
   "source": [
    "Hierbei ist expression ein beliebiger, gültiger Python-Ausdruck, welcher einen Wert produziert. variable ist der Name der Schleifenvariable, welche jeden Wert in iterable annimmt. iterable ist ein iterierbares Objekt (z.B. eine Liste, ein Tuple, ein Range-Objekt), welches die Werte für variable generiert.\n",
    "\n",
    "Die Listen-Komprehension erzeugt dann eine neue Liste, indem der expression auf jeden Wert von variable in iterable angewendet wird.\n",
    "\n",
    "Zum Beispiel generiert die Listen-Komprehension `[i * 2 for i in range(5)]` die Liste `[0, 2, 4, 6, 8]`, indem sie den Ausdruck `i * 2` auf jeden Wert von `i` im Bereich von 0 bis 4 anwendet.\n",
    "\n",
    "Hier sind noch ein paar weitere Beispiele von Listen-Komprehensionen:"
   ]
  },
  {
   "cell_type": "code",
   "execution_count": 1,
   "metadata": {},
   "outputs": [
    {
     "name": "stdout",
     "output_type": "stream",
     "text": [
      "[1, 4, 9, 16, 25, 36, 49, 64, 81, 100]\n",
      "[0, 2, 4, 6, 8, 10, 12, 14, 16, 18, 20]\n",
      "[('Apfel', 5), ('Banane', 6), ('Kirsche', 7)]\n"
     ]
    }
   ],
   "source": [
    "# Quadrate von Zahlen von 1 bis 10\n",
    "quadrat = [i ** 2 for i in range(1, 11)]\n",
    "print(quadrat)  # Ausgabe: [1, 4, 9, 16, 25, 36, 49, 64, 81, 100]\n",
    "\n",
    "# Gerade Zahlen von 0 bis 20\n",
    "gerade_zahlen = [i for i in range(21) if i % 2 == 0]\n",
    "print(gerade_zahlen)  # Ausgabe: [0, 2, 4, 6, 8, 10, 12, 14, 16, 18, 20]\n",
    "\n",
    "# Liste von Tupeln\n",
    "woerter = [\"Apfel\", \"Banane\", \"Kirsche\"]\n",
    "tupel = [(wort, len(wort)) for wort in woerter]\n",
    "print(tupel)  # Ausgabe: [('Apfel', 5), ('Banane', 6), ('Kirsche', 6)]"
   ]
  },
  {
   "attachments": {},
   "cell_type": "markdown",
   "metadata": {},
   "source": [
    "Zusatz: \n",
    "Wir haben zuvor die Mehrfachzuweisung von Variablen kennengelernt. \n",
    "Diese können wir nun anwenden, um Werte direkt aus einer Liste zu extrahieren und in Variablen zu speichern.\n",
    "Siehe folgendes Beispiel:"
   ]
  },
  {
   "cell_type": "code",
   "execution_count": null,
   "metadata": {},
   "outputs": [],
   "source": [
    "numbers = [31, 5007, 19]\n",
    "x, y, z = numbers\n",
    "print(x)  # 31\n",
    "print(y)  # 5007\n",
    "print(z)  # 19"
   ]
  }
 ],
 "metadata": {
  "kernelspec": {
   "display_name": "Python 3",
   "language": "python",
   "name": "python3"
  },
  "language_info": {
   "codemirror_mode": {
    "name": "ipython",
    "version": 3
   },
   "file_extension": ".py",
   "mimetype": "text/x-python",
   "name": "python",
   "nbconvert_exporter": "python",
   "pygments_lexer": "ipython3",
   "version": "3.9.13"
  },
  "orig_nbformat": 4
 },
 "nbformat": 4,
 "nbformat_minor": 2
}
