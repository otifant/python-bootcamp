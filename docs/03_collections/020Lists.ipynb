{
 "cells": [
  {
   "attachments": {},
   "cell_type": "markdown",
   "metadata": {},
   "source": [
    "# Listen\n",
    "\n",
    "In Python gibt es keine Arrays, dafür Listen. \n",
    "Eine Liste (engl \"List\") benutzt eine ähnliche Syntax wie ein Array in Java, hat aber die Funktionalitäten einer `List`.\n",
    "\n",
    "Wir sehen im folgenden Code-Beispiel wie mit Listen gearbeitet werden kann.\n",
    "\n",
    "Da in Python alle Variablen als Objekte gespeichert sind, kann man in einer Liste auch Objekte verschiedener Datentypen einfügen.\n",
    "Aber Vorsicht! Dies ist nicht zu empfehlen, weil es fehleranfällig ist!\n",
    "Einige Funktionen, wie zum Beispiel das Sortieren funktioniert nicht bei einer Liste mit unterschiedlichen Datentypen!"
   ]
  },
  {
   "cell_type": "code",
   "execution_count": null,
   "metadata": {},
   "outputs": [],
   "source": [
    "my_list = []  # create an empty list\n",
    "my_list.append(1)  # add (int) 1 to the list\n",
    "my_list.append(2)\n",
    "my_list.append(\"Regenschirm\")  # add (str) \"Regenschirm\" to the list\n",
    "print(my_list[0])  # Output: 1\n",
    "print(my_list[1])  # Output: 2\n",
    "print(my_list[2])  # Output: Regenschirm\n",
    "\n",
    "my_list2 = [1, 2, \"Regenschirm\"]  # initialize the same list directly\n",
    "my_list2.pop(0)  # Remove element at pos 0\n",
    "\n",
    "print(my_list2)  # Output: [2, 'Regenschirm']"
   ]
  },
  {
   "attachments": {},
   "cell_type": "markdown",
   "metadata": {},
   "source": [
    "Mit dieser Anweisung haben wir eine neue Liste erstellt:\n",
    "```python\n",
    "my_list = []\n",
    "```\n",
    "\n",
    "* Mit der Funktion `append(...)` werden neue Elemente in der Liste hinzugefügt.\n",
    "* Mit `pop(...)` wird das Element an der angegebenen Position entfernt."
   ]
  },
  {
   "attachments": {},
   "cell_type": "markdown",
   "metadata": {},
   "source": [
    "## Durch Listen iterieren\n",
    "\n",
    "Das, was du am häufigsten mit einer Liste machen wirst, ist wahrscheinlich, durch alle ihre Elemente zu iterieren. Das kannst du am besten mit einer `for`-Schleife:"
   ]
  },
  {
   "cell_type": "code",
   "execution_count": null,
   "metadata": {},
   "outputs": [],
   "source": [
    "for element in my_list:\n",
    "    print(element)"
   ]
  },
  {
   "attachments": {},
   "cell_type": "markdown",
   "metadata": {},
   "source": [
    "In diesem Beispiel wurde jedes einzelne Element in mit der `print(...)`-Funktion in der Konsole ausgegeben."
   ]
  },
  {
   "attachments": {},
   "cell_type": "markdown",
   "metadata": {},
   "source": [
    "## Weitere Funktionen auf Listen"
   ]
  },
  {
   "attachments": {},
   "cell_type": "markdown",
   "metadata": {},
   "source": [
    "Hilfreiche Operationen bezüglich Listen sind die folgenden:"
   ]
  },
  {
   "cell_type": "code",
   "execution_count": 9,
   "metadata": {},
   "outputs": [],
   "source": [
    "list_name = []  # leere Liste initialisieren\n",
    "list_name = [\"element1\", \"element2\"]  # Initialisierung mit Elementen\n",
    "# Initialisierung mit Elementen via Konstruktor\n",
    "list_name = list((\"element1\", \"element2\"))\n",
    "\n",
    "list_name.append(\"element3\")  # fügt ein Element am Ende hinzu\n",
    "# fügt das Element an der angegebenen Position hinzu\n",
    "list_name.insert(2, \"element4\")\n",
    "\n",
    "list_name.pop(2)  # löscht das Element an der angegebenen Position\n",
    "index_of_element1 = list_name.index(\"element1\")\n",
    "list_name.remove(\"element1\")  # löscht das angegebene Element\n",
    "\n",
    "contains_element2: bool = \"element2\" in list_name  # Ist True, wenn das Element in der Liste vorkommt.\n",
    "\n",
    "len(list_name)  # gibt die Länge (anzahl Elemente) zurück\n",
    "list_name.reverse()  # dreht die Reihenfolge der Liste um\n",
    "list_name.sort()  # sortiert die Liste"
   ]
  },
  {
   "attachments": {},
   "cell_type": "markdown",
   "metadata": {},
   "source": [
    "Eine Liste kannst du auf diese Arten neu erstellen:\n",
    "* direkt mit der Listen-Schreibweise:\n",
    "```python\n",
    "list_name = []\n",
    "list_name = [\"element1\", \"element2\"] \n",
    "```\n",
    "* oder mit der Funktion `list`:\n",
    "```python\n",
    "list_name = list()\n",
    "list_name = list((\"element1\", \"element2\"))\n",
    "```\n",
    "\n",
    "Neue Elemente können mit `append` und `insert` hinzugefügt werden.\n",
    "* `append(element)` fügt ein neues Element am Ende der Liste hinzu.\n",
    "* `insert(position: int, element)` fügt das `element` an der angegebenen `position` hinzu.\n",
    "\n",
    "Mit `index(element)` erhältst du den Index/die Position des Elementes, an der es zum ersten Mal in der Liste vorkommt.\n",
    "\n",
    "Elemente löschen kannst du mit `pop(index)` und `remove(element)`.\n",
    "* `pop(index)` löscht das Element an der angegebenen Position.\n",
    "* `remove(element)` löscht das angegebene Element in der Liste.\n",
    "\n",
    "Mit dem `in`-Operator kannst du prüfen, ob ein bestimmtes Element in der Liste vorkommt. Ist das Gleiche wie `contains()` oder `includes()` in anderen Programmiersprachen. \n",
    "\n",
    "Mit `len(liste)` erhältst du die Anzahl Elemente in der Liste.\n",
    "\n",
    "Sortieren kannst du die Liste mit `sort()` und `reverse()`."
   ]
  },
  {
   "attachments": {},
   "cell_type": "markdown",
   "metadata": {},
   "source": [
    "## Mehrfachzuweisungen aufgrund einer Liste \n",
    "Wir haben zuvor die Mehrfachzuweisung von Variablen kennengelernt. \n",
    "Diese können wir nun anwenden, um Werte direkt aus einer Liste zu extrahieren und in Variablen zu speichern.\n",
    "\n",
    "Siehe folgendes Beispiel:"
   ]
  },
  {
   "cell_type": "code",
   "execution_count": null,
   "metadata": {},
   "outputs": [],
   "source": [
    "numbers = [31, 5007, 19]\n",
    "x, y, z = numbers\n",
    "print(x)  # 31\n",
    "print(y)  # 5007\n",
    "print(z)  # 19"
   ]
  }
 ],
 "metadata": {
  "kernelspec": {
   "display_name": "Python 3",
   "language": "python",
   "name": "python3"
  },
  "language_info": {
   "codemirror_mode": {
    "name": "ipython",
    "version": 3
   },
   "file_extension": ".py",
   "mimetype": "text/x-python",
   "name": "python",
   "nbconvert_exporter": "python",
   "pygments_lexer": "ipython3",
   "version": "3.9.6"
  },
  "orig_nbformat": 4
 },
 "nbformat": 4,
 "nbformat_minor": 2
}
