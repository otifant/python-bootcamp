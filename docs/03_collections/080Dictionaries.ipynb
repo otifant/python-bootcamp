{
 "cells": [
  {
   "attachments": {},
   "cell_type": "markdown",
   "metadata": {},
   "source": [
    "# Dictionaries\n",
    "Im Folgenden Beispiel erstellen wir eine Zuweisung von Namen zu Email-Adressen mithilfe eines Dictionarys.\n",
    "Dieses Dictionary soll speichern, welche Person welche Email-Adresse besitzt: "
   ]
  },
  {
   "cell_type": "code",
   "execution_count": null,
   "metadata": {},
   "outputs": [],
   "source": [
    "email_database = {\n",
    "    \"John\": \"John.Guildmore@gmail.com\",\n",
    "    \"Jack\": \"jack_reacher@hotmail.com\"\n",
    "}"
   ]
  },
  {
   "attachments": {},
   "cell_type": "markdown",
   "metadata": {},
   "source": [
    "Möchten wir herausfinden, welche Person welche Email-Adresse besitzt, dann können wir das so tun:"
   ]
  },
  {
   "cell_type": "code",
   "execution_count": null,
   "metadata": {},
   "outputs": [],
   "source": [
    "email = email_database[\"John\"]\n",
    "email"
   ]
  },
  {
   "attachments": {},
   "cell_type": "markdown",
   "metadata": {},
   "source": [
    "In den eckigen Klammern haben wir einen \"Key\" angegeben.\n",
    "\n",
    "Durch die Angabe des Keys in eckigen Klammern beim Dictionary erhalten wir den dazugehörigen Wert (\"Value\") zurück.\n",
    "\n",
    "Im Gegensatz zu Listen, Sets und Tuples erfolgt die Abfrage mit Keys anstelle von Indexen."
   ]
  },
  {
   "attachments": {},
   "cell_type": "markdown",
   "metadata": {},
   "source": [
    "Die Inhalte von Dictionarys müssen nicht von Beginn an bekannt sein, sondern können nachträglich ergänzt werden:"
   ]
  },
  {
   "cell_type": "code",
   "execution_count": null,
   "metadata": {},
   "outputs": [],
   "source": [
    "email_database = {}  # leeres Dictionary\n",
    "\n",
    "# Werte hinzufügen:\n",
    "email_database[\"John\"] = \"John.Guildmore@gmail.com\"\n",
    "email_database[\"Jack\"] = \"jack_reacher@hotmail.com\"\n",
    "\n",
    "print(email_database[\"John\"])  # John.Guildmore@gmail.com\n",
    "email_database"
   ]
  },
  {
   "attachments": {},
   "cell_type": "markdown",
   "metadata": {},
   "source": [
    "## Operationen auf Dictionaries"
   ]
  },
  {
   "attachments": {},
   "cell_type": "markdown",
   "metadata": {},
   "source": [
    "Das sind die wichtigsten Operationen auf Dictionaries:"
   ]
  },
  {
   "cell_type": "code",
   "execution_count": null,
   "metadata": {},
   "outputs": [],
   "source": [
    "dict_name = {}  # Leeres Dictionary erzeugen.\n",
    "\n",
    "dict_name[\"key\"] = \"value\"  # Einfügen bzw. ändern eines Elements.\n",
    "variable = dict_name[\"key\"] # Eintrag lesen. Wirft einen Fehler, wenn der Eintrag nicht vorhanden ist.\n",
    "dict_name.pop(\"key\")  # Eintrag löschen."
   ]
  },
  {
   "attachments": {},
   "cell_type": "markdown",
   "metadata": {},
   "source": [
    "Auf der letzten Zeile haben wir den Eintrag mit dem Key \"key\" und den dazugehörigen Wert gelöscht.\n",
    "\n",
    "Möchten wir trotzdem den Wert für diesen Key abfragen, ohne dass ein Fehler geworfen wir, dann können wir das mit `.get(key)` tun:"
   ]
  },
  {
   "cell_type": "code",
   "execution_count": null,
   "metadata": {},
   "outputs": [],
   "source": [
    "value = dict_name.get(\"key\")\n",
    "print(value)"
   ]
  },
  {
   "attachments": {},
   "cell_type": "markdown",
   "metadata": {},
   "source": [
    "* `dictionary.get(key)` macht das Gleiche wie `dictionary[key]` mit dem Unterschied, dass es `None` zurück gibt, falls der entsprechende Eintrag nicht vorhanden wäre.\n",
    "* `dictionary[key]` hingegen würde einen Fehler werfen."
   ]
  },
  {
   "attachments": {},
   "cell_type": "markdown",
   "metadata": {},
   "source": [
    "Folgende Operationen können auch hilfreich sein:"
   ]
  },
  {
   "cell_type": "code",
   "execution_count": null,
   "metadata": {},
   "outputs": [],
   "source": [
    "dict_name = {\"key\": \"value\", \"key2\": \"value2\"}\n",
    "# Selten werden auch diese Funktionen gebraucht:\n",
    "del dict_name[\"key\"]  # Eintrag löschen. Gängiger ist `dict_name.pop(\"key\")`.\n",
    "dict_name.popitem()  # Löscht den letzten hinzugefügten Eintrag.\n",
    "dict_name.clear()  # Löschen aller Elemente."
   ]
  },
  {
   "attachments": {},
   "cell_type": "markdown",
   "metadata": {},
   "source": [
    "### Durch ein Dictionary iterieren\n",
    "\n",
    "Du wirst in die Situation kommen, in welcher du durch ein Dictionary durchiterieren musst."
   ]
  },
  {
   "attachments": {},
   "cell_type": "markdown",
   "metadata": {},
   "source": [
    "Möchtest du z.B. alle Keys und Values durchgehen, dann kannst du das wie folgt tun:"
   ]
  },
  {
   "cell_type": "code",
   "execution_count": null,
   "metadata": {},
   "outputs": [],
   "source": [
    "dict_name = {\"key\": \"value\", \"key2\": \"value2\"}\n",
    "\n",
    "for key, value in dict_name.items():\n",
    "    print(f\"{key} has the value '{value}'.\")"
   ]
  },
  {
   "attachments": {},
   "cell_type": "markdown",
   "metadata": {},
   "source": [
    "Möchtest du das Gleiche tun, aber nur mit den Keys, dann verwende `.keys()`:"
   ]
  },
  {
   "cell_type": "code",
   "execution_count": null,
   "metadata": {},
   "outputs": [],
   "source": [
    "dict_name.keys()"
   ]
  },
  {
   "attachments": {},
   "cell_type": "markdown",
   "metadata": {},
   "source": [
    "und das Gleiche für die Values:"
   ]
  },
  {
   "cell_type": "code",
   "execution_count": null,
   "metadata": {},
   "outputs": [],
   "source": [
    "dict_name.values()"
   ]
  },
  {
   "attachments": {},
   "cell_type": "markdown",
   "metadata": {},
   "source": [
    "## JSON in Python\n",
    "Du wirst in Python ziemlich sicher einmal Daten in einem JSON-Format zu verarbeiten haben.\n",
    "\n",
    "Wenn du z.B. einen Server anfragst für bestimmte Daten, dann könntest du ein JSON-String wie diesen zurückbekommen:\n",
    "\n",
    "```json\n",
    "{\n",
    "    \"name\": \"Colonel Toad\",\n",
    "    \"firstShared\": \"2011-08-01\",\n",
    "    \"origin\": \"Pinterest\"\n",
    "}\n",
    "```\n",
    "\n",
    "Ein JSON-String ist wie XML ein Format, um Daten in Text-Form zu strukturieren. Da JSON-Daten sehr ähnlich wie Dictionaries aufgebaut sind, können solche JSON-Daten in Python ganz einfach in ein Dictionary konvertiert werden.\n",
    "\n",
    "Du kannst wie folgt dieses JSON in ein Dictionary laden und entsprechende Operationen darauf ausführen:"
   ]
  },
  {
   "cell_type": "code",
   "execution_count": null,
   "metadata": {},
   "outputs": [],
   "source": [
    "import json\n",
    "\n",
    "json_string = '{\"name\": \"Colonel Toad\", \"firstShared\": \"2011-08-01\", \"origin\": \"Pinterest\"}'\n",
    "\n",
    "my_dict: dict[str, str] = json.loads(json_string)\n",
    "my_dict"
   ]
  },
  {
   "attachments": {},
   "cell_type": "markdown",
   "metadata": {},
   "source": [
    "Die umgekehrte Richtung geht auch:\n",
    "\n",
    "Möchtest du ein Dictionary in ein JSON umwandeln, dann kannst du das mit `dumps(...)` tun:"
   ]
  },
  {
   "cell_type": "code",
   "execution_count": null,
   "metadata": {},
   "outputs": [],
   "source": [
    "import json\n",
    "\n",
    "my_dict = {\"a\": 3, \"b\": \"Hello\"}\n",
    "\n",
    "json_string = json.dumps(my_dict)\n",
    "json_string"
   ]
  },
  {
   "attachments": {},
   "cell_type": "markdown",
   "metadata": {},
   "source": [
    "## Typangabe\n",
    "\n",
    "Möchtest du bei einer Variable klar machen, dass es sich bei ihr um ein Dictionary handelt, dann kannst du das mit der Typangabe `: dict` tun:"
   ]
  },
  {
   "cell_type": "code",
   "execution_count": null,
   "metadata": {},
   "outputs": [],
   "source": [
    "my_dict: dict = dict()"
   ]
  },
  {
   "attachments": {},
   "cell_type": "markdown",
   "metadata": {},
   "source": [
    "Wenn der Type bei allen Keys und der Typ bei allen Values einheitlich sind, dann kannst du das auch angeben.\n",
    "\n",
    "Dies kann z.B. beim Laden eines JSON-Objekts hilfreich sein:"
   ]
  },
  {
   "cell_type": "code",
   "execution_count": null,
   "metadata": {},
   "outputs": [],
   "source": [
    "my_dict: dict[str, int] = json.loads('{\"a\": 1, \"b\": 2}')\n",
    "my_dict"
   ]
  },
  {
   "attachments": {},
   "cell_type": "markdown",
   "metadata": {},
   "source": [
    "Bei der vorherigen Typangabe `dict[str, int]` haben wir angegeben, dass alle Keys Strings sind, und alle Values `int`-Werte sind."
   ]
  },
  {
   "attachments": {},
   "cell_type": "markdown",
   "metadata": {},
   "source": [
    "Weitere Operationen auf Dictionaries findest du hier: https://www.w3schools.com/python/python_ref_dictionary.asp"
   ]
  }
 ],
 "metadata": {
  "kernelspec": {
   "display_name": "Python 3",
   "language": "python",
   "name": "python3"
  },
  "language_info": {
   "codemirror_mode": {
    "name": "ipython",
    "version": 3
   },
   "file_extension": ".py",
   "mimetype": "text/x-python",
   "name": "python",
   "nbconvert_exporter": "python",
   "pygments_lexer": "ipython3",
   "version": "3.9.6"
  },
  "orig_nbformat": 4
 },
 "nbformat": 4,
 "nbformat_minor": 2
}
