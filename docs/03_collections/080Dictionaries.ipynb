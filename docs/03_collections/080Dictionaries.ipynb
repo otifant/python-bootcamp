{
 "cells": [
  {
   "attachments": {},
   "cell_type": "markdown",
   "metadata": {},
   "source": [
    "# Dictionaries\n",
    "Dictionaries funktionieren ähnlich wie Arrays (bzw. Listen). Der Zugriff auf den Inhalt erfolgt aber mit Schlüsseln (sogenannte Keys) und nicht mit Indexen.\n",
    "Im Folgenden Beispiel wird ein Dictionary mit Email-Adressen von Personen erstellt."
   ]
  },
  {
   "cell_type": "code",
   "execution_count": null,
   "metadata": {},
   "outputs": [],
   "source": [
    "email_database = {}  # initialize empty dictionary\n",
    "\n",
    "# add a new entry with key \"John\" and value \"John.Guildmore@gmail.com\"\n",
    "email_database[\"John\"] = \"John.Guildmore@gmail.com\"\n",
    "\n",
    "email_database[\"Jack\"] = \"jack_reacher@hotmail.com\"\n",
    "\n",
    "print(email_database[\"John\"])  # John.Guildmore@gmail.com\n",
    "print(email_database)\n",
    "# {'John': 'John.Guildmore@gmail.com', 'Jack': 'jack_reacher@hotmail.com'}"
   ]
  },
  {
   "attachments": {},
   "cell_type": "markdown",
   "metadata": {},
   "source": [
    "Natürlich kann man dasselbe Dictionary auch direkt befüllt initialisieren:"
   ]
  },
  {
   "cell_type": "code",
   "execution_count": null,
   "metadata": {},
   "outputs": [],
   "source": [
    "email_database = {\n",
    "    \"John\": \"John.Guildmore@gmail.com\",\n",
    "    \"Jack\": \"jack_reacher@hotmail.com\"\n",
    "}"
   ]
  },
  {
   "attachments": {},
   "cell_type": "markdown",
   "metadata": {},
   "source": [
    "Einige wichtige Operationen mit Dictionaries sind:"
   ]
  },
  {
   "cell_type": "code",
   "execution_count": null,
   "metadata": {},
   "outputs": [],
   "source": [
    "dict_name = {}  # Leeres Dictionary erzeugen.\n",
    "\n",
    "dict_name[\"Key\"] = \"value\"  # Einfügen bzw. ändern eines Elements.\n",
    "dict_name.update({\"key\": \"value\"})  # Einfügen bzw. ändern eines Elements.\n",
    "del dict_name[\"Key\"]  # Eintrag löschen.\n",
    "dict_name.pop(\"key\")  # Eintrag löschen.\n",
    "dict_name.popitem()  # löscht den letzten hinzugefügten Eintrag.\n",
    "dict_name.clear()  # Löschen aller Elemente.\n",
    "\n",
    "# Gibt den entsprechenden value zurück oder false, falls er nicht existiert:\n",
    "dict_name.get(\"key\")\n",
    "dict_name.items()  # Gibt eine liste mit allen keys und values als Tupel zurück.\n",
    "dict_name.keys()  # Gibt ein liste mit allen keys zurück.\n",
    "dict_name.values()  # Gibt eine liste mit allen values zurück."
   ]
  },
  {
   "attachments": {},
   "cell_type": "markdown",
   "metadata": {},
   "source": [
    "## JSON in Python\n",
    "Du wirst in Python ziemlich sicher einmal Daten in einem JSON-Format zu verarbeiten haben.\n",
    "\n",
    "Wenn du z.B. einen Server anfragst für bestimmte Daten, dann könntest du ein JSON wie dieses zurückbekommen:\n",
    "\n",
    "```json\n",
    "{\n",
    "    \"name\": \"Colonel Toad\",\n",
    "    \"firstShared\": \"2011-08-01\",\n",
    "    \"origin\": \"Pinterest\"\n",
    "}\n",
    "```\n",
    "\n",
    "Nun kannst du dieses JSON in ein Dictionary laden und entsprechende Operationen darauf ausführen:"
   ]
  },
  {
   "cell_type": "code",
   "execution_count": null,
   "metadata": {},
   "outputs": [],
   "source": [
    "import json\n",
    "\n",
    "json_string = '{\"name\": \"Colonel Toad\", \"firstShared\": \"2011-08-01\", \"origin\": \"Pinterest\"}'\n",
    "\n",
    "my_dict: dict[str, str] = json.loads(json_string)\n",
    "my_dict"
   ]
  },
  {
   "attachments": {},
   "cell_type": "markdown",
   "metadata": {},
   "source": [
    "Die umgekehrte Richtung geht auch:\n",
    "\n",
    "Möchtest du ein Dictionary in ein JSON umwandeln, dann kannst du das mit `dumps(...)` tun:"
   ]
  },
  {
   "cell_type": "code",
   "execution_count": null,
   "metadata": {},
   "outputs": [],
   "source": [
    "import json\n",
    "\n",
    "my_dict = {\"a\": 3, \"b\": \"Hello\"}\n",
    "\n",
    "json_string = json.dumps(my_dict)\n",
    "json_string"
   ]
  },
  {
   "attachments": {},
   "cell_type": "markdown",
   "metadata": {},
   "source": [
    "## Typangabe\n",
    "\n",
    "Möchtest du bei einer Variable klar machen, dass es sich bei ihr um ein Dictionary handelt, dann kannst du das mit der Typangabe `: dict` tun:"
   ]
  },
  {
   "cell_type": "code",
   "execution_count": null,
   "metadata": {},
   "outputs": [],
   "source": [
    "my_dict: dict = dict()"
   ]
  },
  {
   "attachments": {},
   "cell_type": "markdown",
   "metadata": {},
   "source": [
    "Wenn der Type bei allen Keys und der Typ bei allen Values einheitlich sind, dann kannst du das auch angeben.\n",
    "\n",
    "Dies kann z.B. beim Laden eines JSON-Objekts hilfreich sein:"
   ]
  },
  {
   "cell_type": "code",
   "execution_count": null,
   "metadata": {},
   "outputs": [],
   "source": [
    "my_dict: dict[str, int] = json.loads('{\"a\": 1, \"b\": 2}')\n",
    "my_dict"
   ]
  },
  {
   "attachments": {},
   "cell_type": "markdown",
   "metadata": {},
   "source": [
    "Bei der vorherigen Typangabe `dict[str, int]` haben wir angegeben, dass alle Keys Strings sind, und alle Values `int`-Werte sind."
   ]
  },
  {
   "attachments": {},
   "cell_type": "markdown",
   "metadata": {},
   "source": [
    "Weitere Operationen auf Dictionaries findest du hier: https://www.w3schools.com/python/python_ref_dictionary.asp"
   ]
  }
 ],
 "metadata": {
  "kernelspec": {
   "display_name": "Python 3",
   "language": "python",
   "name": "python3"
  },
  "language_info": {
   "codemirror_mode": {
    "name": "ipython",
    "version": 3
   },
   "file_extension": ".py",
   "mimetype": "text/x-python",
   "name": "python",
   "nbconvert_exporter": "python",
   "pygments_lexer": "ipython3",
   "version": "3.10.10"
  },
  "orig_nbformat": 4
 },
 "nbformat": 4,
 "nbformat_minor": 2
}
