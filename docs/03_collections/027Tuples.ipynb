{
 "cells": [
  {
   "attachments": {},
   "cell_type": "markdown",
   "metadata": {},
   "source": [
    "# Tupel\n",
    "\n",
    "Ein Tupel ist ein Datencontainer in Python, der dazu verwendet wird, eine Sammlung von Werten zu speichern. Ein Tupel kann mehrere Werte enthalten, die nicht geändert werden können. Das bedeutet, dass man den Inhalt des Tupels nicht nach der Erstellung ändern kann.\n",
    "\n",
    "Tuples werden oft verwendet, wenn eine Funktion mehrere Rückgabewerte hat:"
   ]
  },
  {
   "cell_type": "code",
   "execution_count": 4,
   "metadata": {},
   "outputs": [],
   "source": [
    "def get_names() -> tuple[str, str]:\n",
    "    return (\"first name\", \"last name\")\n",
    "\n",
    "first_name, last_name = get_names()\n",
    "(first_name, last_name) = get_names()"
   ]
  },
  {
   "attachments": {},
   "cell_type": "markdown",
   "metadata": {},
   "source": [
    "Im obigen Code gibt die Funktion einen Vor- und einen Nachnamen zurück.\n",
    "\n",
    "In den unteren beiden Zeilen werden die Werte gleich in entsprechende Variablen kopiert. Beide Schreibweisen machen das Gleiche."
   ]
  },
  {
   "attachments": {},
   "cell_type": "markdown",
   "metadata": {},
   "source": [
    "Man kann ein Tupel in Python mit runden Klammern erstellen. Hier sind einige Beispiele für Tupel:"
   ]
  },
  {
   "cell_type": "code",
   "execution_count": 2,
   "metadata": {},
   "outputs": [],
   "source": [
    "my_tuple = (1, 2)\n",
    "my_tuple2 = (1, 1, 2) # Dublikate sind erlaubt\n",
    "my_tuple2 = (\"Python\", 3.9, True) # Ein Tupel kann verschiedene Datentypen beinhalten\n",
    "my_tuple3 = ((1, 2), \"hello\") # Verschachtelung von Tupeln\n",
    "empty_tuple = () # Leeres Tupel\n",
    "my_tuple4 = (\"hallo\",) # Tupel mit nur einem Element\n",
    "my_tuple5 = (\"hallo\") # KEIN Tupel! Dies ist ein String!"
   ]
  },
  {
   "attachments": {},
   "cell_type": "markdown",
   "metadata": {},
   "source": [
    "Man kann auf die Werte in einem Tupel zugreifen, indem man den Index des Werts in eckigen Klammern nach dem Namen des Tupels verwenden. Beachte, dass der Index bei 0 beginnt. Hier ist ein Beispiel für den Zugriff auf den ersten Wert in einem Tupel:"
   ]
  },
  {
   "cell_type": "code",
   "execution_count": null,
   "metadata": {},
   "outputs": [],
   "source": [
    "my_tuple = (1, 2, 3)\n",
    "print(my_tuple[0])"
   ]
  },
  {
   "attachments": {},
   "cell_type": "markdown",
   "metadata": {},
   "source": [
    "Dies gibt den Wert 1 aus, da der erste Wert in einem Tupel den Index 0 hat.\n",
    "\n",
    "Da Tupel unveränderlich sind, kann man keine Werte hinzufügen, entfernen oder ändern. Wenn man jedoch ein neues Tupel mit geänderten Werten erstellen möchte, kann man dies tun, indem man die vorhandenen Werte aus dem Tupel kopiert und ändert. Hier ist ein Beispiel für die Erstellung eines neuen Tupels mit geänderten Werten:"
   ]
  },
  {
   "cell_type": "code",
   "execution_count": null,
   "metadata": {},
   "outputs": [],
   "source": [
    "my_tuple = (1, 2, 3)\n",
    "new_tuple = my_tuple[:2] + (4,)  # Erstellt ein neues Tupel mit den ersten beiden Werten von my_tuple und dem Wert 4.\n",
    "print(new_tuple)"
   ]
  },
  {
   "attachments": {},
   "cell_type": "markdown",
   "metadata": {},
   "source": [
    "Dies gibt das Tupel (1, 2, 4) aus.\n",
    "\n",
    "Natürlich können auch Funktionen Tupel als Argumente nehmen oder zurückgeben. Ebenfalls kann man mit for-schleifen über Tupel iterieren. Es gibt ausserdem einige von Python zur Verfügung gestellte Funktionen auf Tupeln wie zum Beispiel `len()`, welche die Länge eines Tupels zurückgibt. Einige weitere Code Beispiele sind:"
   ]
  },
  {
   "cell_type": "code",
   "execution_count": null,
   "metadata": {},
   "outputs": [],
   "source": [
    "# Verwendung von Tupeln als Dict Keys\n",
    "my_dict = {(\"Alice\", 25): \"alice@example.com\", (\"Bob\", 30): \"bob@example.com\"}\n",
    "print(my_dict[(\"Alice\", 25)])  # Gibt die E-Mail-Adresse von Alice aus (\"alice@example.com\")\n",
    "\n",
    "# Funktion, welche ein Tupel zurückgibt\n",
    "def get_name_and_age():\n",
    "    name = \"Alice\"\n",
    "    age = 25\n",
    "    return name, age\n",
    "\n",
    "result = get_name_and_age()\n",
    "print(result[0])  # Gibt den Namen aus (\"Alice\")\n",
    "print(result[1])  # Gibt das Alter aus (25)\n",
    "\n",
    "# For schleife über ein Tupel\n",
    "my_tuple = (1, 2, 3, 4)\n",
    "for item in my_tuple:\n",
    "    print(item)\n",
    "\n",
    "# Verwendung der len() Funktion.\n",
    "my_tuple = (1, 2, 3, 4)\n",
    "print(len(my_tuple))  # Gibt 4 aus"
   ]
  },
  {
   "attachments": {},
   "cell_type": "markdown",
   "metadata": {},
   "source": [
    "## Tuples vs. Lists\n",
    "\n",
    "Wir haben gesehen, dass Tuples den Listen sehr ähneln. Wann sollen wir welchen Typ verwenden?\n",
    "\n",
    "|                   | Listen                    | Tuples            |\n",
    "| --                | ---                       | ---               |\n",
    "| Verwendung        | In Listen werden oft sehr unterschiedlich viele Elemente gespeichert. | Tuples werden oft gebraucht, wenn eine Funktion mehrere Werte zurück gibt. Einzelne Variablen werden dann meistens aus dem Tuple in neue Variablen entpackt. | \n",
    "| Immutable Data    | Listen sind veränderbar.  | Tuples sind unveränderbar, es können keine Elemente ausgetauscht, hinzugefügt oder gelöscht werden.|\n",
    "| Datentypen        | Bei Listen geht man oft davon aus, dass alle Elemente einen gemeinsamen Typ haben (ist aber keine Pflicht).    | Die einzelnen Elemente in Tuples haben oft verschiedene Typen. |\n",
    "| Performance       | Wenig höherer Memory-Bedarf   |   Brauchen weniger Memory und weisen bei sehr grossen Datensätzen eine bisschen bessere Performance auf. |"
   ]
  }
 ],
 "metadata": {
  "kernelspec": {
   "display_name": "Python 3",
   "language": "python",
   "name": "python3"
  },
  "language_info": {
   "codemirror_mode": {
    "name": "ipython",
    "version": 3
   },
   "file_extension": ".py",
   "mimetype": "text/x-python",
   "name": "python",
   "nbconvert_exporter": "python",
   "pygments_lexer": "ipython3",
   "version": "3.9.6"
  },
  "orig_nbformat": 4
 },
 "nbformat": 4,
 "nbformat_minor": 2
}
