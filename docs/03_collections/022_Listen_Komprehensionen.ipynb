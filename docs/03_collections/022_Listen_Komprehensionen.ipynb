{
 "cells": [
  {
   "attachments": {},
   "cell_type": "markdown",
   "metadata": {},
   "source": [
    "# Listen-Komprehensionen\n",
    "Listen-Komprehensionen in Python sind eine Möglichkeit, um neue Listen auf Basis von existierenden iterierbaren Objekten zu erstellen. Sie bestehen aus einer einzigen Codezeile, welche die Operation angibt, die auf jedem Element des iterierbaren Objekts durchgeführt werden soll. Die resultierende Liste wird on-the-fly generiert und als einzelner Ausdruck zurückgegeben.\n",
    "\n",
    "Im Allgemeinen hat eine Listen-Komprehension die folgende Syntax:\n",
    "\n",
    "```python\n",
    "new_list = [expression for variable in iterable if condition]\n",
    "```\n",
    "\n",
    "Hierbei ist `expression` ein beliebiger, gültiger Python-Ausdruck, welcher einen Wert produziert. `variable` ist der Name der Schleifenvariable, welche jeden Wert in `iterable` annimmt. `iterable` ist ein iterierbares Objekt (z.B. eine Liste, ein Tuple, ein Range-Objekt), welches die Werte für variable generiert. Mit einer (optionalen) `condition` können wir Elemente überspringen, die nicht dieser `condition` entsprechen.\n",
    "\n",
    "Die Listen-Komprehension erzeugt dann eine neue Liste (hier in der Variable `new_list` gespeichert), indem der `expression` auf jeden Wert von `variable` in `iterable` angewandt wird.\n",
    "\n",
    "Zum Beispiel generiert die Listen-Komprehension `[i * 2 for i in range(5)]` die Liste `[0, 2, 4, 6, 8]`, indem sie den Ausdruck `i * 2` auf jeden Wert von `i` im Bereich von 0 bis 4 anwendet.\n",
    "\n",
    "Hier sind noch ein paar weitere Beispiele von Listen-Komprehensionen:"
   ]
  },
  {
   "cell_type": "code",
   "execution_count": null,
   "metadata": {},
   "outputs": [],
   "source": [
    "# Quadrate von Zahlen von 1 bis 10\n",
    "quadrat = [i ** 2 for i in range(1, 11)]\n",
    "print(quadrat)  # Ausgabe: [1, 4, 9, 16, 25, 36, 49, 64, 81, 100]\n",
    "\n",
    "# Gerade Zahlen von 0 bis 20\n",
    "gerade_zahlen = [i for i in range(21) if i % 2 == 0]\n",
    "print(gerade_zahlen)  # Ausgabe: [0, 2, 4, 6, 8, 10, 12, 14, 16, 18, 20]\n",
    "\n",
    "# Liste von Tupeln\n",
    "woerter = [\"Apfel\", \"Banane\", \"Kirsche\"]\n",
    "tupel = [(wort, len(wort)) for wort in woerter]\n",
    "print(tupel)  # Ausgabe: [('Apfel', 5), ('Banane', 6), ('Kirsche', 6)]"
   ]
  }
 ],
 "metadata": {
  "kernelspec": {
   "display_name": "Python 3",
   "language": "python",
   "name": "python3"
  },
  "language_info": {
   "codemirror_mode": {
    "name": "ipython",
    "version": 3
   },
   "file_extension": ".py",
   "mimetype": "text/x-python",
   "name": "python",
   "nbconvert_exporter": "python",
   "pygments_lexer": "ipython3",
   "version": "3.11.3"
  },
  "orig_nbformat": 4
 },
 "nbformat": 4,
 "nbformat_minor": 2
}
