{
 "cells": [
  {
   "attachments": {},
   "cell_type": "markdown",
   "metadata": {},
   "source": [
    "For-Loop\n",
    "\n",
    "Es gibt mehrere Möglichkeiten, einen For-Loop in Python zu implementieren. \n",
    "Eine Möglichkeit ist die Benutzung der range() methode, welche wiederum selbst verschieden eingesetzt werden kann. \n",
    "Eine andere Möglichkeit ist einfach über alle Elemente einer Liste (oder auch eines Sets, Dictionarys, ...) zu iterieren.\n",
    "Beachte den Doppelpunkt und die Einrückung des Bodys.\n",
    "Das Nachfolgende Beispiel zeigt einige for loops."
   ]
  },
  {
   "cell_type": "code",
   "execution_count": null,
   "metadata": {},
   "outputs": [],
   "source": [
    "for i in range(10):  # i = 0, 1, 2, ... , 9\n",
    "    print(i)\n",
    "\n",
    "for i in range(3, 8):  # i = 3, 4, 5, 6, 7\n",
    "    print(i)\n",
    "\n",
    "for i in range(2, 9, 3):  # i = 2, 5, 8\n",
    "    print(i)\n",
    "\n",
    "numbers = [0, 1, 2, 3, 4, 5, 6, 7, 8, 9]\n",
    "for number in numbers:  # prints out every number in the numbers list\n",
    "    print(number)"
   ]
  },
  {
   "attachments": {},
   "cell_type": "markdown",
   "metadata": {},
   "source": [
    "While-Loop\n",
    "\n",
    "Der While Loop funktioniert genau wie in Java auch. Hier ein Beispiel:"
   ]
  },
  {
   "cell_type": "code",
   "execution_count": 1,
   "metadata": {},
   "outputs": [
    {
     "name": "stdout",
     "output_type": "stream",
     "text": [
      "0\n",
      "1\n",
      "2\n"
     ]
    }
   ],
   "source": [
    "i = 0\n",
    "while i < 3:\n",
    "    print(i)\n",
    "    i += 1\n",
    "\n",
    "#output: 0, 1, 2"
   ]
  },
  {
   "attachments": {},
   "cell_type": "markdown",
   "metadata": {},
   "source": [
    "Die Statements \"break\" and \"continue\" sollten bekannt sein und funktionieren ebenfalls wie in Java:"
   ]
  },
  {
   "cell_type": "code",
   "execution_count": 4,
   "metadata": {},
   "outputs": [
    {
     "name": "stdout",
     "output_type": "stream",
     "text": [
      "1\n",
      "3\n",
      "4\n"
     ]
    }
   ],
   "source": [
    "i = 0\n",
    "while True:\n",
    "    i += 1\n",
    "    if i == 2:\n",
    "        continue\n",
    "    if i >= 5:\n",
    "        break\n",
    "    print(i)\n",
    "\n",
    "#output: 1, 3, 4"
   ]
  }
 ],
 "metadata": {
  "kernelspec": {
   "display_name": "Python 3",
   "language": "python",
   "name": "python3"
  },
  "language_info": {
   "codemirror_mode": {
    "name": "ipython",
    "version": 3
   },
   "file_extension": ".py",
   "mimetype": "text/x-python",
   "name": "python",
   "nbconvert_exporter": "python",
   "pygments_lexer": "ipython3",
   "version": "3.9.13"
  },
  "orig_nbformat": 4
 },
 "nbformat": 4,
 "nbformat_minor": 2
}
