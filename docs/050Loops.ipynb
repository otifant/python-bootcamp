{
 "cells": [
  {
   "attachments": {},
   "cell_type": "markdown",
   "metadata": {},
   "source": [
    "For-Loop\n",
    "\n",
    "Es gibt mehrere Möglichkeiten, einen For-Loop in Python zu implementieren. \n",
    "Eine Möglichkeit ist die Benutzung der range() methode, welche wiederum selbst verschieden eingesetzt werden kann. \n",
    "Eine andere Möglichkeit ist einfach über alle Elemente einer Liste (oder auch eines Sets, Dictionarys, ...) zu iterieren.\n",
    "Beachte den Doppelpunkt und die Einrückung des Bodys.\n",
    "Das Nachfolgende Beispiel sollte Klarheit verschaffen."
   ]
  },
  {
   "cell_type": "code",
   "execution_count": null,
   "metadata": {},
   "outputs": [],
   "source": [
    "for i in range(10):  # i = 0, 1, 2, ... , 9\n",
    "    print(i)\n",
    "\n",
    "for i in range(3, 8):  # i = 3, 4, 5, 6, 7\n",
    "    print(i)\n",
    "\n",
    "for i in range(2, 9, 3):  # i = 2, 5, 8\n",
    "    print(i)\n",
    "\n",
    "numbers = [0, 1, 2, 3, 4, 5, 6, 7, 8, 9]\n",
    "for number in numbers:  # prints out every number in the numbers list\n",
    "    print(number)"
   ]
  },
  {
   "attachments": {},
   "cell_type": "markdown",
   "metadata": {},
   "source": [
    "While-Loop\n",
    "\n",
    "Der While Loop funktioniert genau wie in Java auch. Hier ein Beispiel:"
   ]
  },
  {
   "cell_type": "code",
   "execution_count": null,
   "metadata": {},
   "outputs": [],
   "source": [
    "i = 0\n",
    "while i < 5:\n",
    "    print(i)\n",
    "    i += 1"
   ]
  },
  {
   "attachments": {},
   "cell_type": "markdown",
   "metadata": {},
   "source": [
    "Die Statements \"break\" and \"continue\" sollten bekannt sein und funktionieren ebenfalls wie in Java."
   ]
  }
 ],
 "metadata": {
  "language_info": {
   "name": "python"
  },
  "orig_nbformat": 4
 },
 "nbformat": 4,
 "nbformat_minor": 2
}
