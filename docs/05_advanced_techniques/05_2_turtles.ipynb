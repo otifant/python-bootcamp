{
 "cells": [
  {
   "attachments": {},
   "cell_type": "markdown",
   "metadata": {},
   "source": [
    "# Turtles"
   ]
  },
  {
   "attachments": {},
   "cell_type": "markdown",
   "metadata": {},
   "source": [
    "Pythons `turtle`-Modul bietet Tools an, mit denen man interaktiv visuelle Formen auf einem Fenster zeichnen kann.\n",
    "\n",
    "Mit sogenannten Turtles kannst du auf eine einfache Art und Weise etwas visuelles aufsetzen wie z.B. ein kleines Spiel. Hierbei wird eine sogenannte Turtle - also Schildkröte - via Code gesteuert und hinterlässt eine Farbspur, die auf dem Bildschirm bleibt."
   ]
  },
  {
   "attachments": {},
   "cell_type": "markdown",
   "metadata": {},
   "source": [
    "## Basics\n",
    "\n",
    "Um die Turtles brauchen zu können, musst du ein Objekt von der Klasse `Turtle` instanziieren (was automatisch ein Canvas/Fenster öffnet):"
   ]
  },
  {
   "cell_type": "code",
   "execution_count": 1,
   "metadata": {},
   "outputs": [],
   "source": [
    "from turtle import Turtle\n",
    "\n",
    "turtle1 = Turtle()"
   ]
  },
  {
   "attachments": {},
   "cell_type": "markdown",
   "metadata": {},
   "source": [
    "Anschliessend kannst du der Turtle sagen, wo es lang geht:\n",
    "* mit `forward(pixel)` um `pixel` vorwärts bewegen.\n",
    "* mit `backward(pixel)` um `pixel` rückwärts bewegen.\n",
    "* mit `left(degrees)` um `degrees` nach links rotieren.\n",
    "* mit `right(degrees)` um `degrees` nach rechts rotieren.\n",
    "\n",
    "Siehe dieses Beispiel:"
   ]
  },
  {
   "cell_type": "code",
   "execution_count": 2,
   "metadata": {},
   "outputs": [],
   "source": [
    "turtle1.forward(100)\n",
    "turtle1.left(90)\n",
    "turtle1.forward(100)\n",
    "turtle1.left(90)\n",
    "turtle1.forward(100)\n",
    "turtle1.left(90)\n",
    "turtle1.forward(100)\n",
    "turtle1.right(45)\n",
    "turtle1.backward(141)\n",
    "turtle1.right(135)\n",
    "turtle1.backward(100)\n",
    "turtle1.left(45)\n",
    "turtle1.forward(141)"
   ]
  },
  {
   "attachments": {},
   "cell_type": "markdown",
   "metadata": {},
   "source": [
    "Um neu zu starten, kannst du ungefähr folgendes eingeben:"
   ]
  },
  {
   "cell_type": "code",
   "execution_count": 3,
   "metadata": {},
   "outputs": [],
   "source": [
    "turtle1.setpos(0, 0)     # reset the position.\n",
    "turtle1.setheading(0)    # make the turtle look to the right\n",
    "turtle1.clear()          # clear the canvas."
   ]
  },
  {
   "attachments": {},
   "cell_type": "markdown",
   "metadata": {},
   "source": [
    "Ungefähr so kannst du auch die Farben und Stiftgrösse verändern:"
   ]
  },
  {
   "cell_type": "code",
   "execution_count": 4,
   "metadata": {},
   "outputs": [],
   "source": [
    "turtle1.pencolor(\"red\")   # Set pen color to red\n",
    "turtle1.pensize(5)        # Set pen size to 5\n",
    "turtle1.fillcolor(\"blue\") # Set fill color to blue\n",
    "turtle1.begin_fill()      # Start filling shape\n",
    "turtle1.circle(50)        # Draw a circle\n",
    "turtle1.end_fill()        # End filling shape"
   ]
  },
  {
   "attachments": {},
   "cell_type": "markdown",
   "metadata": {},
   "source": [
    "Und du kannst auch ein kleineres Spiel realisieren.\n",
    "\n",
    "Du kannst z.B. auf Tastatur-Events reagieren (funktioniert aber nicht ohne Weiteres in Jupyter Notebooks):"
   ]
  },
  {
   "cell_type": "code",
   "execution_count": 6,
   "metadata": {},
   "outputs": [],
   "source": [
    "from turtle import listen, onkey\n",
    "\n",
    "\n",
    "def turn_left(turtle1: Turtle):\n",
    "    print(\"left\")\n",
    "    turtle1.left(10)\n",
    "    turtle1.forward(100)\n",
    "\n",
    "onkey(lambda: turn_left(turtle1), \"Left\") # Call turn_left function when \"Left\" key is pressed\n",
    "listen()                 # Start listening for events"
   ]
  }
 ],
 "metadata": {
  "kernelspec": {
   "display_name": "Python 3",
   "language": "python",
   "name": "python3"
  },
  "language_info": {
   "codemirror_mode": {
    "name": "ipython",
    "version": 3
   },
   "file_extension": ".py",
   "mimetype": "text/x-python",
   "name": "python",
   "nbconvert_exporter": "python",
   "pygments_lexer": "ipython3",
   "version": "3.10.10"
  },
  "orig_nbformat": 4
 },
 "nbformat": 4,
 "nbformat_minor": 2
}
