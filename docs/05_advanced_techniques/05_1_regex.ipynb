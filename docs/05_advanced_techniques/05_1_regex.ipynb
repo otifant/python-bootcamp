{
 "cells": [
  {
   "attachments": {},
   "cell_type": "markdown",
   "metadata": {},
   "source": [
    "# RegEx\n",
    "\n",
    "Als Entwickler:in wirst du eines Tages viel Informationen aus einem strukturierten Text herauslesen müssen oder einen Input gem. Schema validieren (sprich: überprüfen) müssen.\n",
    "\n",
    "Möchtest du z.B. vor dem Abschicken eines Web-Formulars überprüfen, ob eine Eingabe eine gültige Email-Adresse ist, dann kannst du hier auch RegEx brauchen. Bei einer Email-Adresse weisst du, dass diese aus einem Teil vor einem \"@\", und einem Teil danach, der wiederum mindestens einen Punkt besitzen muss, besteht. Diese Regel kannst du in einer RegEx (Regular Expression, deutsch: regulärer Ausdruck) beschreiben:\n",
    "\n",
    "```regex\n",
    "^[a-zA-Z0-9._%+-]+@[a-zA-Z0-9.-]+\\.[a-zA-Z]{2,}$\n",
    "```\n",
    "\n",
    "In diesem Beispiel hast du\n",
    "* vor dem \"@\" Buchstaben, Zahlen sowie \".\", \"_\", \"+\" und \"-\" erlaubt\n",
    "* Nach dem \"@\" Müssen Buchstaben, Zahlen, Punkte oder Bindestriche folgen\n",
    "* und die Email muss mit einem Punkt und dann mindestens 2 Buchstaben enden.\n",
    "\n",
    ">   _Eine RegEx ist also eine Folge von Zeichen, die ein Suchmuster bilden. RegEx wird dafür verwendet, um Text anhand von einem Muster (einer Regel) abzugleichen._\n",
    "\n",
    "\n",
    "Mit RegEx kannst du ja überprüfen, ob ein Text einem bestimmten Muster (\"pattern\") entspricht. Versuche unter folgenden Links die vorher gezeigte RegEx einzugeben und zu prüfen, wann eine Email-Adresse erkannt wird und wann nicht:\n",
    "* https://regex101.com/: Sehr bekannt und praktisch für RegEx.\n",
    "* https://pythex.org/: Optimiert für die Verwendung unter Python.\n",
    "\n",
    "Hinweis: Die obengenannte RegEx für Email-Adressen ist bei weitem nicht vollständig. Eine richtig funktionierende und vollständige RegEx für Email-Adresse ist viel komplexer."
   ]
  },
  {
   "attachments": {},
   "cell_type": "markdown",
   "metadata": {},
   "source": [
    "## Einfache RegEx erstellen\n",
    "Beginnen wir mit einem einfacheren Beispiel. Sagen wir, wir haben einen Text wie:\n",
    "\n",
    "```text\n",
    "destroy_world: True\n",
    "```\n",
    "\n",
    "Nun wollen wir herausfinden, ob nach `destroy_world` True steht, damit unser Programm entsprechend handeln kann.\n",
    "\n",
    "Beginnen wir mit einem sehr einfachen Vorgehen: Wir prüfen nur, ob `True` vorkommt:"
   ]
  },
  {
   "cell_type": "code",
   "execution_count": null,
   "metadata": {},
   "outputs": [],
   "source": [
    "import re  # re wird gebraucht für Regex.\n",
    "\n",
    "text = \"destroy_world: True\"\n",
    "pattern = r\"True\"\n",
    "\n",
    "result = re.search(pattern, text)\n",
    "if result is not None:\n",
    "    print(\"Sure. Your wish is my command :D\")\n",
    "    print(\"The variable was set to\", result.group())\n",
    "else:\n",
    "    print(\"So then, I don't do anything.\")"
   ]
  },
  {
   "attachments": {},
   "cell_type": "markdown",
   "metadata": {},
   "source": [
    "Im obigen Beispiel haben wir nur geprüft, ob der Wert `True` vorhanden ist. Wenn wir nun einen Schritt weitergehen und auch `False` finden möchten, dann könnten wir das wie folgt erweitern:"
   ]
  },
  {
   "cell_type": "code",
   "execution_count": null,
   "metadata": {},
   "outputs": [],
   "source": [
    "import re\n",
    "\n",
    "text = \"destroy_world: True\"\n",
    "pattern = r\"True|False\"\n",
    "\n",
    "result = re.search(pattern, text)\n",
    "if result is not None:\n",
    "    print(\"The variable was set to\", result.group())"
   ]
  },
  {
   "attachments": {},
   "cell_type": "markdown",
   "metadata": {},
   "source": [
    "Hier haben wir nun gesehen, dass wir eine Oder-Beziehung reinbringen konnten: `pattern = r\"True|False\"`.\n",
    "\n",
    "Ein `|` fungiert in einer Regex wie ein \"Oder\".\n",
    "\n",
    "Gehen wir nun noch einen Schritt weiter und erwarten nicht einen Boolean sondern einen Namen, dann könnten wir so vorgehen:"
   ]
  },
  {
   "cell_type": "code",
   "execution_count": null,
   "metadata": {},
   "outputs": [],
   "source": [
    "import re  # re wird gebraucht für Regex.\n",
    "\n",
    "text = \"destroy_world: Earth\"\n",
    "pattern = r\": [a-zA-Z]+\"\n",
    "\n",
    "result = re.search(pattern, text)\n",
    "if result is not None:\n",
    "    print(f\"The variable was set to '{result.group()[2:]}'\")"
   ]
  },
  {
   "attachments": {},
   "cell_type": "markdown",
   "metadata": {},
   "source": [
    "In diesem Beispiel hatten wir die Regex `: [a-zA-Z]+`.\n",
    "* Diese beschreibt, dass das Gesuchte mit \": \" beginnt.\n",
    "* Anschliessend kommt ein Zeichen, das ein (klein) Buchstaben zwischen a und z oder ein Grossbuchstabe zwischen A und Z.\n",
    "    * Solche Ranges werden in eckige Klammern gepackt.\n",
    "* Mit dem `+` wurde spezifiziert, dass das in den eckigen Klammern **mindestens 1 mal** vorkommt.\n",
    "* Mit dem `[2:]` haben wir ein bisschen gebastelt: Wir wollen das \": \" im Resultat loswerden und schneiden das Resultat so zu, dass es erst beim 3. Zeichen beginnt."
   ]
  },
  {
   "attachments": {},
   "cell_type": "markdown",
   "metadata": {},
   "source": [
    "## Gruppen\n",
    "Sehr oft suchen wir nach bestimmten Wörtern/Zahlen in einem bestimmten Umfeld/Kontext.\n",
    "\n",
    "Angenommen wir haben einen Text wie\n",
    "```yaml\n",
    "app_name: PacMan\n",
    "version: 1.0.1\n",
    "app_image: C:\\Users\\PacMan\\Documents\\pacman.png\n",
    "```\n",
    "\n",
    "Mit Hilfe von \"Named Groups\" können wir den Werten in der Regex einen Namen geben. Das hat den Vorteil, dass wir im Prinzip den erwarteten Text schreiben können und die spezifischen Werte via ihren Namen ausschneiden können:"
   ]
  },
  {
   "cell_type": "code",
   "execution_count": null,
   "metadata": {},
   "outputs": [],
   "source": [
    "import re\n",
    "\n",
    "text = \"\"\"app_name: PacMan\n",
    "version: 1.0.1\n",
    "app_image: C:\\\\Users\\\\PacMan\\\\Documents\\\\pacman.png\"\"\"\n",
    "\n",
    "# RegEx pattern that matches for all variable names.\n",
    "pattern = r\"app_name:\\s*(?P<app_name>[a-zA-Z0-9]+)\\nversion:\\s*(?P<version>\\d+\\.\\d+\\.\\d+)\\napp_image:\\s*(?P<app_image>.+)\"\n",
    "\n",
    "match = re.search(pattern, text)\n",
    "\n",
    "# Extract the values\n",
    "app_name = match.group(\"app_name\")\n",
    "version = match.group(\"version\")\n",
    "app_image = match.group(\"app_image\")\n",
    "\n",
    "print(app_name, version, app_image)"
   ]
  },
  {
   "attachments": {},
   "cell_type": "markdown",
   "metadata": {},
   "source": [
    "Mit einem Konstrukt wie `(?P<app_name>\\[a-zA-Z0-9]+)` haben wir eine solche Named Group erstellt. Der Teil `?P<app_name>` definiert den Namen der Named Group (hier \"app_name\"), `[a-zA-Z0-9]+` ist die Regex für den Wert der Named Group \"app_name\", und die Klammern sind zur besseren Abgrenzung da.\n",
    "\n",
    "Wenn du dich noch fragst, was das `?P` soll: Das `P` steht für Python und das ist eine Regex, die für Python's Regex-System funktioniert. In anderen Programmiersprache wirst du eine andere Syntax dafür verwenden."
   ]
  },
  {
   "attachments": {},
   "cell_type": "markdown",
   "metadata": {},
   "source": [
    "## Spezielle Sequenzen\n",
    "Du hast bereits erfahren, dass du mit einer Regex wie `[a-zA-Z0-9]` alle englischen Buchstaben (also keine ÄÖÜ) inkl. Zahlen und Unterstrich einschliessen kannst.\n",
    "\n",
    "Für genau solche oft vorkommenden Regeln gibt es Abkürzungen.\n",
    "* Statt `[a-zA-Z0-9]` kannst du auch einfach `\\w` verwenden.\n",
    "* Statt \" \" kannst du auch `\\s` verwenden, der jeden Whitespace(\" \", \\t, \\n, \\r, \\f, \\v) mit einschliesst.\n",
    "* Für Zahlen kannst du `\\d` (wie \"digit\") verwenden.\n",
    "\n",
    "## Mengenangaben\n",
    "Oft musst du angeben, wie viel mal ein bestimmtes Zeichen vorkommt. Das hast du z.B. bei dieser Regel getan: `[a-zA-Z0-9]+`\n",
    "Mit dem `+` hast du angegeben, dass **mindestens ein** solches Zeichen vorkommen muss. Andere Mengenangaben sind:\n",
    "* `*`: 0, 1 oder mehrere Vorkommnisse.\n",
    "* `?`: 0 oder 1 mal.\n",
    "* `{n}`: Genau n-mal.\n",
    "* `{m, n}`: Mindestens m-mal, maximal n-mal.\n",
    "* `{m,}`: Mindestens m-mal.\n",
    "* `{,n}`: Maximal n-mal.\n",
    "\n",
    "## Spezielle Charakter (Zeichen)\n",
    "Sehr oft siehst du eine Regex in diesem Format: `^irgend eine RegEx$`. Oft wird erwartet, dass der ganze String (also Text) genau einer RegEx entspricht und nicht nur ein Teil von ihm. Das `^` steht für den Anfang, das `$` für das Ende des Textes (bzw. der Zeile, je nach Kontext).\n",
    "\n",
    "Sehr oft kommt es vor, dass du ein bestimmtes Zeichen wie z.B. den Punkt `.` als Zeichen erwartest. Generell können Sonderzeichen mit einem `\\` \"escaped\" werden.\n",
    "\n",
    "Apropos Punkt `.`: Dieser steht für irgendein Zeichen.\n",
    "\n",
    "Weitere Informationen findest du hier, wenn du das Cheatsheet aufklappst: https://pythex.org/."
   ]
  }
 ],
 "metadata": {
  "kernelspec": {
   "display_name": "Python 3",
   "language": "python",
   "name": "python3"
  },
  "language_info": {
   "codemirror_mode": {
    "name": "ipython",
    "version": 3
   },
   "file_extension": ".py",
   "mimetype": "text/x-python",
   "name": "python",
   "nbconvert_exporter": "python",
   "pygments_lexer": "ipython3",
   "version": "3.10.10"
  },
  "orig_nbformat": 4
 },
 "nbformat": 4,
 "nbformat_minor": 2
}
