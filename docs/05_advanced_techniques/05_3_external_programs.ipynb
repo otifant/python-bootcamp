{
 "cells": [
  {
   "attachments": {},
   "cell_type": "markdown",
   "metadata": {},
   "source": [
    "# Mit externen Programmen kommunizieren"
   ]
  },
  {
   "attachments": {},
   "cell_type": "markdown",
   "metadata": {},
   "source": [
    "Python bietet die Möglichkeit an, andere Prozesse zu starten und mit ihnen zu kommunizieren."
   ]
  },
  {
   "attachments": {},
   "cell_type": "markdown",
   "metadata": {},
   "source": [
    "Wenn du den Kommandozeilenbefehl kennst, um ein externes Programm auszuführen, dann ist es auch nicht schwer, dieses mit Python auszuführen.\n",
    "\n",
    "Möchtest du z.B. den Namen des aktuellen Users herausfinden, dann könntest du folgenden Code (ohne \"!\") in deinem Terminal eingeben:"
   ]
  },
  {
   "cell_type": "code",
   "execution_count": null,
   "metadata": {
    "vscode": {
     "languageId": "shellscript"
    }
   },
   "outputs": [],
   "source": [
    "!whoami"
   ]
  },
  {
   "attachments": {},
   "cell_type": "markdown",
   "metadata": {},
   "source": [
    "Dieser Befehl gibt dir den aktuellen Benutzernamen zurück. Diesen Befehl kannst du auch via Python ausführen lassen, wobei die Ausgabe des Befehls direkt ge`print`ed wird:"
   ]
  },
  {
   "cell_type": "code",
   "execution_count": null,
   "metadata": {},
   "outputs": [],
   "source": [
    "import subprocess\n",
    "\n",
    "\n",
    "subprocess.call(['whoami'])"
   ]
  },
  {
   "attachments": {},
   "cell_type": "markdown",
   "metadata": {},
   "source": [
    "Möchtest du die Ausgabe in einer Python-Variablen speichern können, dann verwende eine andere Funktion:"
   ]
  },
  {
   "cell_type": "code",
   "execution_count": null,
   "metadata": {},
   "outputs": [],
   "source": [
    "user_name = subprocess.check_output([\"whoami\"])\n",
    "\n",
    "print(f\"Your user name is {user_name}.\")"
   ]
  },
  {
   "attachments": {},
   "cell_type": "markdown",
   "metadata": {},
   "source": [
    "In der Ausgabe stellst du fest, dass die Rückgabe ein Byte-Array statt einem String ist. Um `b'...'` loszuwerden, musst du die Rückgabe noch dekodieren:"
   ]
  },
  {
   "cell_type": "code",
   "execution_count": null,
   "metadata": {},
   "outputs": [],
   "source": [
    "user_name = subprocess.check_output([\"whoami\"]).decode(\"utf-8\")\n",
    "# Rufe noch `.strip()` auf, um die neue Zeile am Ende zu entfernen.\n",
    "\n",
    "print(f\"Your user name is {user_name}.\")"
   ]
  },
  {
   "attachments": {},
   "cell_type": "markdown",
   "metadata": {},
   "source": [
    "## Installierte Programme ausführen"
   ]
  },
  {
   "attachments": {},
   "cell_type": "markdown",
   "metadata": {},
   "source": [
    "Mit Pythons `subprocess`-Modul können natürlich auch heruntergeladene installierte Programme aufgerufen werden.\n",
    "\n",
    "Z.B. kannst du auch Git-Befehle ausführen:"
   ]
  },
  {
   "cell_type": "code",
   "execution_count": null,
   "metadata": {},
   "outputs": [],
   "source": [
    "current_branch = subprocess.check_output([\"git\", \"branch\", \"--show-current\"]).decode(\"utf-8\").strip()\n",
    "\n",
    "print(f'You are now working on branch \"{current_branch}\". :)')"
   ]
  },
  {
   "attachments": {},
   "cell_type": "markdown",
   "metadata": {},
   "source": [
    "Die Möglichkeiten beschränken sich natürlich nicht auf Konsoleanwendungen. Du kannst auch Anwendungen mit graphischem User-Interface ausführen.\n",
    "\n",
    "Wenn du VS Code installiert hast und VS Code mit dem Befehl `code` starten kannst, dann kannst du via Python auch ein neues Fenster wie folgt aufmachen:"
   ]
  },
  {
   "cell_type": "code",
   "execution_count": null,
   "metadata": {},
   "outputs": [],
   "source": [
    "# Öffne VS Code mit dem Ordner \"05_advanced_techniques\":\n",
    "\n",
    "subprocess.call([\"code\", \"-n\", \"../05_advanced_techniques\"])"
   ]
  },
  {
   "attachments": {},
   "cell_type": "markdown",
   "metadata": {},
   "source": [
    "In Windows wird dieser Befehl vielleicht scheitern, weil kein Programm auf den Namen \"code\" im System registriert wurde, nur ein Kommandozeilenbefehl.\n",
    "\n",
    "Möchtest du einfach den Kommandozeilenbefehl ausführen, dann kannst du das mit `shell=True` tun:"
   ]
  },
  {
   "cell_type": "code",
   "execution_count": null,
   "metadata": {},
   "outputs": [],
   "source": [
    "subprocess.call([\"code\", \"-n\", \"../05_advanced_techniques\"], shell=True)  # Macht evtl. dann bei Mac nichts mehr..."
   ]
  },
  {
   "attachments": {},
   "cell_type": "markdown",
   "metadata": {},
   "source": [
    "Mit `shell=True` hast du mitgeteilt, dass du ein Kommandozeilenbefehl ausführen möchtest. Wenn nicht zwingend notwendig, sollte darauf verzichtet werden, weil so einfacher bösartiger User-Code eingeführt werden könnte, wenn der User irgendwie Zugriff auf die Parameter erhält.\n",
    "\n",
    "Eine andere Möglichkeit wäre es herauszufinden, welches Programm eigentlich gestartet werden soll.\n",
    "\n",
    "Das kann z.B. mit dem `where`-Befehl gemacht werden:"
   ]
  },
  {
   "cell_type": "code",
   "execution_count": null,
   "metadata": {},
   "outputs": [],
   "source": [
    "# Herausfinden, wo VS Code installiert ist:\n",
    "command = \"where\"  # \"which\" on MacOS.\n",
    "vscode_path = subprocess.check_output([command, \"code\"]).decode(\"utf-8\").strip().replace(\"\\r\", \"\").split(\"\\n\")[-1]\n",
    "\n",
    "print(\"Path to VS Code:\", vscode_path)\n",
    "\n",
    "# Open VS Code:\n",
    "subprocess.call([vscode_path, \"-n\", \"../05_advanced_techniques\"])"
   ]
  },
  {
   "attachments": {},
   "cell_type": "markdown",
   "metadata": {},
   "source": [
    "## Mit Programm kommunizieren"
   ]
  },
  {
   "attachments": {},
   "cell_type": "markdown",
   "metadata": {},
   "source": [
    "Manchmal musst du auch mit einem gestarteten Prozess später noch kommunizieren können, wenn z.B. eine Eingabe erwartet wird.\n",
    "\n",
    "Vorher hast du Funktionen verwendet, die im `subprocess`-Modul angeboten wurden. Diese Funktionen sind im Prinzip Vereinfachungen von der `Popen`-Klasse, bzw. verwenden sie sogar.\n",
    "\n",
    "Möchtest du später noch mit einem Prozess kommunizieren können, dann brauchst du schon fast `Popen`.\n",
    "\n",
    "Siehe dir zuerst unser Script an, das eine Eingabe erwartet: [05_3_user_interaction.py](./05_3_user_interaction.py).\n",
    "\n",
    "Mit dem folgenden Code können wir dieses Script starten und eine Eingabe einschleusen, sobald sie erwartet wird:"
   ]
  },
  {
   "cell_type": "code",
   "execution_count": null,
   "metadata": {},
   "outputs": [],
   "source": [
    "from subprocess import Popen, PIPE\n",
    "\n",
    "# Möglicherweise ist `python3` nicht als Befehl vorhanden. Ersetze ihn wenn nötig mit deinem.\n",
    "# Dies startet das Python-Script:\n",
    "with Popen([\"python3\", \"./05_3_user_interaction.py\"], stdin=PIPE, stdout=PIPE, stderr=PIPE) as process:\n",
    "    \n",
    "    # Hier schleusen wir \"Luigi\" ein, damit das die Funktion `input()` erhält:\n",
    "    stdout, stderr = process.communicate(\"Luigi\".encode(\"utf-8\"))\n",
    "    \n",
    "    print(stdout, stderr)"
   ]
  },
  {
   "attachments": {},
   "cell_type": "markdown",
   "metadata": {},
   "source": [
    "Dieser Code sieht ein bisschen kompliziert aus, ist es aber nicht ;)\n",
    "\n",
    "* Mit `Popen(...)` (Konstruktor) haben wir einen neuen Prozess geöffnet (`Popen`: \"Process Open\").\n",
    "* `stdin`, `stdout` und `stderr` bezeichnen verschiedene Kanäle für die Kommunikation:\n",
    "    * `stdin` wird verwendet, um von unserer Seite Input in den Prozess einzuschleusen.\n",
    "    * `stdout` ist der Kanal, in welchem die Ausgabe des Prozesses erreichbar ist.\n",
    "    * `stderr` ist der Kanal, in welchem Fehler erreichbar sind.\n",
    "* Wir haben diesen Parametern den Wert `subprocess.PIPE` gegeben, damit wir diese Kanäle verwenden können. Ansonsten würden diese an ein User-Terminal weitergeleitet bzw. der Output würde direkt ge`print`et werden, anstelle das wir Zugriff auf diese Kanäle hätten.\n",
    "\n",
    "* Mit `process.communicate(...)` führen wir den Prozess weiter, bis eine Eingabe erwartet wird.\n",
    "    * Sobald die Eingabe erwartet wird, übergeben wir dem Prozess den String \"Luigi\", damit dies als User-Eingabe (`input()`-Funktion) erkannt wird.\n",
    "\n",
    "* Am Schluss sollte der Output in der Variable `stdout` sein und die Variable `stderr` sollte ein leeres Byte-Array sein - ausser es gab einen Fehler.\n",
    "\n",
    "So, das war bereits die ganze Hexerei!\n",
    "\n",
    "Versuche nun, die [Lab-Aufgaben](../../labs/05_advanced_techniques/05_3_external_programs.ipynb) zu lösen!"
   ]
  }
 ],
 "metadata": {
  "kernelspec": {
   "display_name": "Python 3",
   "language": "python",
   "name": "python3"
  },
  "language_info": {
   "codemirror_mode": {
    "name": "ipython",
    "version": 3
   },
   "file_extension": ".py",
   "mimetype": "text/x-python",
   "name": "python",
   "nbconvert_exporter": "python",
   "pygments_lexer": "ipython3",
   "version": "3.9.6"
  },
  "orig_nbformat": 4
 },
 "nbformat": 4,
 "nbformat_minor": 2
}
