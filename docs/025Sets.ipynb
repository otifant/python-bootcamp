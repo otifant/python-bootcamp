{
 "cells": [
  {
   "attachments": {},
   "cell_type": "markdown",
   "metadata": {},
   "source": [
    "# Sets\n",
    "\n",
    "Python-Sets sind eine unglaublich nützliche Datenstruktur, mit der man ungeordnete, eindeutige Elemente speichern kann. Sie ähneln Listen und Tupeln, aber Sets können keine doppelten Werte enthalten. In dieser Einführung werden wir die Grundlagen zum Erstellen und Verwenden von Sets sowie einige gängige Set-Operationen behandeln.\n",
    "\n",
    "# Ein Set erstellen\n",
    "Es gibt zwei Möglichkeiten, ein Set in Python zu erstellen: Mit der Funktion `set()` oder mit geschweiften Klammern `{}`."
   ]
  },
  {
   "cell_type": "code",
   "execution_count": 1,
   "metadata": {},
   "outputs": [
    {
     "name": "stdout",
     "output_type": "stream",
     "text": [
      "set()\n",
      "{'orange', 'banana', 'apple'}\n",
      "{1, 2, 3, 4}\n",
      "{'blue', 'green', 'red'}\n",
      "{False, True, 2, 3, 'hello'}\n"
     ]
    }
   ],
   "source": [
    "# Creating an empty set\n",
    "empty_set = set()\n",
    "print(empty_set)  # Output: set()\n",
    "\n",
    "# Creating a set using curly braces\n",
    "fruits = {\"apple\", \"banana\", \"orange\"}\n",
    "print(fruits)  # Output: {'apple', 'banana', 'orange'}\n",
    "\n",
    "# Creating a set from a list using the set() function\n",
    "numbers_list = [1, 2, 2, 3, 4, 4]\n",
    "unique_numbers = set(numbers_list)\n",
    "print(unique_numbers)  # Output: {1, 2, 3, 4}\n",
    "\n",
    "# A set does not contain dublicates\n",
    "color_set = {\"green\", \"blue\", \"red\", \"green\"}\n",
    "print(color_set)  # Output: {'red', 'blue', 'green'}\n",
    "\n",
    "# The values True and 1 are considered the same value in sets, and are treated as duplicates:\n",
    "# Same goes for 0 and False\n",
    "test_set = {\"hello\", True, 1, 2, 3, False, 0}\n",
    "print(test_set)  # Output: {False, True, 2, 3, 'hello'}\n"
   ]
  },
  {
   "attachments": {},
   "cell_type": "markdown",
   "metadata": {},
   "source": [
    "## List in Set umwandeln\n",
    "\n",
    "Hast du eine Liste, und du möchtest nun wissen, wie viele verschiedene Elemente diese besitzt (also du willst keine Duplikate), dann bietet Python mit `set(...)` eine sehr praktische Funktion an:"
   ]
  },
  {
   "cell_type": "code",
   "execution_count": 3,
   "metadata": {},
   "outputs": [
    {
     "name": "stdout",
     "output_type": "stream",
     "text": [
      "All values in the list: {1, 2, 3, 4, 5, 99}\n",
      "The list contains 6 different values.\n"
     ]
    }
   ],
   "source": [
    "my_list = [1,2,3,4,5,1,1,4,3,99]\n",
    "\n",
    "values = set(my_list)\n",
    "\n",
    "print(\"All values in the list:\", values)\n",
    "print(f\"The list contains {len(values)} different values.\")"
   ]
  },
  {
   "attachments": {},
   "cell_type": "markdown",
   "metadata": {},
   "source": [
    "## Grundlegende Set-Operationen\n",
    "Sets haben integrierte Methoden, mit denen Sie verschiedene Operationen ausführen können, wie das Hinzufügen von Elementen, das Entfernen von Elementen und das Überprüfen, ob ein Element in einem Set enthalten ist."
   ]
  },
  {
   "cell_type": "code",
   "execution_count": 12,
   "metadata": {},
   "outputs": [
    {
     "name": "stdout",
     "output_type": "stream",
     "text": [
      "{'apple', 'banana', 'grape', 'orange'}\n",
      "{'apple', 'grape', 'orange'}\n",
      "True\n",
      "3\n",
      "apple\n",
      "grape\n",
      "orange\n"
     ]
    }
   ],
   "source": [
    "fruits = {\"apple\", \"banana\", \"orange\"}\n",
    "\n",
    "# Adding an element to a set\n",
    "fruits.add(\"grape\")\n",
    "print(fruits)  # Output: {'apple', 'banana', 'orange', 'grape'}\n",
    "\n",
    "# Removing an element from a set\n",
    "fruits.remove(\"banana\")\n",
    "print(fruits)  # Output: {'apple', 'orange', 'grape'}\n",
    "\n",
    "# Checking if an element is in a set\n",
    "print(\"apple\" in fruits)  # Output: True\n",
    "\n",
    "# Getting the length of a set\n",
    "print(len(fruits))  # Output: 3\n",
    "\n",
    "# Looping over all elements of a set\n",
    "for x in fruits:\n",
    "    print(x)\n"
   ]
  },
  {
   "attachments": {},
   "cell_type": "markdown",
   "metadata": {},
   "source": [
    "## Häufige Set-Operationen\n",
    "Python-Sets unterstützen auch häufige mathematische Set-Operationen wie Vereinigung, Schnittmenge, Differenz und symmetrische Differenz."
   ]
  },
  {
   "cell_type": "code",
   "execution_count": null,
   "metadata": {},
   "outputs": [],
   "source": [
    "# Two sets of numbers\n",
    "even_numbers = {2, 4, 6, 8, 10}\n",
    "odd_numbers = {1, 3, 5, 7, 9}\n",
    "\n",
    "# Union of two sets\n",
    "all_numbers = even_numbers.union(odd_numbers)\n",
    "print(all_numbers)  # Output: {1, 2, 3, 4, 5, 6, 7, 8, 9, 10}\n",
    "\n",
    "# Intersection of two sets\n",
    "common_numbers = {1, 2, 3, 4}.intersection({3, 4, 5, 6})\n",
    "print(common_numbers)  # Output: {3, 4}\n",
    "\n",
    "# Difference of two sets\n",
    "diff_numbers = {1, 2, 3, 4}.difference({3, 4, 5, 6})\n",
    "print(diff_numbers)  # Output: {1, 2}\n",
    "\n",
    "# Symmetric difference of two sets\n",
    "sym_diff_numbers = {1, 2, 3, 4}.symmetric_difference({3, 4, 5, 6})\n",
    "print(sym_diff_numbers)  # Output: {1, 2, 5, 6}"
   ]
  },
  {
   "attachments": {},
   "cell_type": "markdown",
   "metadata": {},
   "source": [
    "Weitere Methoden auf Sets findest du hier: https://www.w3schools.com/python/python_sets_methods.asp"
   ]
  }
 ],
 "metadata": {
  "kernelspec": {
   "display_name": "Python 3",
   "language": "python",
   "name": "python3"
  },
  "language_info": {
   "codemirror_mode": {
    "name": "ipython",
    "version": 3
   },
   "file_extension": ".py",
   "mimetype": "text/x-python",
   "name": "python",
   "nbconvert_exporter": "python",
   "pygments_lexer": "ipython3",
   "version": "3.10.10"
  },
  "orig_nbformat": 4
 },
 "nbformat": 4,
 "nbformat_minor": 2
}
