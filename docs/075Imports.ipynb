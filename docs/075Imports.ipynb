{
 "cells": [
  {
   "attachments": {},
   "cell_type": "markdown",
   "metadata": {},
   "source": [
    "Wie in Java können auch in Python externe Libraries, sowie auch eingene Files (Klassen und Methoden) in ein Skript eingebunden werden.\n",
    "Dies ermöglicht eine Wiederverwendbarkeit und kann helfen, den Code, durch Auslagern von Elementen sauber zu halten.\n",
    "Nachfolgend eineige Beispiele:"
   ]
  },
  {
   "cell_type": "code",
   "execution_count": null,
   "metadata": {},
   "outputs": [],
   "source": [
    "# Importieren von Standardmodulen wie \"random\" oder \"os\"\n",
    "import random\n",
    "import os\n",
    "\n",
    "# Aufruf von Funktionen aus den importierten Modulen\n",
    "rand_num = random.randint(0, 10)\n",
    "cwd = os.getcwd()"
   ]
  },
  {
   "attachments": {},
   "cell_type": "markdown",
   "metadata": {},
   "source": [
    "In diesem Beispiel haben wir zwei Standardmodule `random` und `os` importiert und können nun Funktionen aus diesen Modulen in unserem Skript aufrufen. In diesem Fall haben wir die Funktion `randint` aus dem Modul `random` verwendet, um eine zufällige Ganzzahl zu generieren, und die Funktion `getcwd` aus dem Modul `os`, um den aktuellen Arbeitsverzeichnis zu erhalten."
   ]
  },
  {
   "cell_type": "code",
   "execution_count": null,
   "metadata": {},
   "outputs": [],
   "source": [
    "# Importieren von selbst erstellten Modulen wie \"my_module.py\"\n",
    "import my_module\n",
    "\n",
    "# Aufruf von Funktionen aus dem importierten Modul\n",
    "result = my_module.add(2, 3)"
   ]
  },
  {
   "attachments": {},
   "cell_type": "markdown",
   "metadata": {},
   "source": [
    "In diesem Beispiel haben wir ein benutzerdefiniertes Modul `my_module.py` erstellt, das eine Funktion `add` enthält, die die Summe zweier Zahlen berechnet. Wir haben dann dieses Modul in unserem Skript importiert und können nun die Funktion `add` aus diesem Modul aufrufen."
   ]
  },
  {
   "cell_type": "code",
   "execution_count": null,
   "metadata": {},
   "outputs": [],
   "source": [
    "# Importieren einer spezifischen Funktion aus einem selbst erstellten Modul\n",
    "from my_module import multiply\n",
    "\n",
    "# Aufruf der importierten Funktion\n",
    "result = multiply(2, 3)"
   ]
  },
  {
   "attachments": {},
   "cell_type": "markdown",
   "metadata": {},
   "source": [
    "In diesem Beispiel haben wir eine spezifische Funktion `multiply` aus unserem benutzerdefinierten Modul `my_module.py` importiert und können nun diese Funktion direkt in unserem Skript aufrufen, ohne den Namen des Moduls vor der Funktion zu verwenden."
   ]
  }
 ],
 "metadata": {
  "language_info": {
   "name": "python"
  },
  "orig_nbformat": 4
 },
 "nbformat": 4,
 "nbformat_minor": 2
}
