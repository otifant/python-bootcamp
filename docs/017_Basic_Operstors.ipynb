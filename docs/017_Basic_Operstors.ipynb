{
 "cells": [
  {
   "attachments": {},
   "cell_type": "markdown",
   "metadata": {},
   "source": [
    "# Weitere Operationen\n",
    "\n",
    "Wir schauen uns hier noch einmal ein paar Operationen an, die Python speziell anbietet. Ziel dieses Kapitels ist es zu verstehen, dass in Python Operanden grundsätzlich auf alle Datentypen möglich sind."
   ]
  },
  {
   "attachments": {},
   "cell_type": "markdown",
   "metadata": {},
   "source": [
    "## Zahlen\n",
    "Im nächsten Code-Listing thematisieren wir grundlegende Zahlen-Operanden in Python.\n",
    "\n",
    "Die `+`, `-`, `*`, `/` und `%` (modulo)-Operanden auf Zahlen verhalten sich wie in Java. Es gilt ebenfalls Punkt vor Strich etc.\n",
    "Es gibt zusätzlich den `**` Operanden, welcher für das Potenzieren benutzt werden kann:"
   ]
  },
  {
   "cell_type": "code",
   "execution_count": null,
   "metadata": {},
   "outputs": [],
   "source": [
    "print(1 + 2 * 3 / 4)  # Output: 2.5\n",
    "print(10 % 3)  # Modulo-Operation, sprich 3er-Rest. # Output: 1\n",
    "\n",
    "\n",
    "num1 = 3 ** 2  # = 3 * 3 = 9\n",
    "num2 = 2 ** 8  # = 2 * 2 * 2 * 2 * 2 * 2 * 2 * 2 = 2^8 = 256\n",
    "print(num1)  # 9\n",
    "print(num2)  # 256"
   ]
  },
  {
   "attachments": {},
   "cell_type": "markdown",
   "metadata": {},
   "source": [
    "## Strings\n",
    "Python unterstützt das Multiplizieren von Zeichenfolgen, um eine Zeichenfolge mit einer sich wiederholenden Sequenz zu bilden:"
   ]
  },
  {
   "cell_type": "code",
   "execution_count": null,
   "metadata": {},
   "outputs": [],
   "source": [
    "string1 = \"bla\" * 4\n",
    "print(string1)  # Output: blablablaba"
   ]
  },
  {
   "attachments": {},
   "cell_type": "markdown",
   "metadata": {},
   "source": [
    "## Listen\n",
    "Dasselbe Prinzip funktioniert auch bei Listen :"
   ]
  },
  {
   "cell_type": "code",
   "execution_count": null,
   "metadata": {},
   "outputs": [],
   "source": [
    "my_list = [0, 100, 5000] * 3\n",
    "print(my_list)  # Output: [0, 100, 5000, 0, 100, 5000, 0, 100, 5000]"
   ]
  },
  {
   "attachments": {},
   "cell_type": "markdown",
   "metadata": {},
   "source": [
    "Mit dem `+` Operator können Listen vereinigt werden. Hierbei werden alle Elemente der zweiten Liste am Ende der ersten Liste hinzugefügt."
   ]
  },
  {
   "cell_type": "code",
   "execution_count": null,
   "metadata": {},
   "outputs": [],
   "source": [
    "numbers = [0, 1, 2, 3]\n",
    "large_numbers = [1001, 2000]\n",
    "colors = [\"red\", \"blue\", \"yellow\"]\n",
    "\n",
    "big_list = numbers + large_numbers + colors\n",
    "\n",
    "# Output: [0, 1, 2, 3, 1001, 2000, 'red', 'blue', 'yellow']\n",
    "print(big_list)"
   ]
  },
  {
   "attachments": {},
   "cell_type": "markdown",
   "metadata": {},
   "source": [
    "Hier findest du eine Liste mit vielen Python Operatoren: https://www.w3schools.com/python/python_operators.asp"
   ]
  }
 ],
 "metadata": {
  "language_info": {
   "name": "python"
  },
  "orig_nbformat": 4
 },
 "nbformat": 4,
 "nbformat_minor": 2
}
