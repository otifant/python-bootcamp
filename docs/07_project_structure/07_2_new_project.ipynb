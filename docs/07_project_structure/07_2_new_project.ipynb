{
 "cells": [
  {
   "attachments": {},
   "cell_type": "markdown",
   "metadata": {},
   "source": [
    "# Neues Projekt aufsetzen"
   ]
  },
  {
   "attachments": {},
   "cell_type": "markdown",
   "metadata": {},
   "source": [
    "Die Projekt-Struktur variiert von Projekt zu Projekt teilweise sehr.\n",
    "\n",
    "Wenn du ein neues Projekt mit Poetry erstellen lässt, dann wird eine Projekt-Struktur erstellt, die sehr an diejenige anderer Programmiersprache erinnert.\n",
    "\n",
    "Um ein neues Projekt zu generieren, gib bitte folgendes in der Konsole ein, wobei du natürlich den Projektnamen deines neuen Projekts eingibst:"
   ]
  },
  {
   "cell_type": "code",
   "execution_count": null,
   "metadata": {},
   "outputs": [],
   "source": [
    "!poetry new --src <project-name>"
   ]
  },
  {
   "attachments": {},
   "cell_type": "markdown",
   "metadata": {},
   "source": [
    "Dieser Befehl hat dir folgende Ordner-Struktur erstellt:\n",
    "\n",
    "```\n",
    "<project-name>\n",
    "├── pyproject.toml\n",
    "├── README.md\n",
    "├── src\n",
    "│   └── <project-name>\n",
    "│       └── __init__.py\n",
    "└── tests\n",
    "    └── __init__.py\n",
    "```\n",
    "\n",
    "Interessant ist, welche Ordner der Befehl erstellt hat:\n",
    "* src/<project-name>: Hier schreibst du deinen eigentlichen Code rein.\n",
    "* tests: In diesem Ordner kannst du (Unit-)Tests schreiben.\n",
    "\n",
    "Was aber zentral für ein Poetry-Projekt ist, ist, dass es eine Datei `pyproject.toml` erstellt hat.\n",
    "* In dieser Datei konfigurierst du das Projekt\n",
    "* und gibst an, welche externen Packages (Dependencies) dein Projekt benötigt.\n",
    "\n",
    "Schau dir am besten gleich diese Datei an:\n",
    "\n",
    "```ini\n",
    "[tool.poetry]\n",
    "name = \"<project-name>\"\n",
    "version = \"0.1.0\"\n",
    "description = \"\"\n",
    "authors = [\"Vorname Nachname <email@me.ch>\"]\n",
    "readme = \"README.md\"\n",
    "packages = [{include = \"demo\", from = \"src\"}]\n",
    "\n",
    "[tool.poetry.dependencies]\n",
    "python = \"^3.11\"\n",
    "\n",
    "\n",
    "[build-system]\n",
    "requires = [\"poetry-core\"]\n",
    "build-backend = \"poetry.core.masonry.api\"\n",
    "```"
   ]
  },
  {
   "attachments": {},
   "cell_type": "markdown",
   "metadata": {},
   "source": [
    "Eine detailliertere Anleitung findest du hier:\n",
    "\n",
    "https://python-poetry.org/docs/basic-usage/"
   ]
  }
 ],
 "metadata": {
  "language_info": {
   "name": "python"
  },
  "orig_nbformat": 4
 },
 "nbformat": 4,
 "nbformat_minor": 2
}
