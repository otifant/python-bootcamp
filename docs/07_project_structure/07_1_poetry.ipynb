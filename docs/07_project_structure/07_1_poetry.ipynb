{
 "cells": [
  {
   "attachments": {},
   "cell_type": "markdown",
   "metadata": {},
   "source": [
    "# Poetry\n",
    "\n",
    "Python setzt keine bestimmte Ordnerstruktur voraus. Zusätzlich ist die Angabe verwendeten Dependencies (Modulen/Packages) keine Pflicht und auch nicht standardisiert.\n",
    "\n",
    "Hier kommt Poetry ins Spiel: Poetry adressiert diese Themen als All-in-One-System, um Python-Projekte zu managen.\n",
    "Ähnlich wie NPM, Angular, Spring (initializr) oder Dart/Flutter bietet Poetry ein Tool an, mit welchem du ein neues Projekt generieren kannst."
   ]
  },
  {
   "attachments": {},
   "cell_type": "markdown",
   "metadata": {},
   "source": [
    "## Poetry installieren\n",
    "\n",
    "Die Installation ist hier beschrieben: https://python-poetry.org/docs/#installing-with-the-official-installer\n",
    "\n",
    "Zusammengefasst, kannst du es wie folgt installieren unter Windows:"
   ]
  },
  {
   "cell_type": "code",
   "execution_count": null,
   "metadata": {
    "vscode": {
     "languageId": "powershell"
    }
   },
   "outputs": [],
   "source": [
    "(Invoke-WebRequest -Uri https://install.python-poetry.org -UseBasicParsing).Content | py -"
   ]
  },
  {
   "attachments": {},
   "cell_type": "markdown",
   "metadata": {},
   "source": [
    "Unter Linux und macOS kannst du es mit folgendem Befehl installieren:"
   ]
  },
  {
   "cell_type": "code",
   "execution_count": null,
   "metadata": {},
   "outputs": [],
   "source": [
    "!curl -sSL https://install.python-poetry.org | python3 -\n",
    "\n",
    "# oder unter macOS, wenn das erste nicht funktioniert:\n",
    "# brew install poetry"
   ]
  }
 ],
 "metadata": {
  "kernelspec": {
   "display_name": "Python 3",
   "language": "python",
   "name": "python3"
  },
  "language_info": {
   "codemirror_mode": {
    "name": "ipython",
    "version": 3
   },
   "file_extension": ".py",
   "mimetype": "text/x-python",
   "name": "python",
   "nbconvert_exporter": "python",
   "pygments_lexer": "ipython3",
   "version": "3.9.6"
  },
  "orig_nbformat": 4
 },
 "nbformat": 4,
 "nbformat_minor": 2
}
