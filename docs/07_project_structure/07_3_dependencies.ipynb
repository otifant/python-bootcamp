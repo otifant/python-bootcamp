{
 "cells": [
  {
   "attachments": {},
   "cell_type": "markdown",
   "metadata": {},
   "source": [
    "# Dependencies\n",
    "Benötigt dein Projekt eine Abhängigkeit (Dependency/ein anderes Python-Päcklein/-Bibliotheke), dann kannst du diese mit folgendem Befehl hinzufügen. Im folgenden Beispiel fügen wir das Python-Päcklein \"requests\" hinzu:"
   ]
  },
  {
   "cell_type": "code",
   "execution_count": null,
   "metadata": {},
   "outputs": [],
   "source": [
    "!poetry add requests"
   ]
  },
  {
   "attachments": {},
   "cell_type": "markdown",
   "metadata": {},
   "source": [
    "Dieser Befehl lädt die Dependency herunter und spezifiziert diese Abhängigkeit (inkl. der Version) in der Datei `pyproject.toml`:\n",
    "\n",
    "```ini\n",
    "[tool.poetry.dependencies]\n",
    "python = \"^3.11\"\n",
    "requests = \"^2.30.0\"\n",
    "```"
   ]
  },
  {
   "attachments": {},
   "cell_type": "markdown",
   "metadata": {},
   "source": [
    "Von nun an kannst du das Package `requests` verwenden, aber nur in deinem Projekt! Diese Dependency ist nur in deinem Projekt verfügbar, weil Poetry automatisch ein sogenanntes \"virtual environment\" erstellt und die Dependencies dort drin installiert. Ein Virtual Environment kannst du dir so vorstellen, dass eine Kopie der aktuellen Python-Version gemacht wird und zusammen mit den Projekt-Dependencies in einen Ordner kopiert wird. Das hat den Vorteil, dass du für jedes Projekt eine eigene Python-Version und verschiedene Dependency-Versionen besitzen kannst.\n",
    "\n",
    "Das kannst du gleich testen, ob das installieren geklappt hat, indem du versuchst, dein Projekt auszuführen.\n",
    "\n",
    "Hierfür kannst du mal versuchen, folgendes in `/src/<project-name>/__init__.py` einzugeben:\n",
    "\n",
    "```python\n",
    "print(\"hello world\")\n",
    "\n",
    "r = requests.get('https://google.ch')\n",
    "print(r.status_code)\n",
    "print(r.content)\n",
    "```\n",
    "\n",
    "Den Code kannst du dann mit folgendem Befehl ausführen:\n",
    "```shell\n",
    "poetry run python3 src/<project-name>/__init__.py\n",
    "```\n",
    "\n",
    "Nun solltest du in der Konsole folgendes sehen:\n",
    "```\n",
    "hello world\n",
    "200\n",
    "```\n",
    "\n",
    "und der Seiten-Code (HTML) von google.ch."
   ]
  },
  {
   "attachments": {},
   "cell_type": "markdown",
   "metadata": {},
   "source": [
    "## Bereits spezifizierte Dependencies installieren\n",
    "\n",
    "Um die Dependencies zu installieren, die im pyproject.toml spezifiziert sind, kannst du wie folgt tun:"
   ]
  },
  {
   "cell_type": "code",
   "execution_count": null,
   "metadata": {},
   "outputs": [],
   "source": [
    "!poetry install"
   ]
  },
  {
   "attachments": {},
   "cell_type": "markdown",
   "metadata": {},
   "source": [
    "## Dependencies werden nicht von VS Code erkannt?\n",
    "\n",
    "Sollte der `import` bei dir unterstrichen sein mit der Meldung, dass es diese Dependency nicht kennt, dann musst du bei VS Code womöglich noch den Python-Interpreter ändern.\n",
    "\n",
    "Das kannst du wie folgt tun:\n",
    "\n",
    "![Interpreter ändern](./poetry_configure_python_interpreter.png)\n",
    "\n",
    "* Klicke bei VS Code ganz unten auf die Python-Version.\n",
    "* Wähle nun die Python-Version aus, die das Projekt verwendet. Achte dabei darauf, dass es diejenige verwendet, die sich in deinem \"virtualenv\" befindet. In diesem Fall war es diese Version, die \"virtualenvs\" im Dateipfad hatte (bzw. der Name eine zufällige Textfolge besitzt).\n",
    "\n",
    "Nun sollte auch VS Code deinen `import` korrekt erkennen."
   ]
  }
 ],
 "metadata": {
  "language_info": {
   "name": "python"
  },
  "orig_nbformat": 4
 },
 "nbformat": 4,
 "nbformat_minor": 2
}
