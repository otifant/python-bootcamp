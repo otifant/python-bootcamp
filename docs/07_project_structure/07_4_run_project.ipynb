{
 "cells": [
  {
   "attachments": {},
   "cell_type": "markdown",
   "metadata": {},
   "source": [
    "# Projekt ausführen\n",
    "\n",
    "Dein Projekt kannst du z.B. wie folgt ausführen:"
   ]
  },
  {
   "cell_type": "code",
   "execution_count": null,
   "metadata": {},
   "outputs": [],
   "source": [
    "!poetry run python3 src/<project-name>/__init__.py"
   ]
  },
  {
   "attachments": {},
   "cell_type": "markdown",
   "metadata": {},
   "source": [
    "## Projekt mit VS Code debuggen\n",
    "\n",
    "In VS Code kannst du dein Projekt so konfigurieren, dass es automatisch (im Debugging-Modus) ausgeführt wird, wenn du die [F5]-Taste klickst.\n",
    "\n",
    "* Hierfür klickst du im \"Run and Debug\"-Tab auf \"create a launch.json file\".\n",
    "\n",
    "![Interpreter ändern](./2_vscode_create_launch_json.png)\n",
    "\n",
    "* anschliessend wählst du eines der ersten beiden Elemente aus (vorzugsweise Module):\n",
    "\n",
    "![Interpreter ändern](./3_vscode_create_python_launch.png)\n",
    "\n",
    "\n",
    "Das generiert die ungefähr folgenden Code in der Datei `.vscode/launch.json`:\n",
    "```json\n",
    "{\n",
    "    \"version\": \"0.2.0\",\n",
    "    \"configurations\": [\n",
    "        {\n",
    "            \"name\": \"Python: Poetry\",\n",
    "            \"type\": \"python\",\n",
    "            \"request\": \"launch\",\n",
    "            \"module\": \"demo\",\n",
    "            \"justMyCode\": true\n",
    "        }\n",
    "    ]\n",
    "}\n",
    "```\n",
    "\n",
    "Nun startet dein Projekt, wenn du [F5] auf deiner Tastatur klickst."
   ]
  }
 ],
 "metadata": {
  "language_info": {
   "name": "python"
  },
  "orig_nbformat": 4
 },
 "nbformat": 4,
 "nbformat_minor": 2
}
