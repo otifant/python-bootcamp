{
 "cells": [
  {
   "attachments": {},
   "cell_type": "markdown",
   "metadata": {},
   "source": [
    "# Exception Handling\n",
    "Während des Ausführen von Python-Code können sehr viele Fehler passieren.\n",
    "\n",
    "Wenn Fehler erkannt werden, dann werden Fehler (in der Programmierung meistens Ausnahmen) geworfen (auf Englisch \"raise exceptions\").\n",
    "\n",
    "Fehler treten z.B. auf, wenn ein unerwarteter Input geliefert wird, oder wenn versucht wird, eine Zahl durch 0 zu teilen.\n",
    "\n",
    "Wenn wir wissen, dass ein bestimmter Code bestimmte Fehler werfen kann und wir diese Fehler abfangen wollen, dann können wir das mit den Keywords `try` und `except` tun:"
   ]
  },
  {
   "cell_type": "code",
   "execution_count": null,
   "metadata": {},
   "outputs": [],
   "source": [
    "try:\n",
    "    number = int(input(\"Please give a number: \"))\n",
    "    print(f\"100 / {number} = {100/number}\")\n",
    "except Exception as exception:\n",
    "    print(type(exception))\n",
    "    print(exception)"
   ]
  },
  {
   "attachments": {},
   "cell_type": "markdown",
   "metadata": {},
   "source": [
    "Versuche beim obigen Code Fehler zu provozieren.\n",
    "\n",
    "Grundsätzlich gibt es bei diesem Code zwei häufige Fehlerquellen:\n",
    "1. Der User gibt nicht eine Zahl sondern sonst etwas ein -> die Eingabe kann nicht in eine Zahl umgewandelt werden.\n",
    "   \n",
    "   Dies führt zu folgender Ausgabe:\n",
    "    ```\n",
    "    <class 'ValueError'>\n",
    "    invalid literal for int() with base 10: 'ungültige Zahl'\n",
    "    ```\n",
    "2. Der User gibt die Zahl 0 ein -> dies führt zu einer 0-Division.\n",
    "   \n",
    "   Dies führt zu dieser Ausgabe:\n",
    "   ```\n",
    "   <class 'ZeroDivisionError'>\n",
    "   division by zero\n",
    "   ```"
   ]
  },
  {
   "attachments": {},
   "cell_type": "markdown",
   "metadata": {},
   "source": [
    "Oft wirst du in die Situation kommen, dass du verschiedene Fehler verschieden oder nur bestimmte Fehler behandeln möchtest.\n",
    "Hierfür bietet es sich an, verschiedene `except`-Blöcke zu definieren:"
   ]
  },
  {
   "cell_type": "code",
   "execution_count": null,
   "metadata": {},
   "outputs": [],
   "source": [
    "try:\n",
    "    number = int(input(\"Please give a number: \"))\n",
    "    print(f\"100 / {number} = {100/number}\")\n",
    "except ZeroDivisionError:\n",
    "    print(\"Use another input than 0. Can't divide by 0.\")\n",
    "except ValueError:\n",
    "    print(\"Please enter a valid number!\")"
   ]
  },
  {
   "attachments": {},
   "cell_type": "markdown",
   "metadata": {},
   "source": [
    "Nach dem `except`-Keyword haben wir den Typ der Exception (des Fehlers) angegeben. Der Inhalt des entsprechenden `except`-Blocks wird nur ausgeführt, wenn der Fehler vom spezifizierten Typ ist (bzw. davon erbt).\n",
    "\n",
    "Im allerersten `except` haben wir die Exception-Klasse `Exception` angegeben. Da die anderen Exception-Klassen wie `ZeroDivisionError` und `ValueError` eine Subklasse von `Exception` sind, werden diese Fehler auch von `except Exception` abgefangen.\n",
    "\n",
    "Die beiden genaueren Exceptions dienen für folgenden Zweck:\n",
    "* `ZeroDivisionError`: Wird geworfen, wenn eine Zahl durch 0 geteilt wird.\n",
    "* `ValueError`: Ein Parameter (hier derjenige für `input`) hat einen nicht unterstützen Wert erhalten."
   ]
  },
  {
   "attachments": {},
   "cell_type": "markdown",
   "metadata": {},
   "source": [
    "## Kürzestes Beispiel\n",
    "Nehmen wir noch einmal das erste Beispiel und vereinfachen es so, dass wir nur die Information erhalten, dass ein Fehler aufgetreten ist - nicht aber, welcher.\n",
    "\n",
    "Das kann auf folgendes reduziert werden:"
   ]
  },
  {
   "cell_type": "code",
   "execution_count": null,
   "metadata": {},
   "outputs": [],
   "source": [
    "try:\n",
    "    number = int(input(\"Please give a number: \"))\n",
    "    print(f\"100 / {number} = {100/number}\")\n",
    "except:\n",
    "    print(\"An error has occurred. This is all I know :/\")"
   ]
  },
  {
   "attachments": {},
   "cell_type": "markdown",
   "metadata": {},
   "source": [
    "Dieses Beispiel sollte zeigen, dass **nicht** zwingend eine `Exception`-Klasse angegeben werden muss.\n",
    "\n",
    "Dies ist eine schnelle Möglichkeit, ein Exception-Handling zu schreiben, das alle `Exception`s abfängt. In produktivem Code wirst du meisten nicht so ein einfaches Exception-Handling sehen, weil auf diese Weise die Information verloren geht, was der Fehler war."
   ]
  },
  {
   "attachments": {},
   "cell_type": "markdown",
   "metadata": {},
   "source": [
    "## Vollständiges Beispiel\n",
    "Der Vollständigkeit halber präsentieren wir hier ein komplettes `try-except-else-finally`-Exception Handling:"
   ]
  },
  {
   "cell_type": "code",
   "execution_count": null,
   "metadata": {},
   "outputs": [],
   "source": [
    "try:\n",
    "    number = int(input(\"Please give a number: \"))\n",
    "    result = 100/number\n",
    "except ZeroDivisionError:\n",
    "    print(\"Use another input than 0. Can't divide by 0.\")\n",
    "except ValueError:\n",
    "    print(\"Please enter a valid number!\")\n",
    "except Exception as ex:\n",
    "    print(\"An exception occurred that I didn't think of :/\")\n",
    "    print(type(ex))\n",
    "    print(ex)\n",
    "else:\n",
    "    print(\"The operation succeeded. The result:\", result)\n",
    "finally:\n",
    "    print(\"Now, let's go into vacations :)\")"
   ]
  },
  {
   "attachments": {},
   "cell_type": "markdown",
   "metadata": {},
   "source": [
    "Der obige Code beinhaltet\n",
    "* das ursprüngliche Error-Handling, das auf `ZeroDivisionError`- und `ValueError`-Fehler behandelt.\n",
    "* einen Exception-Block, der alle anderen `Exception`s abfängt, die noch nicht abgefangen wurden (`except Exception as ex`-Block)\n",
    "* einen `else`-Block, der ausgeführt wird, wenn es im `try` keinen Fehler gegeben hat.\n",
    "* und einen `finally`-Block, der **immer** im Anschluss noch ausgeführt wird (ganz egal, ob eine Exception aufgetreten ist oder nicht)."
   ]
  },
  {
   "attachments": {},
   "cell_type": "markdown",
   "metadata": {},
   "source": [
    "## Exceptions werfen\n",
    "Wenn du z.B. ungültigen Input erhältst, dann kann es sinnvoll sein, dass deine Methode einen Fehler wirft.\n",
    "\n",
    "Im folgenden Beispiel erwartet deine Funktion eine Zahl als Input, Strings hingegen machen keinen Sinn im Parameter. Deswegen kann es Sinn machen, den Input zu überprüfen und bei einem falschen Typ eine `Exception` zu werfen:"
   ]
  },
  {
   "cell_type": "code",
   "execution_count": null,
   "metadata": {},
   "outputs": [],
   "source": [
    "def square(x: int | float) -> int | float:\n",
    "    \"\"\"Returns the square of x.\"\"\"\n",
    "\n",
    "    if not isinstance(x, (int, float)):\n",
    "        raise ValueError(\n",
    "            \"The input of the square function must be a non-complex number\"\n",
    "        )\n",
    "\n",
    "    return x * x\n",
    "\n",
    "\n",
    "square(2)\n",
    "square(2.0)\n",
    "square(\"2\")"
   ]
  },
  {
   "attachments": {},
   "cell_type": "markdown",
   "metadata": {},
   "source": [
    "In diesem Beispiel war folgende Zeile zentral:\n",
    "\n",
    "```python\n",
    "raise ValueError(\"message\")\n",
    "```\n",
    "\n",
    "Mit dem `raise`-Keyword wirf man die Exception rechts von diesem Keyword.\n",
    "\n",
    "In diesem Beispiel haben wir eine `Exception` vom Typ `ValueError` geworfen. Dieser Typ deutet an, dass eine Funktion it einem ungültigen Wert/Argument aufgerufen wurde.\n",
    "\n",
    "Ganz allgemein können alle Objekte als Fehler geworfen werden, die eine Instanz von einer Exception-Klasse sind:"
   ]
  },
  {
   "cell_type": "code",
   "execution_count": null,
   "metadata": {},
   "outputs": [],
   "source": [
    "raise Exception(\"A random exception\")"
   ]
  },
  {
   "attachments": {},
   "cell_type": "markdown",
   "metadata": {},
   "source": [
    "### Angeben, wenn Fehler geworfen wird\n",
    "Es ist eine Good-Practice, im DocString einer Funktion/Methode anzugeben, wenn sie eine Exception wirft. Somit weiss dann auch der/die Entwickler:in, welche `Exception` behandelt werden muss.\n",
    "\n",
    "Der DocString aus dem `square(x)`-Beispiel könnte wie folgt aussehen (Beachte den DocString-Block `Raises`):"
   ]
  },
  {
   "cell_type": "code",
   "execution_count": null,
   "metadata": {},
   "outputs": [],
   "source": [
    "def square(x: int | float) -> int | float:\n",
    "    \"\"\" \n",
    "    Returns the square of x.\n",
    "    \n",
    "    Parameters:\n",
    "    - x (int | float): The number you want the square of.\n",
    "\n",
    "    Returns:\n",
    "     - (int | float): The square of x.\n",
    "\n",
    "    Raises:\n",
    "    - ValueError: If x is not a number.\n",
    "     \n",
    "    \"\"\"\n",
    "\n",
    "    if not isinstance(x, (int, float)):\n",
    "        raise ValueError(\"The input of the square function must be a non-complex number\")\n",
    "    \n",
    "    return x * x"
   ]
  },
  {
   "attachments": {},
   "cell_type": "markdown",
   "metadata": {},
   "source": [
    "### Neue Exception-Typen definieren\n",
    "Es kann schnell vorkommen, dass Python keine Exception-Klasse für einen sehr spezifischen Fehler bereitstellt.\n",
    "\n",
    "In diesem Fall wird oft eine neue Art von Exception geschrieben. Hierfür wird eine neue Klasse erstellt, die von der Klasse `Exception` erbt.\n",
    "\n",
    "(Vererbung wird erst später behandelt. Deswegen lasse dich nicht von `__init__`, `self`, usw. verwirren. Zentral ist hier nur, dass du weisst, dass du eigene Exceptions definieren kannst.)\n",
    "\n",
    "Im folgenden Beispiel erstellen wir die neue Exception `NegativeNumberException`, die normalerweise geworfen wird, wenn die Quadratwurzel aus einer negativen Zahl genommen wird:"
   ]
  },
  {
   "cell_type": "code",
   "execution_count": null,
   "metadata": {},
   "outputs": [],
   "source": [
    "class NegativeNumberException(Exception):\n",
    "    def __init__(self, number):\n",
    "        super().__init__(f\"Cannot compute square root of a negative number: {number}\")\n",
    "\n",
    "\n",
    "def square_root(number) -> float:\n",
    "    if number < 0:\n",
    "        raise NegativeNumberException(number)\n",
    "\n",
    "    # ^ 0.5 is equals to take the square root:\n",
    "    return number ** 0.5"
   ]
  },
  {
   "attachments": {},
   "cell_type": "markdown",
   "metadata": {},
   "source": [
    "Diese eigene Exception hat den Vorteil, dass diese Exception besser abgefangen werden kann:"
   ]
  },
  {
   "cell_type": "code",
   "execution_count": null,
   "metadata": {},
   "outputs": [],
   "source": [
    "def print_square_root(number):\n",
    "    result: float | complex = None\n",
    "\n",
    "    try:\n",
    "        result = square_root(number)\n",
    "    except NegativeNumberException:\n",
    "        # if number < 0: We can't direct calculate the square root.\n",
    "        # But thanks to a trick, we know that square_root(a * b) = square_root(a) * square_root(b).\n",
    "        # And for something smaller than 0:\n",
    "        # square_root(-n) = square_root(-1) * square_root(n) = i * square_root(n)\n",
    "        # where i is the complex number (in Python represented as `j`).\n",
    "        result = 1j * square_root(-1 * number)\n",
    "    \n",
    "    print(f\"The square root of {number} is {result}\")\n",
    "\n",
    "\n",
    "print_square_root(1)\n",
    "print_square_root(-1)\n",
    "print_square_root(4)\n",
    "print_square_root(-4)\n"
   ]
  }
 ],
 "metadata": {
  "kernelspec": {
   "display_name": "Python 3",
   "language": "python",
   "name": "python3"
  },
  "language_info": {
   "codemirror_mode": {
    "name": "ipython",
    "version": 3
   },
   "file_extension": ".py",
   "mimetype": "text/x-python",
   "name": "python",
   "nbconvert_exporter": "python",
   "pygments_lexer": "ipython3",
   "version": "3.11.4"
  },
  "orig_nbformat": 4
 },
 "nbformat": 4,
 "nbformat_minor": 2
}
