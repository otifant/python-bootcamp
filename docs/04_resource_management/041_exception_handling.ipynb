{
 "cells": [
  {
   "attachments": {},
   "cell_type": "markdown",
   "metadata": {},
   "source": [
    "# Exception Handling\n",
    "Während des Ausführen von Python-Code können sehr viele Fehler passieren.\n",
    "\n",
    "Wenn Fehler erkannt werden, dann werden Fehler (in der Programmierung meistens Ausnahmen) geworfen (auf Englisch \"raise exceptions\").\n",
    "\n",
    "Fehler treten z.B. auf, wenn ein unerwarteter Input geliefert wird, oder wenn versucht wird, eine Zahl durch 0 zu teilen.\n",
    "\n",
    "Wenn wir wissen, dass ein bestimmter Code bestimmte Fehler werfen kann und wir diese Fehler abfangen wollen, dann können wir das mit den Keywords `try` und `except` tun:"
   ]
  },
  {
   "cell_type": "code",
   "execution_count": 12,
   "metadata": {},
   "outputs": [
    {
     "name": "stdout",
     "output_type": "stream",
     "text": [
      "100 / 2 = 50.0\n",
      "<class 'MemoryError'>\n",
      "\n"
     ]
    }
   ],
   "source": [
    "try:\n",
    "    number = int(input(\"Please give a number: \"))\n",
    "    print(f\"100 / {number} = {100/number}\")\n",
    "except Exception as exception:\n",
    "    print(type(exception))\n",
    "    print(exception)"
   ]
  },
  {
   "attachments": {},
   "cell_type": "markdown",
   "metadata": {},
   "source": [
    "Versuche beim obigen Code Fehler zu provozieren.\n",
    "\n",
    "Grundsätzlich gibt es bei diesem Code zwei häufige Fehlerquellen:\n",
    "1. Der User gibt nicht eine Zahl sondern sonst etwas ein -> die Eingabe kann nicht in eine Zahl umgewandelt werden.\n",
    "   \n",
    "   Dies führt zu folgender Ausgabe:\n",
    "    ```\n",
    "    <class 'ValueError'>\n",
    "    invalid literal for int() with base 10: 'ungültige Zahl'\n",
    "    ```\n",
    "2. Der User gibt die Zahl 0 ein -> dies führt zu einer 0-Division.\n",
    "   \n",
    "   Dies führt zu dieser Ausgabe:\n",
    "   ```\n",
    "   <class 'ZeroDivisionError'>\n",
    "   division by zero\n",
    "   ```\n",
    "\n",
    "Oft wirst du in die Situation kommen, dass du verschiedene Fehler verschieden oder nur bestimmte Fehler behandeln möchtest.\n",
    "Hierfür bietet es sich an, verschiedene `except`-Blöcke zu definieren:"
   ]
  },
  {
   "cell_type": "code",
   "execution_count": 10,
   "metadata": {},
   "outputs": [
    {
     "name": "stdout",
     "output_type": "stream",
     "text": [
      "100 / 3 = 33.333333333333336\n"
     ]
    }
   ],
   "source": [
    "try:\n",
    "    number = int(input(\"Please give a number: \"))\n",
    "    print(f\"100 / {number} = {100/number}\")\n",
    "except ZeroDivisionError:\n",
    "    print(\"Use another input than 0. Can't divide by 0.\")\n",
    "except ValueError:\n",
    "    print(\"Please enter a valid number!\")"
   ]
  },
  {
   "attachments": {},
   "cell_type": "markdown",
   "metadata": {},
   "source": [
    "Nach dem `except`-Keyword haben wir den Typ der Exception (des Fehlers) angegeben. Der Inhalt des entsprechenden `except`-Blocks wird nur ausgeführt, wenn der Fehler vom spezifizierten Typ ist (bzw. davon erbt).\n",
    "\n",
    "Im allerersten `except` haben wir die Exception-Klasse `Exception` angegeben. Da die anderen Exception-Klassen wie `ZeroDivisionError` und `ValueError` eine Subklasse von `Exception` sind, werden diese Fehler auch von `except Exception` abgefangen.\n",
    "\n",
    "Die beiden genaueren Exceptions dienen für folgenden Zweck:\n",
    "* `ZeroDivisionError`: Wird geworfen, wenn eine Zahl durch 0 geteilt wird.\n",
    "* `ValueError`: Ein Parameter (hier derjenige für `input`) hat einen nicht unterstützen Wert erhalten."
   ]
  },
  {
   "attachments": {},
   "cell_type": "markdown",
   "metadata": {},
   "source": [
    "## Vollständiges Beispiel\n",
    "Der Vollständigkeit halber präsentieren wir hier ein komplettes `try-except-else-finally`-Exception Handling:"
   ]
  },
  {
   "cell_type": "code",
   "execution_count": 15,
   "metadata": {},
   "outputs": [
    {
     "name": "stdout",
     "output_type": "stream",
     "text": [
      "The operation succeeded. The result: 33.333333333333336\n",
      "Now, let's go into vacations :)\n"
     ]
    }
   ],
   "source": [
    "try:\n",
    "    number = int(input(\"Please give a number: \"))\n",
    "    result = 100/number\n",
    "except ZeroDivisionError:\n",
    "    print(\"Use another input than 0. Can't divide by 0.\")\n",
    "except ValueError:\n",
    "    print(\"Please enter a valid number!\")\n",
    "else:\n",
    "    print(\"The operation succeeded. The result:\", result)\n",
    "finally:\n",
    "    print(\"Now, let's go into vacations :)\")"
   ]
  },
  {
   "attachments": {},
   "cell_type": "markdown",
   "metadata": {},
   "source": [
    "Der obige Code beinhaltet\n",
    "* das ursprüngliche Error-Handling, das auf `ZeroDivisionError`- und `ValueError`-Fehler behandelt.\n",
    "* einen `else`-Block, der ausgeführt wird, wenn es im `try` keinen Fehler gegeben hat.\n",
    "* und einen `finally`-Block, der **immer** im Anschluss noch ausgeführt wird."
   ]
  },
  {
   "cell_type": "markdown",
   "metadata": {},
   "source": []
  }
 ],
 "metadata": {
  "kernelspec": {
   "display_name": "Python 3",
   "language": "python",
   "name": "python3"
  },
  "language_info": {
   "codemirror_mode": {
    "name": "ipython",
    "version": 3
   },
   "file_extension": ".py",
   "mimetype": "text/x-python",
   "name": "python",
   "nbconvert_exporter": "python",
   "pygments_lexer": "ipython3",
   "version": "3.10.10"
  },
  "orig_nbformat": 4
 },
 "nbformat": 4,
 "nbformat_minor": 2
}
