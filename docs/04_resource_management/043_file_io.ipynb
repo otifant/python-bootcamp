{
 "cells": [
  {
   "attachments": {},
   "cell_type": "markdown",
   "metadata": {},
   "source": [
    "# I/O: Dateien lesen und schreiben\n",
    "\n",
    "Python macht das lesen und beschreiben von Dateien sehr einfach."
   ]
  },
  {
   "attachments": {},
   "cell_type": "markdown",
   "metadata": {},
   "source": [
    "## Datei lesen\n",
    "Möchtest du eine Datei lesen, dann kannst du das wie folgt tun:"
   ]
  },
  {
   "cell_type": "code",
   "execution_count": null,
   "metadata": {},
   "outputs": [],
   "source": [
    "file = open('./random_text.txt', 'r')\n",
    "\n",
    "# Get the text out of the file:\n",
    "content = file.read()\n",
    "print(content)\n",
    "\n",
    "# Close the file afterwards so that this file isn't blocked:\n",
    "file.close()"
   ]
  },
  {
   "attachments": {},
   "cell_type": "markdown",
   "metadata": {},
   "source": [
    "Mit `open(...)` können wir eine Datei laden. Das erste Argument ist der Pfad zur Datei. Das zweite Argument ist optional, wir haben hier `'r'` angegeben, damit klar ist, dass wir die Datei nur lesen (read) möchten. Wird das zweite Argument `r` nicht angegeben, so kann die Datei auch nur gelesen werden.\n",
    "\n",
    "Die Methode `read()` hat uns den Text-Inhalt der Datei zurückgegeben und mit der `close()`-Methode schliessen wir die Datei wieder, damit der Zugriff auf sie wieder freigegeben wird.\n",
    "\n",
    "Nun können wir dies noch ein bisschen umschreiben:"
   ]
  },
  {
   "cell_type": "code",
   "execution_count": null,
   "metadata": {},
   "outputs": [],
   "source": [
    "with open('./random_text.txt', 'r') as file:\n",
    "    \n",
    "    for line in file:\n",
    "        line = line.strip()\n",
    "        \n",
    "        print(line)"
   ]
  },
  {
   "attachments": {},
   "cell_type": "markdown",
   "metadata": {},
   "source": [
    "Im letzten Beispiel haben wir nun vom `with`-Statement Gebrauch gemacht. Dieses `with` sorgt dafür, dass automatisch in jedem Fall `file.close()` aufgerufen wird. Dateien sollten immer wieder geschlossen werden, damit der Zugriff auf diese nicht für andere blockiert wird.\n",
    "\n",
    "Zusätzlich kann man mit `for line in file` durch alle Zeilen durch iterieren. Dies verhindert gleichzeitig auch eine hohe Speicherauslastung, weil so nur Zeile für Zeile gelesen und in den Arbeitsspeicher kopiert wird (statt die ganze Datei auf einmal).\n",
    "\n",
    "`string.strip()` wird hier noch verwendet, weil meistens (immer ausser bei der letzten Zeile) am Ende der Zeile noch das Zeichen `\\n` bzw. `\\n\\r` folgt. Mit der `strip()`-Methode wird dies entfernt."
   ]
  },
  {
   "attachments": {},
   "cell_type": "markdown",
   "metadata": {},
   "source": [
    "## Datei schreiben\n",
    "Möchtest du Text in eine Datei schreiben, dann kannst du das wie folgt tun:"
   ]
  },
  {
   "cell_type": "code",
   "execution_count": null,
   "metadata": {},
   "outputs": [],
   "source": [
    "with open('./random_output.txt', 'w') as file:\n",
    "    \n",
    "    file.write(\"Hello, it's me!\\n\")\n",
    "    file.write('Hello from the other side.\\n')"
   ]
  },
  {
   "attachments": {},
   "cell_type": "markdown",
   "metadata": {},
   "source": [
    "Beachte das `'w'` für write (also schreiben) in der `open(...)`-Methode. Dieses musst du angeben, damit du in die Datei schreiben kannst.\n",
    "\n",
    "Mit `write(...)` fügst du Text der Datei hinzu.\n",
    "\n",
    "Bitte beachte hier, dass das `'w'` bewirkt, dass eine bestehende Datei überschrieben wird. Möchtest du nur Text hinzufügen, dann verwende `'a'` wie 'append' (hinzufügen)."
   ]
  },
  {
   "attachments": {},
   "cell_type": "markdown",
   "metadata": {},
   "source": [
    "## Datei löschen\n",
    "\n",
    "Wie folgt kannst du eine Datei löschen:"
   ]
  },
  {
   "cell_type": "code",
   "execution_count": null,
   "metadata": {},
   "outputs": [],
   "source": [
    "import os\n",
    "\n",
    "os.remove('./random_output.txt')"
   ]
  },
  {
   "attachments": {},
   "cell_type": "markdown",
   "metadata": {},
   "source": [
    "Du musst `os` importieren, weil die Funktion `remove(...)` in diesem Modul namens `os` ausgelagert ist."
   ]
  },
  {
   "attachments": {},
   "cell_type": "markdown",
   "metadata": {},
   "source": [
    "Analog zum Löschen einer Datei kannst du auch einen Ordner löschen. Dies kannst du mit der `rmdir`-Funktion erledigen:\n",
    "\n",
    "```python\n",
    "import os\n",
    "\n",
    "os.rmdir('./path/to/folder')\n",
    "```\n",
    "\n",
    "Hierfür muss der Ordner aber leer sein!"
   ]
  },
  {
   "attachments": {},
   "cell_type": "markdown",
   "metadata": {},
   "source": [
    "Ist der Ordner nicht leer, dann kannst du ihn inkl. Inhalt mit Hilfe von `shutil` aus der Python Standard Library löschen (keine weitere Installation notwendig):\n",
    "\n",
    "```python\n",
    "import shutil\n",
    "\n",
    "shutil.rmtree('./path/to/folder')\n",
    "```"
   ]
  },
  {
   "attachments": {},
   "cell_type": "markdown",
   "metadata": {},
   "source": [
    "## Exception Handling\n",
    "Im Zusammenhang mit Dateien passieren immer wieder Fehler.\n",
    "Daher macht es Sinn, folgende Fehler auch gleich zu behandeln:\n",
    "* `FileNotFoundError`: Wenn die Datei nicht gefunden werden konnte.\n",
    "* `IOError`: Andere Fehler, die im Zusammenhang mit dem Dateisystem auftreten können.\n",
    "\n",
    "Dies könnte so aussehen:"
   ]
  },
  {
   "cell_type": "code",
   "execution_count": null,
   "metadata": {},
   "outputs": [],
   "source": [
    "try:\n",
    "    with open('./random_text.txt', 'r') as file:\n",
    "        for line in file:\n",
    "            line = line.strip()\n",
    "            print(line)\n",
    "except FileNotFoundError:\n",
    "    print(\"Can't find the file.\")\n",
    "except IOError:\n",
    "    print(\"An IO error occurred.\")\n",
    "except Exception as e:\n",
    "    print(\"An unknown error occurred:\", e)"
   ]
  },
  {
   "attachments": {},
   "cell_type": "markdown",
   "metadata": {},
   "source": [
    "### Prüfen, ob Datei existiert\n",
    "\n",
    "Vorher haben wir den Fall, in welchem eine Datei nicht existiert, mit einem Exception-Handling (`try`-`except`) abgefangen.\n",
    "\n",
    "In vielen Fällen ist es völlig normal, dass eine bestimmte Datei (noch) nicht existiert (z.B. beim ersten Mal ausführen deines Skriptes).\n",
    "\n",
    "In diesem Fall macht es dann mehr Sinn zu ermitteln, ob die Datei existiert - anstatt einen Fehler zu provozieren. Das kannst du wie folgt tun:"
   ]
  },
  {
   "cell_type": "code",
   "execution_count": null,
   "metadata": {},
   "outputs": [],
   "source": [
    "import os.path\n",
    "\n",
    "if os.path.isfile('./random_text.txt'):\n",
    "    print(\"File exists.\")\n",
    "else:\n",
    "    print(\"File does not exist :/\")"
   ]
  },
  {
   "attachments": {},
   "cell_type": "markdown",
   "metadata": {},
   "source": [
    "Vergiss' hier nicht, `os.path` zu importieren, damit du die `isfile`-Funktion verwenden kannst."
   ]
  },
  {
   "attachments": {},
   "cell_type": "markdown",
   "metadata": {},
   "source": [
    "Du kannst nicht nur Dateien auf deren Existenz überprüfen sondern auch Ordner:"
   ]
  },
  {
   "cell_type": "code",
   "execution_count": null,
   "metadata": {},
   "outputs": [],
   "source": [
    "import os.path\n",
    "\n",
    "if os.path.isdir('/Users/'):\n",
    "    print('You are on a Mac.')\n",
    "elif os.path.isdir('C:/Users/'):\n",
    "    print('You are working on a Windows computer')\n",
    "else:\n",
    "    print(\"Can't detect your operating system.\")"
   ]
  }
 ],
 "metadata": {
  "kernelspec": {
   "display_name": "Python 3",
   "language": "python",
   "name": "python3"
  },
  "language_info": {
   "codemirror_mode": {
    "name": "ipython",
    "version": 3
   },
   "file_extension": ".py",
   "mimetype": "text/x-python",
   "name": "python",
   "nbconvert_exporter": "python",
   "pygments_lexer": "ipython3",
   "version": "3.11.4"
  },
  "orig_nbformat": 4
 },
 "nbformat": 4,
 "nbformat_minor": 2
}
