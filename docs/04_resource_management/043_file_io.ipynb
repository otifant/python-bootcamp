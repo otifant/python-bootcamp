{
 "cells": [
  {
   "attachments": {},
   "cell_type": "markdown",
   "metadata": {},
   "source": [
    "# I/O: Dateien lesen und schreiben\n",
    "\n",
    "Python macht das lesen und beschreiben von Dateien sehr einfach."
   ]
  },
  {
   "attachments": {},
   "cell_type": "markdown",
   "metadata": {},
   "source": [
    "## Datei lesen\n",
    "Möchtest du eine Datei lesen, dann kannst du das wie folgt tun:"
   ]
  },
  {
   "cell_type": "code",
   "execution_count": null,
   "metadata": {},
   "outputs": [],
   "source": [
    "file = open('./random_text.txt', 'r')\n",
    "\n",
    "# Get the text out of the file:\n",
    "content = file.read()\n",
    "print(content)\n",
    "\n",
    "# Close the file afterwards so that this file isn't blocked:\n",
    "file.close()"
   ]
  },
  {
   "attachments": {},
   "cell_type": "markdown",
   "metadata": {},
   "source": [
    "Mit `open(...)` können wir eine Datei laden. Das erste Argument ist der Pfad zur Datei. Das zweite Argument ist optional, wir haben hier `'r'` angegeben, damit klar ist, dass wir die Datei nur lesen (read) möchten.\n",
    "\n",
    "Die Methode `read()` hat uns den Text-Inhalt der Datei zurückgegeben und mit der `close()`-Methode schliessen wir die Datei wieder, damit der Zugriff auf sie wieder freigegeben wird.\n",
    "\n",
    "Nun können wir dies noch ein bisschen umschreiben:"
   ]
  },
  {
   "cell_type": "code",
   "execution_count": null,
   "metadata": {},
   "outputs": [],
   "source": [
    "with open('./random_text.txt', 'r') as file:\n",
    "    \n",
    "    for line in file:\n",
    "        line = line.strip()\n",
    "        \n",
    "        print(line)"
   ]
  },
  {
   "attachments": {},
   "cell_type": "markdown",
   "metadata": {},
   "source": [
    "Im letzten Beispiel haben wir nun vom `with`-Statement Gebrauch gemacht. Dieses `with` sorgt dafür, dass automatisch in jedem Fall `file.close()` aufgerufen wird. Dateien sollten immer wieder geschlossen werden, damit der Zugriff auf diese nicht für andere blockiert wird.\n",
    "\n",
    "Zusätzlich kann man mit `for line in file` durch alle Zeilen durch iterieren. Dies verhindert gleichzeitig auch eine hohe Speicherauslastung, weil so nur Zeile für Zeile gelesen und in den Arbeitsspeicher kopiert wird (statt die ganze Datei auf einmal).\n",
    "\n",
    "`string.strip()` wird hier noch verwendet, weil meistens (immer ausser bei der letzten Zeile) am Ende der Zeile noch das Zeichen `\\n` bzw. `\\n\\r` folgt. Mit der `strip()`-Methode wir dies entfernt."
   ]
  },
  {
   "attachments": {},
   "cell_type": "markdown",
   "metadata": {},
   "source": [
    "## Datei schreiben\n",
    "Möchtest du Text in eine Datei schreiben, dann kannst du das wie folgt tun:"
   ]
  },
  {
   "cell_type": "code",
   "execution_count": null,
   "metadata": {},
   "outputs": [],
   "source": [
    "with open('./random_output.txt', 'w') as file:\n",
    "    \n",
    "    file.write(\"Hello, it's me!\\n\")\n",
    "    file.write('Hello from the other side.\\n')"
   ]
  },
  {
   "attachments": {},
   "cell_type": "markdown",
   "metadata": {},
   "source": [
    "Beachte das `'w'` für write (also schreiben) in der `open(...)`-Methode. Dieses musst du angeben, damit du in die Datei schreiben kannst.\n",
    "\n",
    "Mit `write(...)` fügst du Text der Datei hinzu.\n",
    "\n",
    "Bitte beachte hier, dass das `'w'` bewirkt, dass eine bestehende Datei überschrieben wird. Möchtest du nur Text hinzufügen, dann verwende `'a'` wie 'append' (hinzufügen)."
   ]
  },
  {
   "attachments": {},
   "cell_type": "markdown",
   "metadata": {},
   "source": [
    "## Exception Handling\n",
    "Im Zusammenhang mit Dateien passieren immer wieder Fehler.\n",
    "Daher macht es Sinn, folgende Fehler auch gleich zu behandeln:\n",
    "* `FileNotFoundError`: Wenn die Datei nicht gefunden werden konnte.\n",
    "* `IOError`: Andere Fehler, die im Zusammenhang mit dem Dateisystem auftreten können.\n",
    "\n",
    "Dies könnte ungefähr so aussehen:"
   ]
  },
  {
   "cell_type": "code",
   "execution_count": null,
   "metadata": {},
   "outputs": [],
   "source": [
    "try:\n",
    "    with open('./random_text.txt', 'r') as file:\n",
    "        for line in file:\n",
    "            line = line.strip()\n",
    "            print(line)\n",
    "except FileNotFoundError:\n",
    "    print(\"Can't find the file.\")\n",
    "except IOError:\n",
    "    print(\"An IO error occurred.\")\n",
    "except Exception as e:\n",
    "    print(\"An unknown error occurred:\", e)"
   ]
  }
 ],
 "metadata": {
  "kernelspec": {
   "display_name": "Python 3",
   "language": "python",
   "name": "python3"
  },
  "language_info": {
   "codemirror_mode": {
    "name": "ipython",
    "version": 3
   },
   "file_extension": ".py",
   "mimetype": "text/x-python",
   "name": "python",
   "nbconvert_exporter": "python",
   "pygments_lexer": "ipython3",
   "version": "3.10.10"
  },
  "orig_nbformat": 4
 },
 "nbformat": 4,
 "nbformat_minor": 2
}
