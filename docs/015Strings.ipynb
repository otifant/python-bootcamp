{
 "cells": [
  {
   "attachments": {},
   "cell_type": "markdown",
   "metadata": {},
   "source": [
    "Strings können in Python mit einfachen oder doppelten Anführungszeichen initialisiert werden.\n",
    "Ebenfalls ist es möglich, Strings über mehrere Zeilen mit dreifach doppelten oder dreifach einfachen Anführungszeichen zu initialisieren.\n",
    "Hierbei werden die Leer- und Enterzeichen mitgespeichert. Ein String über 3 Zeilen wird bei einem print() Aufruf auch über 3 Zeilen in der Konsole ausgegeben.\n",
    "Im nachfolgenden Code findest du ein paar Beispiele:"
   ]
  },
  {
   "cell_type": "code",
   "execution_count": null,
   "metadata": {},
   "outputs": [],
   "source": [
    "random_string = \"Hello\"\n",
    "random_string2 = 'World'\n",
    "\n",
    "random_multiline_string = \"\"\"Say\n",
    "my\n",
    "name!\"\"\"\n",
    "\n",
    "random_multiline_string2 = '''Hello\n",
    "my name is\n",
    "Jeff'''\n",
    "\n",
    "print(random_multiline_string2)\n",
    "# Output:\n",
    "# Hello\n",
    "# my name is\n",
    "# Jeff"
   ]
  },
  {
   "attachments": {},
   "cell_type": "markdown",
   "metadata": {},
   "source": [
    "Strings sind wie Arrays! Man kann auf die Elemente (Character; Buchstaben) mit dem [] Operator zugreifen.\n",
    "Ebenfalls kann man mit Loops über Strings iterieren oder die die Länge des Strings ausgeben lassen.\n",
    "Welche Loops es gibt und wie man sie implementiert wird in einem späteren Kappitel behandelt.\n",
    "Einige Operationen mit Strings sind im nachfolgenden Code zu finden:"
   ]
  },
  {
   "cell_type": "code",
   "execution_count": null,
   "metadata": {},
   "outputs": [],
   "source": [
    "a = \"Hello World!\"\n",
    "print(len(a))  # 12\n",
    "print(a[1])  # e\n",
    "\n",
    "# Jedes Zeichen wird auf einer separaten Zeile ausgegeben:\n",
    "for x in a:\n",
    "    print(x)\n",
    "\n",
    "print(\"orl\" in a)  # True\n",
    "print(\"i\" not in a)  # True"
   ]
  },
  {
   "attachments": {},
   "cell_type": "markdown",
   "metadata": {},
   "source": [
    "Eine weitere coole Operation auf Strings ist das sogenannte \"Slicin\". \n",
    "Wie der Name schon suggeriert, kann man Strings in verschiedene Teile zerlegen. Dabei nehmen wir aber nicht einzelne Buchstaben wie vorher,\n",
    "sondern ganze Teile. Einige slicing Operationen sind:"
   ]
  },
  {
   "cell_type": "code",
   "execution_count": null,
   "metadata": {},
   "outputs": [],
   "source": [
    "beispiel = \"Python ist eine tolle Programmiersprache!\"\n",
    "\n",
    "# Herausschneiden zwischen dem ersten und zweiten Index.\n",
    "# Beachte, dass der Buchstabe mit dem 2. Index nicht inklusive ist.\n",
    "print(beispiel[2:12])  # thon ist ei\n",
    "print(beispiel[2:4])  # th\n",
    "\n",
    "# Herausschneiden der ersten Buchstaben\n",
    "print(beispiel[:5])  # Pytho\n",
    "print(beispiel[:20])  # Python ist eine toll\n",
    "\n",
    "# Weglassen der ersten Buchstaben\n",
    "print(beispiel[4:])  # on ist eine tolle Programmiersprache!\n",
    "print(beispiel[22:])  # Programmiersprache!\n",
    "\n",
    "# Start beim 8. letzten Buchstaben, Ende beim 5. letzten Buchstaben.\n",
    "print(beispiel[-8:-5])  # spr\n",
    "print(beispiel[-19:-10])  # Programmi"
   ]
  },
  {
   "attachments": {},
   "cell_type": "markdown",
   "metadata": {},
   "source": [
    "Wie auch in Java hat Python einige vordefinierte Methoden auf Strings. Einige sind nachfolgend Aufgelistet:\n",
    "Falls du noch weitere Methoden sehen möchtest gibt es hier eine grosse Liste: https://www.w3schools.com/python/python_strings_methods.asp"
   ]
  },
  {
   "cell_type": "code",
   "execution_count": null,
   "metadata": {},
   "outputs": [],
   "source": [
    "s = \"Python is fun!\"\n",
    "\n",
    "print(s.upper())  # PYTHON IS FUN!\n",
    "print(s.lower())  # python is fun!\n",
    "\n",
    "# Ersetzen eines Substrings mit einem anderen Substring\n",
    "print(s.replace(\"n\", \"m\"))  # Pythom is fum!\n",
    "print(s.replace(\" \", \"#\"))  # Python#is#fun!\n",
    "print(s.replace(\"Python\", \"Java\"))  # Java is fun!\n",
    "\n",
    "# .strip() entfernt alle Leerzeichen am Anfang und am Ende\n",
    "print(\"     to many whitespaces     \".strip())  # to many whitespaces\n",
    "\n",
    "# .split() gibt eine Liste mit substrings zurück.\n",
    "print(s.split(\" \"))  # ['Python', 'is', 'fun!']\n",
    "print(s.split(\"n\"))  # ['Pytho', ' is fu', '!']\n",
    "print(s.split(\"is\"))  # ['Python ', ' fun!']\n",
    "\n",
    "# Strings können mit dem + Operator aneinandergeheftet werden.\n",
    "print(s + \" Java too!\")  # Python is fun! Java too!"
   ]
  },
  {
   "attachments": {},
   "cell_type": "markdown",
   "metadata": {},
   "source": [
    "Escape Character\n",
    "\n",
    "Um Zeichen in einem String hinzufügen zu können, welche normalerweise nicht erlaubt sind, kann ein \\ verwendet werden.\n",
    "Es gibt auch weitere spezielle Zeichen, welche mit Hilfe eines Backslashes in einen String eingefügt werden können."
   ]
  },
  {
   "cell_type": "code",
   "execution_count": null,
   "metadata": {},
   "outputs": [],
   "source": [
    "# ' muss nicht escaped werden, \" aber schon.\n",
    "print(\"Es gibt einfache (') und doppelte (\\\") Anführungszeichen\")\n",
    "# Hier ist es genau umgekehrt\n",
    "print('Es gibt einfache (\\') und doppelte (\") Anführungszeichen')\n",
    "# Escapen des Escape characters\n",
    "print(\"Ich verwende ein \\\\, um zu escapen\")"
   ]
  },
  {
   "attachments": {},
   "cell_type": "markdown",
   "metadata": {},
   "source": [
    "\\n      newline\n",
    "\\t      tab"
   ]
  }
 ],
 "metadata": {
  "language_info": {
   "name": "python"
  },
  "orig_nbformat": 4
 },
 "nbformat": 4,
 "nbformat_minor": 2
}
