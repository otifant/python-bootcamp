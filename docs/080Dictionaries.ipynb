{
 "cells": [
  {
   "attachments": {},
   "cell_type": "markdown",
   "metadata": {},
   "source": [
    "Dictionaries funktionieren ähnlich wie Arrays (bzw. Listen). Der Zugriff auf den Inhalt erfolgt aber mit Schlüsseln (sogenannte Keys) und nicht mit indexen.\n",
    "Im Folgenden Beispiel wird ein Dictionary mit email-addressen von Personen erstellt."
   ]
  },
  {
   "cell_type": "code",
   "execution_count": null,
   "metadata": {},
   "outputs": [],
   "source": [
    "email_database = {}  # initialize empty dictionary\n",
    "\n",
    "# add a new entry with key \"John\" and value \"John.Guildmore@gmail.com\"\n",
    "email_database[\"John\"] = \"John.Guildmore@gmail.com\"\n",
    "\n",
    "email_database[\"Jack\"] = \"jack_reacher@hotmail.com\"\n",
    "\n",
    "print(email_database[\"John\"])  # John.Guildmore@gmail.com\n",
    "print(email_database)\n",
    "# {'John': 'John.Guildmore@gmail.com', 'Jack': 'jack_reacher@hotmail.com'}"
   ]
  },
  {
   "attachments": {},
   "cell_type": "markdown",
   "metadata": {},
   "source": [
    "Natürlich kann man dasselbe Dictionary auch direkt befüllt initialisieren:"
   ]
  },
  {
   "cell_type": "code",
   "execution_count": null,
   "metadata": {},
   "outputs": [],
   "source": [
    "email_database = {\n",
    "    \"John\": \"John.Guildmore@gmail.com\",\n",
    "    \"Jack\": \"jack_reacher@hotmail.com\"\n",
    "}"
   ]
  },
  {
   "attachments": {},
   "cell_type": "markdown",
   "metadata": {},
   "source": [
    "Einige wichtige Operationen mit Dictionaries sind:"
   ]
  },
  {
   "cell_type": "code",
   "execution_count": null,
   "metadata": {},
   "outputs": [],
   "source": [
    "dict_name = {}  # Leeres Dictionary erzeugen\n",
    "\n",
    "dict_name[\"Key\"] = \"value\"  # Einfügen bzw. ändern eines Elements\n",
    "dict_name.update({\"key\": \"value\"})  # Einfügen bzw. ändern eines Elements\n",
    "del dict_name[\"Key\"]  # Eintrag löschen\n",
    "dict_name.pop(\"key\")  # Eintrag löschen\n",
    "dict_name.popitem()  # löscht den letzten hinzugefügten Eintrag\n",
    "dict_name.clear()  # Löschen aller Elemente\n",
    "\n",
    "# gibt den entsprechenden value zurück oder false, falls er nicht existiert\n",
    "dict_name.get(\"key\")\n",
    "dict_name.items()  # gibt eine liste mit allen keys und values als tupel zurück\n",
    "dict_name.keys()  # gibt ein liste mit allen keys zurück\n",
    "dict_name.values()  # gibt eine liste mit allen values zurück"
   ]
  },
  {
   "attachments": {},
   "cell_type": "markdown",
   "metadata": {},
   "source": [
    "Weitere Operationen auf Dictionaries findest du hier: https://www.w3schools.com/python/python_ref_dictionary.asp"
   ]
  }
 ],
 "metadata": {
  "language_info": {
   "name": "python"
  },
  "orig_nbformat": 4
 },
 "nbformat": 4,
 "nbformat_minor": 2
}
