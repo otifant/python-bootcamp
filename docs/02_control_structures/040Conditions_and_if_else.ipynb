{
 "cells": [
  {
   "attachments": {},
   "cell_type": "markdown",
   "metadata": {},
   "source": [
    "# Bedingungen\n",
    "Wie im richtigen Leben müssen Entscheidungen entsprechend der aktuellen Situation getroffen werden.\n",
    "\n",
    "Hierfür bieten Programmiersprachen wie Python die Möglichkeit, Bedingungen zu prüfen und Code nur auszuführen, wenn die entsprechenden Bedingungen erfüllt sind."
   ]
  },
  {
   "attachments": {},
   "cell_type": "markdown",
   "metadata": {},
   "source": [
    "Nachfolgend ein Beispiel für einen kleinen Snack-Automaten, der je nach dem ob genügend Geld eingeworfen wurde unterschiedlichen Output generiert:"
   ]
  },
  {
   "cell_type": "code",
   "execution_count": null,
   "metadata": {},
   "outputs": [],
   "source": [
    "money = 1.25\n",
    "price = 1.50\n",
    "\n",
    "if money < price:\n",
    "    print(\"Du hast nicht genügend Geld eingeworfen. Bitte werfe zusätzlich\", price - money, \"Fr ein.\")\n",
    "else:\n",
    "    print(\"Geniesse deinen Snack!\")"
   ]
  },
  {
   "attachments": {},
   "cell_type": "markdown",
   "metadata": {},
   "source": [
    "Hier wird eine Bedingung mit dem `if`-Keyword eingeleitet. Nur wenn die Bedingung nach dem `if`-Keyword (und vor dem Doppelpunkt) zutrifft, wird ihr Block ausgeführt.\n",
    "\n",
    "Wenn die Bedingung nicht zutrifft, dann wird der `else`-Block ausgeführt."
   ]
  },
  {
   "attachments": {},
   "cell_type": "markdown",
   "metadata": {},
   "source": [
    "## Bool'sche Ausdrücke"
   ]
  },
  {
   "attachments": {},
   "cell_type": "markdown",
   "metadata": {},
   "source": [
    "Im Beispiel des Snackautomaten hast du den `<`-Operator verwendet, um zu prüfen, ob das eingeworfene Geld mind. dem Preis entspricht:\n",
    "\n",
    "```python\n",
    "if money < price:\n",
    "```"
   ]
  },
  {
   "attachments": {},
   "cell_type": "markdown",
   "metadata": {},
   "source": [
    "In Python gibt es viele weitere bool'sche Ausdrücke:\n",
    "* `==`: Prüft, ob zwei Elemente \"gleich\" sind.\n",
    "* `!=`: Prüft, ob die beiden Elemente ungleich sind.\n",
    "* `<`: Prüft, ob das erste Element **kleiner** als das Zweite ist.\n",
    "* `<=`: Prüft, ob das erste Element **kleiner oder gleich** als das Zweite ist.\n",
    "* `>`: Prüft, ob das erste Element **grösser** als das Zweite ist.\n",
    "* `>=`: Prüft, ob das erste Element **grösser oder gleich** als das Zweite ist."
   ]
  },
  {
   "attachments": {},
   "cell_type": "markdown",
   "metadata": {},
   "source": [
    "Müssen hingegen mehrere Bedingungen erfüllt sein, dann kannst du mehrere Bedingungen kombinieren:"
   ]
  },
  {
   "cell_type": "code",
   "execution_count": null,
   "metadata": {},
   "outputs": [],
   "source": [
    "money = 1.25\n",
    "price = 1.50\n",
    "currency = \"CHF\"\n",
    "expected_currency = \"CHF\"\n",
    "\n",
    "if money >= price and currency == expected_currency:\n",
    "    print(\"Geniesse deinen Snack.\")"
   ]
  },
  {
   "attachments": {},
   "cell_type": "markdown",
   "metadata": {},
   "source": [
    "In diesem Beispiel wird der `if`-Block nur ausgeführt, wenn beide Bedingungen erfüllt sind."
   ]
  },
  {
   "attachments": {},
   "cell_type": "markdown",
   "metadata": {},
   "source": [
    "Neben dem `and`-Operatoren gibt es in Python noch weitere Operatoren, die englische Wörter sind:\n",
    "\n",
    "* `and`         prüft, ob beide Bedingungen zutreffen.\n",
    "* `or`          prüft, ob mind. 1 der Bedingungen zutreffen.\n",
    "* `in`          prüft, ob ein Element in einer Sequenz (z.B. einer Liste) vorhanden ist.\n",
    "* `is`          im Gegensatz zum `==` vergleicht der is-Operator nicht die Werte der Variablen, sondern die Instanzen selbst. Siehe Beispiel unten.\n",
    "* `not`         negiert einen bool'schen Ausdruck. Das heisst, tritt ein Ausdruck zu, trifft er nicht mehr zu und umgekehrt.\n",
    "\n",
    "Im folgenden Beispiel werden alle `print`-Blöcke ausgeführt, weil alle `if`-Bedingungen zutreffen:"
   ]
  },
  {
   "cell_type": "code",
   "execution_count": null,
   "metadata": {},
   "outputs": [],
   "source": [
    "a = True\n",
    "b = False\n",
    "\n",
    "x = [1, 2, 3]\n",
    "y = [1, 2, 3]\n",
    "\n",
    "print(x == y)  # Output: True\n",
    "print(x is y)  # Output: False\n",
    "\n",
    "if a and b == False:\n",
    "    print(\"a is True and b is False.\")\n",
    "\n",
    "if a or b:\n",
    "    print(\"Either a, b or both of them are True.\")\n",
    "\n",
    "if 1 in x:\n",
    "    print(\"1 is in x.\")\n",
    "\n",
    "if a is not None:  # Null-Check in Python.\n",
    "    print(\"a is not None.\")\n",
    "\n",
    "if not b:\n",
    "    print(\"b is false.\")"
   ]
  },
  {
   "attachments": {},
   "cell_type": "markdown",
   "metadata": {},
   "source": [
    "## Komplexere Bedingungen mit `if`, `elif` und `else`\n",
    "\n",
    "Die Keywords `if`, `elif` und `else` werden für Bedingungen verwendet.\n",
    "Hier ist ein kleines Beispiel:"
   ]
  },
  {
   "cell_type": "code",
   "execution_count": null,
   "metadata": {},
   "outputs": [],
   "source": [
    "age = 25\n",
    "\n",
    "if age < 18:\n",
    "    print(\"Du bist minderjährig.\")\n",
    "elif age >= 18 and age < 65:\n",
    "    print(\"Du bist erwachsen.\")\n",
    "else:\n",
    "    print(\"Du bist im Rentenalter.\")"
   ]
  },
  {
   "attachments": {},
   "cell_type": "markdown",
   "metadata": {},
   "source": [
    "Wenn die vorherige Bedingung nicht zutraf, wird die Bedingung im `elif` geprüft. Wenn diese zutrifft, wird ihr Block ausgeführt.\n",
    "\n",
    "Wenn keine der Bedingungen zutrifft, wird der `else`-Block ausgeführt."
   ]
  },
  {
   "attachments": {},
   "cell_type": "markdown",
   "metadata": {},
   "source": [
    "Einen kleinen Hinweis noch an dieser Stelle: \n",
    "\n",
    "Das Schlüsselwort `pass` in Python wird verwendet, um einen leeren Block zu erstellen, der später mit Code gefüllt werden kann. Es ist nützlich, wenn eine Funktion oder eine Schleife syntaktisch korrekt sein muss, aber noch keinen Code benötigt. Ein Beispiel für die Verwendung von `pass` ist innerhalb einer if-Anweisung, wenn man noch nicht sicher ist, welcher Code ausgeführt werden soll, aber das Programm syntaktisch korrekt sein muss:"
   ]
  },
  {
   "cell_type": "code",
   "execution_count": null,
   "metadata": {},
   "outputs": [],
   "source": [
    "x = 5\n",
    "\n",
    "if x < 0:\n",
    "    print(\"x ist negativ.\")\n",
    "elif x == 0:\n",
    "    pass\n",
    "else:\n",
    "    print(\"x ist positiv.\")"
   ]
  },
  {
   "attachments": {},
   "cell_type": "markdown",
   "metadata": {},
   "source": [
    "In diesem Beispiel wird geprüft, ob x negativ, `0` oder positiv ist. Wenn x `0` ist, wird `pass` ausgeführt -> es passiert nichts.\n",
    "\n",
    "Wenn x negativ oder positiv ist, wird eine entsprechende Ausgabe erstellt.\n",
    "\n",
    "Häufig wird auch `pass` verwendet, wenn man eine Funktion oder Klasse definiert, aber noch nicht weiss, welchen Code Sie später darin befinden wird bzw. leer bleiben wird:"
   ]
  },
  {
   "cell_type": "code",
   "execution_count": null,
   "metadata": {},
   "outputs": [],
   "source": [
    "def empty_function():\n",
    "    pass\n",
    "\n",
    "class EmptyClass:\n",
    "    pass"
   ]
  },
  {
   "attachments": {},
   "cell_type": "markdown",
   "metadata": {},
   "source": [
    "Die Theorie zu Klassen und Funktionen wirst du später kennenlernen."
   ]
  }
 ],
 "metadata": {
  "kernelspec": {
   "display_name": "Python 3",
   "language": "python",
   "name": "python3"
  },
  "language_info": {
   "codemirror_mode": {
    "name": "ipython",
    "version": 3
   },
   "file_extension": ".py",
   "mimetype": "text/x-python",
   "name": "python",
   "nbconvert_exporter": "python",
   "pygments_lexer": "ipython3",
   "version": "3.9.6"
  },
  "orig_nbformat": 4
 },
 "nbformat": 4,
 "nbformat_minor": 2
}
