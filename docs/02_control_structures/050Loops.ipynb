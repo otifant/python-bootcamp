{
 "cells": [
  {
   "attachments": {},
   "cell_type": "markdown",
   "metadata": {},
   "source": [
    "# Schlaufen/Loops\n",
    "Loops erlauben es, Code-Blöcke mehrere Male nacheinander auszuführen. Nachfolgend schauen wir uns den `for`- und `while`-Loop an."
   ]
  },
  {
   "attachments": {},
   "cell_type": "markdown",
   "metadata": {},
   "source": [
    "## For-Loop\n",
    "\n",
    "Es gibt mehrere Möglichkeiten, einen For-Loop in Python zu implementieren. \n",
    "\n",
    "* Eine Möglichkeit ist die Benutzung der `range()`-Funktion, welche sehr verschieden eingesetzt werden kann.\n",
    "* Eine andere Möglichkeit ist es, über alle Elemente einer Liste (oder auch eines Sets, Dictionarys,) zu iterieren. (Wird in einem späteren Kapitel behandelt.)\n",
    "\n",
    "Beachte den Doppelpunkt und die Einrückung des Blockes.\n",
    "\n",
    "Das Nachfolgende Beispiel zeigt einige `for`-Loops:"
   ]
  },
  {
   "cell_type": "code",
   "execution_count": null,
   "metadata": {},
   "outputs": [],
   "source": [
    "for i in range(10):  # i = 0, 1, 2, ... , 9\n",
    "    print(i)\n",
    "\n",
    "for i in range(3, 8):  # i = 3, 4, 5, 6, 7\n",
    "    print(i)\n",
    "\n",
    "\n",
    "for i in range(0, 10, 3):  # i = 0, 3, 6, 9\n",
    "    print(i)\n",
    "\n",
    "numbers = [0, 1, 2, 3, 4, 5, 6, 7, 8, 9]\n",
    "for number in numbers:  # prints out every number in the numbers list\n",
    "    print(number)"
   ]
  },
  {
   "attachments": {},
   "cell_type": "markdown",
   "metadata": {},
   "source": [
    "**Erklärung zum obigen Beispiel**\n",
    "* Die `range(...)`-Funktion gibt ein Konstrukt zurück, dass alle Elemente beinhaltet bis zu einer bestimmten Zahl. \n",
    "    * `range(end)`: `range(10)` beinhaltet alle Zahlen von 0 bis 9.\n",
    "    * `range(start, end)`: `range(3,8)` beinhaltet so alle Zahlen von 3 bis 7. \n",
    "    * `range(start, end, step)`: Ein drittes Argument bewirkt, dass z.B. nur jedes 3. Element berücksichtigt wird. `range(0, 10, 3)` geht von 0 bis 9 und nur jedes 3. Element (einschliesslich das erste) wird berücksichtigt. Wird aber nur selten gebraucht.\n",
    "\n",
    "* Beim letzten `for`-Loop siehst du besser, um was es bei `for`-Loops eigentlich geht: Man iteriert über alle Elemente in einer Liste.\n",
    "    * Listen werden in einem späteren Kapitel erwähnt. Daher musst du dieses Beispiel auch noch nicht zu 100% verstehen.\n",
    "    * Wichtig ist, dass die Variable `numbers` hier eine Liste mit einigen Elementen zugewiesen bekommen hat.\n",
    "    * Ein `for`-Loop ist ganz generell so aufgebaut:\n",
    "    ```python\n",
    "    for (ein_element in liste):\n",
    "        block()\n",
    "    ```\n",
    "    * Hier steht `ein_element` für eine neue Variable, die du definierst.\n",
    "    * Die `liste` ist eine existierende Variable, die mehrere Elemente enthält.\n",
    "    * Der `block` wird so oft ausgeführt, wie `liste` Elemente enthält.\n",
    "        * Beim ersten Durchgang wird deiner neuen Variable (hier `ein_element`) das erste Element aus der `liste` zugewiesen.\n",
    "        * Beim zweiten Durchgang das zweite Element.\n",
    "        * usw."
   ]
  },
  {
   "attachments": {},
   "cell_type": "markdown",
   "metadata": {},
   "source": [
    "### Beispiel: Iterieren durch einen String\n",
    "\n",
    "Du kannst `for`-Loops z.B. dafür verwenden, um durch alle Buchstaben in einem String zu iterieren:\n"
   ]
  },
  {
   "cell_type": "code",
   "execution_count": null,
   "metadata": {},
   "outputs": [],
   "source": [
    "a = \"Hello World!\"\n",
    "\n",
    "for x in a:\n",
    "    print(x)"
   ]
  },
  {
   "attachments": {},
   "cell_type": "markdown",
   "metadata": {},
   "source": [
    "## While-Loop\n",
    "\n",
    "Wenn ein bestimmter Code solange wiederholt ausgeführt werden soll, wie eine Bedingung zutrifft, dann hilft hier womöglich auch eine `while`-Schlaufe."
   ]
  },
  {
   "attachments": {},
   "cell_type": "markdown",
   "metadata": {},
   "source": [
    "Möchtest du z.B. ein kleines Game simulieren, in welchem eine Katze versucht eine Maus zu fangen, dann könnte folgendes Konstrukt in die richtige Richtung führen:\n",
    "\n",
    "```python\n",
    "caught = False\n",
    "\n",
    "while not caught:\n",
    "    caught = try_to_catch_mouse()\n",
    "\n",
    "print(\"Du hast die Maus gefangen. Gut gemacht!!!\")\n",
    "```\n",
    "\n",
    "Der Code-Block innerhalb der `while`-Schlaufe wird solange wiederholt ausgeführt, wie die Bedingung (hier `not caught`) erfüllt ist."
   ]
  },
  {
   "attachments": {},
   "cell_type": "markdown",
   "metadata": {},
   "source": [
    "In vielen Fällen kann ein `while`-Loop auch in einen `for`-Loop umgewandelt werden.\n",
    "\n",
    "Betrachte folgenden `for`-Loop:\n",
    "\n",
    "```python\n",
    "for i in range(3):\n",
    "    print(i)\n",
    "```\n",
    "\n",
    "Dieser `for`-Loop würde mit einer `while`-Schlaufe wie folgt aussehen (hier ist der `for`-Loop zu bevorzugen):"
   ]
  },
  {
   "cell_type": "code",
   "execution_count": null,
   "metadata": {},
   "outputs": [],
   "source": [
    "i = 0\n",
    "while i < 3:\n",
    "    print(i)\n",
    "    i += 1"
   ]
  },
  {
   "attachments": {},
   "cell_type": "markdown",
   "metadata": {},
   "source": [
    "## Schlaufe/Durchlauf abbrechen"
   ]
  },
  {
   "attachments": {},
   "cell_type": "markdown",
   "metadata": {},
   "source": [
    "Mit den Statements `break` and `continue` kannst du die Schlaufe bzw. den aktuellen Durchlauf abbrechen:\n",
    "* `continue` beendet den aktuellen Durchlauf und geht zum nächsten Schlaufen-Durchlauf weiter.\n",
    "* `break` beendet die Schlaufe komplett."
   ]
  },
  {
   "cell_type": "code",
   "execution_count": null,
   "metadata": {},
   "outputs": [],
   "source": [
    "i = 0\n",
    "while True:\n",
    "    i += 1\n",
    "    if i == 2:\n",
    "        continue\n",
    "    if i >= 5:\n",
    "        break\n",
    "    print(i)\n",
    "\n",
    "#output: 1, 3, 4"
   ]
  }
 ],
 "metadata": {
  "kernelspec": {
   "display_name": "Python 3",
   "language": "python",
   "name": "python3"
  },
  "language_info": {
   "codemirror_mode": {
    "name": "ipython",
    "version": 3
   },
   "file_extension": ".py",
   "mimetype": "text/x-python",
   "name": "python",
   "nbconvert_exporter": "python",
   "pygments_lexer": "ipython3",
   "version": "3.9.6"
  },
  "orig_nbformat": 4
 },
 "nbformat": 4,
 "nbformat_minor": 2
}
