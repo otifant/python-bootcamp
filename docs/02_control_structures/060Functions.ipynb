{
 "cells": [
  {
   "attachments": {},
   "cell_type": "markdown",
   "metadata": {},
   "source": [
    "# Funktionen\n",
    "\n",
    "Es kommt ziemlich oft vor, dass der gleiche Code bzw. die gleiche Aufgabe mehrmals mit anderen Werten aufgerufen werden soll.\n",
    "\n",
    "Solcher Code kann wiederverwendet werden, indem er in eine Funktion gepackt wird."
   ]
  },
  {
   "attachments": {},
   "cell_type": "markdown",
   "metadata": {},
   "source": [
    "Funktionen werden mit dem Keyword `def` definiert. Eine Funktion ist in Python folgendermassen aufgebaut:"
   ]
  },
  {
   "cell_type": "code",
   "execution_count": null,
   "metadata": {},
   "outputs": [],
   "source": [
    "def funktions_name(arg1, arg2):\n",
    "    # Code, der aufgerufen wird.\n",
    "    pass"
   ]
  },
  {
   "attachments": {},
   "cell_type": "markdown",
   "metadata": {},
   "source": [
    "Hier zwei Beispiele von Funktionen:"
   ]
  },
  {
   "cell_type": "code",
   "execution_count": null,
   "metadata": {},
   "outputs": [],
   "source": [
    "def print_hello():\n",
    "    print(\"Hello\")\n",
    "\n",
    "\n",
    "def sum(a, b):\n",
    "    return a + b\n",
    "\n",
    "\n",
    "# Call the defined functions\n",
    "print_hello()\n",
    "print_hello()\n",
    "print(sum(1, 2))\n",
    "print(sum(1, 6))"
   ]
  },
  {
   "attachments": {},
   "cell_type": "markdown",
   "metadata": {},
   "source": [
    "Die erste Funktion kann mit der Anweisung `print_hello()` aufgerufen werden und führt den Code in der Funktion aus.\n",
    "\n",
    "Die zweite Funktion schauen wir uns nachfolgend noch ein bisschen genauer an."
   ]
  },
  {
   "attachments": {},
   "cell_type": "markdown",
   "metadata": {},
   "source": [
    "## Funktionen mit Parameter und Rückgabewert\n",
    "\n",
    "### Parameter\n",
    "Im letzten Beispiel hatten wir diese Funktion:\n",
    "\n",
    "```python\n",
    "def sum(a, b):\n",
    "    return a + b\n",
    "```\n",
    "\n",
    "Das in den Klammern nennt sich \"Parameter\". Die einzelnen Variablen dort drin (also `a` und `b`) nennen sich Argumente.\n",
    "\n",
    "In unserem letzten Code-Beispiel sah der Funktionsaufruf wie folgt aus, wobei auch gleich Werte für den Parameter übergeben wurden:\n",
    "\n",
    "```python\n",
    "sum(1, 6)\n",
    "```\n",
    "\n",
    "Für diesen Funktionsaufruf werden dann die Argumente der Funktion wie folgt zugewiesen sein:\n",
    "\n",
    "```python\n",
    "a = 1\n",
    "b = 6\n",
    "```\n",
    "\n",
    "### Rückgabewert\n",
    "Sicherlich ist dir bei dieser Funktion das Keyword `return` aufgefallen:\n",
    "\n",
    "```python\n",
    "def sum(a, b):\n",
    "    return a + b\n",
    "```\n",
    "\n",
    "Dieses `return`-Keyword ermöglicht es, dem Aufrufer etwas zurückzugeben. Siehe dir dieses Beispiel an:"
   ]
  },
  {
   "cell_type": "code",
   "execution_count": null,
   "metadata": {},
   "outputs": [],
   "source": [
    "def sum(a, b):\n",
    "    return a + b\n",
    "\n",
    "result = sum(5, 6)\n",
    "print(result)"
   ]
  },
  {
   "attachments": {},
   "cell_type": "markdown",
   "metadata": {},
   "source": [
    "Entscheidend ist diese Zeile:\n",
    "\n",
    "```python\n",
    "result = sum(5, 6)\n",
    "```\n",
    "\n",
    "Wir können z.B. einer Variable den Rückgabewert einer Funktion zuweisen. \n",
    "\n",
    "Das `return`-Keyword gibt den Wert zurück, der rechts neben ihm steht und bricht die weitere Ausführung der Funktion ab."
   ]
  },
  {
   "attachments": {},
   "cell_type": "markdown",
   "metadata": {},
   "source": [
    "## Funktionen dokumentieren\n",
    "\n",
    "Es können noch einige zusätzliche Informationen bei der Definition angegeben werden wie beispielsweise\n",
    "* ein DocString (Beschreibung der Funktion),\n",
    "* der `return`-Typ\n",
    "* sowie die Typen der Argumente.\n",
    "\n",
    "Die Funktionen von oben könnten also wie folgt dokumentiert werden:"
   ]
  },
  {
   "cell_type": "code",
   "execution_count": null,
   "metadata": {},
   "outputs": [],
   "source": [
    "def print_hello() -> None:\n",
    "    \"\"\"Prints 'Hello' into the console\"\"\"\n",
    "    print(\"Hello\")\n",
    "\n",
    "\n",
    "def sum(i: int, j: int) -> int:\n",
    "    \"\"\"\n",
    "    Returns the sum of two numbers.\n",
    "    \n",
    "    Parameters:\n",
    "    i (int): the first number to be added\n",
    "    j (int): the second number to be added\n",
    "\n",
    "    Returns:\n",
    "    int: the sum of i and j\n",
    "    \"\"\"\n",
    "    return i + j"
   ]
  },
  {
   "attachments": {},
   "cell_type": "markdown",
   "metadata": {},
   "source": [
    "Dies ist aber nur eine Information für die Entwickler und hat keinen Einfluss auf das Programm!\n",
    "\n",
    "Wenn wir die Funktion `sum` z.B. als `sum(1, \"green\")` aufrufen würden, dann würde das Programm zur Laufzeit einen Fehler werfen!\n",
    "Grund hierfür ist, dass diese Funktion nur mit Zahlen umgehen kann.\n",
    "\n",
    "Daher ist es von Vorteil, DocStrings sowie Argumente und Rückgabetypen anzugeben, um während des Schreibens von Code mögliche Fehler besser zu erkennen.\n",
    "\n",
    "In vielen Entwicklungumgebungen wie VS Code oder PyCharm sind diese diese Informationen ersichtlich, während du eine Methode auswählst oder mit der Maus über sie fährst.\n",
    "\n",
    "Eine Liste mit Datentypen in Python gibt es hier: https://www.w3schools.com/python/python_datatypes.asp"
   ]
  }
 ],
 "metadata": {
  "kernelspec": {
   "display_name": "Python 3",
   "language": "python",
   "name": "python3"
  },
  "language_info": {
   "codemirror_mode": {
    "name": "ipython",
    "version": 3
   },
   "file_extension": ".py",
   "mimetype": "text/x-python",
   "name": "python",
   "nbconvert_exporter": "python",
   "pygments_lexer": "ipython3",
   "version": "3.9.6"
  },
  "orig_nbformat": 4
 },
 "nbformat": 4,
 "nbformat_minor": 2
}
