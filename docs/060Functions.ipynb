{
 "cells": [
  {
   "attachments": {},
   "cell_type": "markdown",
   "metadata": {},
   "source": [
    "Kommen wir zum Thema Funktionen.\n",
    "Eine Funktion in Python ist das, was wir in Java eine Methode nennen. Das Gundprinzip sollte klar sein.\n",
    "Funktionen werden immer mit dem keyword \"def\" definiert. Bei einer Funktion des Typs void (ohne Rückgabewert) braucht es kein zusätzliches Keyword.\n",
    "Eine Funktion ist in Python folgendermassen aufgebaut:"
   ]
  },
  {
   "cell_type": "code",
   "execution_count": null,
   "metadata": {},
   "outputs": [],
   "source": [
    "def funktion_name(arg1, arg2):\n",
    "    # body\n",
    "    return  # can be omited"
   ]
  },
  {
   "attachments": {},
   "cell_type": "markdown",
   "metadata": {},
   "source": [
    "Zwei Beispiele könnten die Folgenden sein:"
   ]
  },
  {
   "cell_type": "code",
   "execution_count": null,
   "metadata": {},
   "outputs": [],
   "source": [
    "def print_hello():\n",
    "    print(\"Hello\")\n",
    "\n",
    "\n",
    "def sum(i, j):\n",
    "    return i + j\n",
    "\n",
    "\n",
    "# Call the defined functions\n",
    "print_hello()\n",
    "print(sum(1, 6))"
   ]
  },
  {
   "attachments": {},
   "cell_type": "markdown",
   "metadata": {},
   "source": [
    "Es können noch einige zusätziche Informationen bei der Definition angegeben werden, wie Beispielsweise\n",
    "Ein Docstring (Beschreibung der Funktion), ein Return Datentyp und Datentypen der Parameter.\n",
    "Die Funktionen von Oben könnten also wie folgt angepasst werden:"
   ]
  },
  {
   "cell_type": "code",
   "execution_count": null,
   "metadata": {},
   "outputs": [],
   "source": [
    "def print_hello() -> None:\n",
    "    \"\"\"Prints 'Hello' to the console\"\"\"\n",
    "    print(\"Hello\")\n",
    "\n",
    "\n",
    "def sum(i: int, j: int) -> int:\n",
    "    \"\"\"Returns the sum of i and j\"\"\"\n",
    "    return i + j"
   ]
  },
  {
   "attachments": {},
   "cell_type": "markdown",
   "metadata": {},
   "source": [
    "Dies ist aber nur eine Information und hat keinen Einfluss auf das Programm oder den Compiler!\n",
    "Der Funktionaufruf sum(1, \"green\") würde ausgeführt und das Programm einen Fehler werfen!\n",
    "Daher ist es von Vorteil, Docstrings sowie Paremeter und Rückgabetypen anzugeben, um während dem Code Schreiben mögliche Fehler besser zu erkennen.\n",
    "Durch hovern über die Methode sind diese Informationen ersichtlich.\n",
    "\n",
    "Eine Liste mit Datentypen in Python gibt es hier: https://www.w3schools.com/python/python_datatypes.asp"
   ]
  }
 ],
 "metadata": {
  "language_info": {
   "name": "python"
  },
  "orig_nbformat": 4
 },
 "nbformat": 4,
 "nbformat_minor": 2
}
