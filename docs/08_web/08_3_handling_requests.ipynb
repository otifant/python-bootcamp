{
 "cells": [
  {
   "attachments": {},
   "cell_type": "markdown",
   "metadata": {},
   "source": [
    "# Ein Backend, um Daten anzubieten\n",
    "\n",
    "In diesem Kapitel fahren wir mit Flask fort.\n",
    "\n",
    "Vorher hast du gesehen, wie du eine bestimmte eigene Seite im Browser anzeigst, wenn eine bestimmte URL aufgerufen wird.\n",
    "\n",
    "Flask kann dafür verwendet werden, um HTML-Seiten zur Verfügung zu stellen. Wenn du aber vor allem eine grafische Seite anbieten möchtest, dann empfiehlt es sich, ein Frontend-Framework wie Angular, React, Svelte oder Vue.js statt Flask zu verwenden.\n",
    "\n",
    "Flask ist ein Backend, dass HTTP-Requests entgegen nimmt, spezifischen Code je nach URL ausführt, und dem Sender eine HTTP-Response (Antwort) zurückschickt.\n",
    "\n",
    "Ein solches Backend wird oft dafür verwendet, um bestimmte Daten abzufragen oder hinzuzufügen. Die Daten sind sehr oft im _JSON_-Format.\n",
    "\n",
    "In diesem Kapitel schauen wir kurz an, wie wir auf _GET_- und _POST_-Anfragen reagieren können. Wir werden eine Liste mit Einträgen verwalten:\n",
    "* Bei einer _GET_-Anfrage geben wir alle Elemente oder ein bestimmtes zurück.\n",
    "* Bei einer _POST_-Anfrage fügen wir das mitgegebene Element hinzu.\n",
    "\n",
    "Von nun an wird es schwierig, in einem Jupyter-Notebook zu arbeiten. Erstelle stattdessen besser eine neue Datei in VS Code oder \"IDLE (Python 3.XX)\"."
   ]
  },
  {
   "attachments": {},
   "cell_type": "markdown",
   "metadata": {},
   "source": [
    "Zuerst erstellen wir wieder das Grundgerüst der Flask-Anwendung. Kopiere diesen Code und lasse ihn laufen:"
   ]
  },
  {
   "cell_type": "code",
   "execution_count": null,
   "metadata": {},
   "outputs": [],
   "source": [
    "from flask import Flask, jsonify\n",
    "\n",
    "app = Flask(__name__)\n",
    "\n",
    "id_counter = 4\n",
    "islands = {\n",
    "    1: {\n",
    "        \"name\": \"The Bahamas\",\n",
    "        \"country\": \"The Bahamas\",\n",
    "        \"imageUrl\": \"https://www.planetware.com/wpimages/2020/04/world-most-beautiful-islands-the-bahamas.jpg\",\n",
    "    },\n",
    "    2: {\n",
    "        \"name\": \"Lofoten Islands\",\n",
    "        \"country\": \"Norway\",\n",
    "        \"imageUrl\": \"https://www.planetware.com/wpimages/2022/01/world-most-beautiful-islands-lofoten-islands-norway.jpg\",\n",
    "    },\n",
    "    3: {\n",
    "        \"name\": \"Isle of Skye\",\n",
    "        \"country\": \"Scotland\",\n",
    "        \"imageUrl\": \"https://www.planetware.com/wpimages/2022/01/world-most-beautiful-islands-isle-of-skye-scotland.jpg\",\n",
    "    },\n",
    "}\n",
    "\n",
    "\n",
    "@app.route(\"/islands\")\n",
    "def get_all():\n",
    "    return jsonify(islands)\n",
    "\n",
    "\n",
    "if __name__ == \"__main__\":\n",
    "    app.run()"
   ]
  },
  {
   "attachments": {},
   "cell_type": "markdown",
   "metadata": {},
   "source": [
    "Öffne nun diese Seite in einem Browser: http://127.0.0.1:5000/islands\n",
    "\n",
    "Wenn du die genannte URL aufrufst, dann wird der Code in `get_all()` aufgerufen. Dieser Code gibt uns das Dictionary der `islands` als JSON zurück.\n",
    "\n",
    "Die Funktion `jsonify()` wandelt das Dictionary in eine HTTP-Response um, die die Daten als JSON enthält und dem Empfänger mitteilt, dass die Antwort im JSON-Format vorliegt."
   ]
  },
  {
   "attachments": {},
   "cell_type": "markdown",
   "metadata": {},
   "source": [
    "## Parameter in der URL\n",
    "Nun wollen wir erreichen, dass eine bestimmte `island` abgefragt werden kann, also z.B. diejenige mit `id = 2`.\n",
    "\n",
    "Hierfür fügen wir eine weitere Funktion annotiert mit `@app.route(...)` hinzu. Diese URL/Funktion nennen wir _Endpoint_:"
   ]
  },
  {
   "cell_type": "code",
   "execution_count": null,
   "metadata": {},
   "outputs": [],
   "source": [
    "@app.route(\"/islands/<int:id>\")\n",
    "def get(id: int):\n",
    "    return jsonify(islands[id])"
   ]
  },
  {
   "attachments": {},
   "cell_type": "markdown",
   "metadata": {},
   "source": [
    "Stelle sicher, dass dieser Code vor `app.run()` definiert wird.\n",
    "\n",
    "Nun solltest du in der Lage sein, http://127.0.0.1:5000/islands/2 aufzurufen. Wie du siehst, haben wir am Ende noch `/2` hinzugefügt.\n",
    "\n",
    "In der Annotation `@app.route(\"/islands/<int:id>\")` haben wir nach dem letzten Slash einen Parameter zugelassen: `<int:id>`. Dieser Wert kann der Aufrufer dynamisch anpassen. Der Parameter hat den Namen `id` und muss im Parameter der Funktion gleich heissen. Mit der optionalen Angabe `int:` haben wir zusätzlich definiert, dass es sich bei diesem Parameter um eine Ganzzahl handeln muss.\n",
    "\n",
    "Diese Funktion gibt dann diejenige `island` zurück, die den Key `id` (hier `2`) besitzt."
   ]
  },
  {
   "attachments": {},
   "cell_type": "markdown",
   "metadata": {},
   "source": [
    "## POST-Anfrage\n",
    "\n",
    "Nun wollen wir die Applikation mit einem _Endpoint_ ergänzen, mit welchem der User weitere Inseln hinzufügen kann. Zum Hinzufügen von Elementen wird oft die HTTP-Methode _POST_ verwendet.\n",
    "\n",
    "Folgender Endpoint holt sich das Element aus dem HTTP-_Body_ und fügt dies dann unserem Dictionary hinzu:"
   ]
  },
  {
   "cell_type": "code",
   "execution_count": null,
   "metadata": {},
   "outputs": [],
   "source": [
    "from flask import request\n",
    "\n",
    "\n",
    "@app.route(\"/islands\", methods=[\"POST\"])\n",
    "def add():\n",
    "    # Wir brauchen Zugriff auf Variablen,\n",
    "    # die wir ausserhalb der Funktion definiert haben.\n",
    "    # Mit `global` sagen wir, dass wir diese Variablen meinen,\n",
    "    # die wir ausserhalb der Funktion definiert haben:\n",
    "    global islands, id_counter\n",
    "\n",
    "    # Die Daten, die im Request-Body mitgeschickt wurden,\n",
    "    # können im Request mittels `json`-Property abgefragt werden:\n",
    "    new_island = request.json\n",
    "\n",
    "    # Unseren Counter aktualisieren, damit wir wissen,\n",
    "    # welche ID der nächste Eintrag haben muss:\n",
    "    new_id = id_counter\n",
    "    id_counter += 1\n",
    "\n",
    "    # Die mitgegebenen Daten im Dictionary aktualisieren:\n",
    "    islands[new_id] = new_island\n",
    "\n",
    "    return jsonify({'id': new_id}), 201"
   ]
  },
  {
   "attachments": {},
   "cell_type": "markdown",
   "metadata": {},
   "source": [
    "Starte nun das Backend noch einmal und versuche eine sinnvolle POST-Anfrage zu schicken. Eine solche Anfrage kannst du von einem anderen Programm (wie z.B. dieses Jupyter-Notebook) aus schicken.\n",
    "\n",
    "Du kannst z.B. die Anfrage in diesem Jupyter-Notebook wie folgt senden:"
   ]
  },
  {
   "cell_type": "code",
   "execution_count": null,
   "metadata": {},
   "outputs": [],
   "source": [
    "import requests\n",
    "\n",
    "\n",
    "response = requests.post(\n",
    "    \"http://127.0.0.1:5000/islands\",\n",
    "    json={\n",
    "        \"name\": \"Maldives\",\n",
    "        \"country\": \"Maldives\",\n",
    "        \"imageUrl\": \"https://www.planetware.com/photos-large/SEY/best-islands-maldives.jpg\",\n",
    "    },\n",
    ")\n",
    "\n",
    "response.status_code, response.text"
   ]
  },
  {
   "attachments": {},
   "cell_type": "markdown",
   "metadata": {},
   "source": [
    "Wenn du die Übersicht http://127.0.0.1:5000/islands aktualisierst, dann wirst du feststellen, dass die neuen Einträge nun auch ersichtlich sind."
   ]
  },
  {
   "attachments": {},
   "cell_type": "markdown",
   "metadata": {},
   "source": [
    "## Zusammenfassung\n",
    "\n",
    "In diesem Einführungsprogramm wollen wir nicht zu tief ins Detail gehen, wie du ein Backend mit Flask umsetzen kannst.\n",
    "\n",
    "Wichtiger ist, dass du sehen kannst, wie du die Basics eines kleinen Backends schnell mit Flask umsetzen könntest, wenn du rasch ein Backend benötigst.\n",
    "\n",
    "Obwohl Flask sehr leichtgewichtig ist, bietet es noch sehr viele essentielle Features an. Diese lernst du aber am besten mit einem eigenen Projekt.\n",
    "\n",
    "Unsere Beispiele haben sich auf die Basics der Basics beschränkt - du kannst aber bereits sehr viel damit anfangen!\n",
    "\n",
    "Wenn du ein Flask-Projekt-Setup mit Poetry haben möchtest, dann wird dir sicherlich diese Website weiterhelfen: https://dev.to/mburszley/an-introduction-to-poetry-2b6n\n",
    "\n",
    "Und wenn du dich mehr mit Flask auseinander setzen möchtest, dann ist dieses Tutorial empfehlenswert. Dort kannst wirst du unter Anderem rasch und unkompliziert eine kleine lokale SQLite-Datenbank zum laufen bringen: https://flask.palletsprojects.com/en/2.3.x/tutorial/"
   ]
  }
 ],
 "metadata": {
  "kernelspec": {
   "display_name": "Python 3",
   "language": "python",
   "name": "python3"
  },
  "language_info": {
   "codemirror_mode": {
    "name": "ipython",
    "version": 3
   },
   "file_extension": ".py",
   "mimetype": "text/x-python",
   "name": "python",
   "nbconvert_exporter": "python",
   "pygments_lexer": "ipython3",
   "version": "3.11.3"
  },
  "orig_nbformat": 4
 },
 "nbformat": 4,
 "nbformat_minor": 2
}
