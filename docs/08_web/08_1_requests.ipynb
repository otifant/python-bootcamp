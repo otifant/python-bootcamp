{
 "cells": [
  {
   "attachments": {},
   "cell_type": "markdown",
   "metadata": {},
   "source": [
    "# Web-Grundlagen\n",
    "\n",
    "In diesem Kapitel wirst du mit der Welt da draussen kommunizieren!\n",
    "\n",
    "Die Grundlagen hierzu, die wir hier anschauen werden, handeln um HTTP(S)-Requests (\"Anfragen\").\n",
    "\n",
    "Eine HTTP(S)-Anfrage tätigst du z.B., wenn du eine Webseite mit einem Browser lädst. Rufst du z.B. die Website https://www.google.ch/ auf, dann erledigt dein Browser u.A. folgende Schritte für dich:\n",
    "* Nachschauen, welcher Server sich hinter der Domaine \"www.google.ch\" befindet (DNS-Abfrage).\n",
    "* Verbindungsaufbau zu diesem Server.\n",
    "* HTTP-GET-Request an den Server. Folgende Daten werden von deinem Browser mitgeliefert:\n",
    "    * HTTP-Methode: \"GET\"\n",
    "    * URL: \"www.google.ch/\"\n",
    "    * HEADER-Daten/Meta-Daten\n",
    "        * wie z.B. welcher Browser verwendest du,\n",
    "        * bist du eingeloggt, usw.\n",
    "\n",
    "Ist die Anfrage erfolgreich, schickt dir der Server eine _Response_ (Antwort). Diese Response wird in diesem Falle eine Website im HTML-Format sein. Diese Antwort beschreibt, wie die Website aufgebaut ist und welcher Inhalt sie hat.\n",
    "\n",
    "HTML musst du nicht kennen, darfst dich aber gerne hier vertiefen: https://labs.it-ninjas.ch/docs/web/html_css/01_html_intro/"
   ]
  },
  {
   "attachments": {},
   "cell_type": "markdown",
   "metadata": {},
   "source": [
    "## Die Request-URL\n",
    "\"Googlest\" du nach dem Begriff \"Python\", dann landest du auf dieser Seite: https://www.google.com/search?q=Python\n",
    "\n",
    "Schaust du diese URL genauer an, dann kannst du erkennen, dass diese URL eine bestimmte Struktur aufweist:\n",
    "* `https://`: Dieser Teil beschreibt, welches Protokoll verwendet werden soll. In diesem Fall wird das verschlüsselte HTTPS-Protokoll verwendet.\n",
    "* `www.google.com`: Das ist der Host/der Server. An diesen Server soll die Anfrage geschickt werden.\n",
    "* `/search`: Das ist der _Path_ der Website.\n",
    "* `?q=Python`: Das ist ein Parameter, der in der URL mitgegeben wurde. Als Entwickler:in könnten wir sagen: es wurde eine Variable `q` mit dem Wert `\"Python\"` übergeben. `q` steht hierbei für \"query\", also \"abfragen\"."
   ]
  },
  {
   "attachments": {},
   "cell_type": "markdown",
   "metadata": {},
   "source": [
    "## Eine GET-Abfrage\n",
    "Schauen wir uns noch einmal das Beispiel mit der Google-Seite an, wo wir nach \"Python\" gesucht haben: https://www.google.com/search?q=Python.\n",
    "\n",
    "Geben wir diese URL im Browser ein, dann sendet der Browser dem entsprechenden Server automatisch eine sogenannte _GET_-Anfrage.\n",
    "\n",
    "Folgende Grafik zeigt vereinfacht den Flow:"
   ]
  },
  {
   "attachments": {},
   "cell_type": "markdown",
   "metadata": {},
   "source": [
    "![GET Request](./08_1_get_request.png)"
   ]
  },
  {
   "attachments": {},
   "cell_type": "markdown",
   "metadata": {},
   "source": [
    "* An den Server, der hinter \"www.google.com\" steht, wird folgende HTTP-Anfrage geschickt:\n",
    "    * HTTP Methode: GET\n",
    "    * URL: https://www.google.com/search?q=Python\n",
    "\n",
    "* Ist die Seite erreichbar, dann erhalten wir die Website als HTML zurück.\n",
    "* Zusätzlich teilt uns der _Status Code_ `200` mit, dass die Anfrage problemlos funktioniert hat."
   ]
  },
  {
   "attachments": {},
   "cell_type": "markdown",
   "metadata": {},
   "source": [
    "Genau diese Anfrage können wir auch mit Python ausführen.\n",
    "\n",
    "Um HTTP-Requests durchzuführen, benötigst du eine Dependency wie `requests`. Installiere diese:"
   ]
  },
  {
   "cell_type": "code",
   "execution_count": null,
   "metadata": {},
   "outputs": [],
   "source": [
    "! echo requests > ./requirements.txt\n",
    "! pip install -r ./requirements.txt"
   ]
  },
  {
   "attachments": {},
   "cell_type": "markdown",
   "metadata": {},
   "source": [
    "Nun kannst du die HTTP-GET-Anfrage wie folgt ausführen:"
   ]
  },
  {
   "cell_type": "code",
   "execution_count": null,
   "metadata": {},
   "outputs": [],
   "source": [
    "import requests\n",
    "\n",
    "response = requests.get(\"https://www.google.com/search?q=Python\")\n",
    "\n",
    "response.status_code, response.text"
   ]
  },
  {
   "attachments": {},
   "cell_type": "markdown",
   "metadata": {},
   "source": [
    "Mit einem HTML kannst du vielleicht noch nicht viel anfangen. Stattdessen könnte eine Anfrage auch ein _JSON_ zurückgeben.\n",
    "\n",
    "Folgende Anfrage gibt ein JSON zurück, welches wir dann auch gleich laden:"
   ]
  },
  {
   "cell_type": "code",
   "execution_count": null,
   "metadata": {},
   "outputs": [],
   "source": [
    "\n",
    "import requests\n",
    "\n",
    "response = requests.get(\n",
    "    \"https://raw.githubusercontent.com/it-ninjas/labs/master/static/files/json/islands.json\")\n",
    "\n",
    "# Wandle die Antwort in ein Dictionary um:\n",
    "islands = response.json()\n",
    "\n",
    "# Etwas mit der Antwort anfangen:\n",
    "print(\"Here are some Islands:\")\n",
    "print([island[\"name\"] for island in islands])\n"
   ]
  },
  {
   "attachments": {},
   "cell_type": "markdown",
   "metadata": {},
   "source": [
    "## POST-Request\n",
    "Beim GET-Request hast du bereits die Grundlagen von HTTP-Anfragen angeschaut. Du hast gesehen, dass du spezifische Daten in der URL angeben konntest.\n",
    "\n",
    "In vielen Situationen möchtest es vermeiden, die Daten in der URL mitgeben zu müssen. Hierfür können die Daten von der URL (nach dem \"?\") in den sogenannten _Request-Body_ verschoben werden.\n",
    "\n",
    "Bei der `requests.post(...)`-Funktion kannst du die Daten direkt beim `data`-Argument mitgegen. Sind deine Daten als Dictionary vorhanden, dann kannst du diese stattdessen als `json`-Argument übergeben. Einer dieser Werte wird dann in den Request-Body gepackt.\n",
    "\n",
    "Im nachfolgenden Beispiel senden wir einen Request an die JSONPlaceholder-API. Das Ziel ist es, einen neuen \"Post\" zu erstellen. Das mitgelieferte Dictionary repräsentiert einen solchen Post:"
   ]
  },
  {
   "cell_type": "code",
   "execution_count": null,
   "metadata": {},
   "outputs": [],
   "source": [
    "response = requests.post(\"https://jsonplaceholder.typicode.com/posts\",\n",
    "                         json={\n",
    "                             \"userId\": 10,\n",
    "                             \"title\": \"Post from Python\",\n",
    "                             \"body\": \"Did id work?\"})\n",
    "\n",
    "response.status_code, response.text"
   ]
  },
  {
   "attachments": {},
   "cell_type": "markdown",
   "metadata": {},
   "source": [
    "Die POST-Anfrage hat wie folgt ausgesehen:\n",
    "\n",
    "![POST Request](./08_1_post_request.png)"
   ]
  },
  {
   "attachments": {},
   "cell_type": "markdown",
   "metadata": {},
   "source": [
    "Im letzten Beispiel mussten wir die HTTP-POST-Methode verwenden und durften nicht GET verwenden. Dies hatte diese beiden Gründe:\n",
    "1. `GET` lässt keinen HTTP-Body zu (bzw. ist nicht der Sinn von GET). `POST` hingegen schon.\n",
    "2. Die JSONPlaceholder-API erwartet für diesen Zweck die `POST`-Methode."
   ]
  },
  {
   "attachments": {},
   "cell_type": "markdown",
   "metadata": {},
   "source": [
    "## Weitere POST-Methoden\n",
    "GET- und POST sind die bekanntesten HTTP-Methoden. Du kennst nun den wichtigsten Unterschied von beiden Methoden: wo werden die Daten mitgegeben.\n",
    "\n",
    "Die Information, ob es sich um einen GET- oder POST-Request handelt, wird der Server sehen können. Als Schlussfolgerung kann der Server einen anderen Code ausführen je nach Methode.\n",
    "\n",
    "Neben GET und POST gibt es noch viele weitere. Die Methoden werden meistens so gewählt, dass sie mit dem Zweck der Anfrage übereinstimmen:\n",
    "\n",
    "| Methode   | Zweck                                                                     |\n",
    "| --------- | ------------------------------------------------------------------------- |\n",
    "| GET       | Daten abfragen.                                                           |\n",
    "| POST      | Daten senden, um etwas Neues zu erstellen.                                |\n",
    "| PUT       | Daten ersetzen bzw. erstellen wenn noch nicht präsent.                    |\n",
    "| PATCH     | Ähnlich wie PUT, aktualisiert aber nur spezifizierte Werte.               |\n",
    "| DELETE    | Löscht bestimmte Daten.                                                   |\n",
    "| OPTIONS   | Abfrage, welche HTTP-Methoden für einen bestimmten Pfad verfügbar sind.   |\n",
    "\n",
    "Eine bessere Übersicht erhältst du hier: https://developer.mozilla.org/en-US/docs/Web/HTTP/Methods"
   ]
  },
  {
   "attachments": {},
   "cell_type": "markdown",
   "metadata": {},
   "source": [
    "## HTTP-Status-Code\n",
    "\n",
    "Wenn eine Anfrage erfolgreich war, dann erhältst du meistens den Status-Code `200` (\"OK\") oder `201` (\"Created\"). Kennen tust du bestimmt auch den Status-Code `404` \"Not Found\".\n",
    "\n",
    "Solche Status Codes geben darüber Auskunft, ob ein Request funktioniert hat bzw. was der Status des Requests ist.\n",
    "\n",
    "Eine lustige Seite, auf welcher du die einzelnen Status-Codes nachschauen gehen kannst, ist z.B. https://http.cat/. Eine seriösere Seite ist https://developer.mozilla.org/en-US/docs/Web/HTTP/Status.\n",
    "\n",
    "Zusammengefasst bedeuten diese Status-Codes kategorisch folgendes:\n",
    "\n",
    "| Code  | Type  | Beispiel                                                                              |\n",
    "| ----- | --------------------------- | --------------------------------------------------------------- |\n",
    "| 2XX   | Success (erfolgreich)       | Anfrage war erfolgreich, Daten wurden gespeichert.              |\n",
    "| 3XX   | Redirection (Weiterleitung) | User muss sich zuerst einloggen.                                |\n",
    "| 4XX   | Client Error (Fehler desjenigen, der anfragt) | Fehlerhafter Request, Path nicht verfügbar.   |\n",
    "| 5XX   | Server Error                | Auf dem Server ist ein Fehler aufgetreten.                      |"
   ]
  }
 ],
 "metadata": {
  "kernelspec": {
   "display_name": "Python 3",
   "language": "python",
   "name": "python3"
  },
  "language_info": {
   "codemirror_mode": {
    "name": "ipython",
    "version": 3
   },
   "file_extension": ".py",
   "mimetype": "text/x-python",
   "name": "python",
   "nbconvert_exporter": "python",
   "pygments_lexer": "ipython3",
   "version": "3.11.3"
  },
  "orig_nbformat": 4
 },
 "nbformat": 4,
 "nbformat_minor": 2
}
