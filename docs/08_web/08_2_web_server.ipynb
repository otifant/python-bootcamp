{
 "cells": [
  {
   "attachments": {},
   "cell_type": "markdown",
   "metadata": {},
   "source": [
    "## Web-Server\n",
    "\n",
    "Vorher haben wir uns angeschaut, wie wir in Python eine HTTP-Anfrage auf einen anderen Server schicken können.\n",
    "\n",
    "Nun kehren wir den Spiess um:\n",
    "\n",
    "Wir stellen den Web-Server zur Verfügung und akzeptieren eingehende HTTP-Anfragen.\n",
    "\n",
    "Hierfür bauen wir uns eine sehr kleine Webanwendung mit dem leichtgewichtigen Web-Framework \"Flask\". Das Tolle an Flask ist, dass es sehr minimalistisch ist und trotzdem sehr viele wichtige Features für ein Backend von Haus aus anbietet.\n",
    "\n",
    "Für den Moment kannst du Flask via Kommandozeile so installieren:"
   ]
  },
  {
   "cell_type": "code",
   "execution_count": null,
   "metadata": {},
   "outputs": [],
   "source": [
    "! pip install flask"
   ]
  },
  {
   "attachments": {},
   "cell_type": "markdown",
   "metadata": {},
   "source": [
    "Nun kannst du Flask bereits benutzen.\n",
    "\n",
    "Im Python-Code kannst du dann eine Flask-App erstellen, indem du den Konstruktor der Klasse `Flask` aufrufst. Den Rückgabewert - also das `Flask`-Objekt - benötigst du nachher noch, deswegen speicherst du ihn in einer Variable wie `app`:"
   ]
  },
  {
   "cell_type": "code",
   "execution_count": null,
   "metadata": {},
   "outputs": [],
   "source": [
    "from flask import Flask\n",
    "\n",
    "app = Flask(__name__)\n",
    "\n",
    "\n",
    "@app.route('/')\n",
    "def hello():\n",
    "    return 'Hello, World!'"
   ]
  },
  {
   "attachments": {},
   "cell_type": "markdown",
   "metadata": {},
   "source": [
    "Dann haben wir eine Funktion mit `@app.route('/')` annotiert. Dies hat den Zweck, dass die annotierte Funktion aufgerufen wird, wenn der Pfad \"[unser Server]/\" im Browser geladen wird.\n",
    "\n",
    "Das Ganze kannst du ausprobieren, indem du nächsten Code ausführen lässt:"
   ]
  },
  {
   "cell_type": "code",
   "execution_count": null,
   "metadata": {},
   "outputs": [],
   "source": [
    "if __name__ == '__main__':\n",
    "    app.run()"
   ]
  },
  {
   "attachments": {},
   "cell_type": "markdown",
   "metadata": {},
   "source": [
    "Nun kannst du folgende URL im Browser des gleichen Computers laden: http://127.0.0.1:5000/\n",
    "\n",
    "Du solltest nun im Browser den Text \"Hello, World!\" sehen:\n",
    "\n",
    "![Hello, World!](./08_2_hello_world_browser.png)\n",
    "\n",
    "Dieser Text ist genau der Output der Funktion `hello()`.\n",
    "\n",
    "Wenn du dann weiterentwickelst, vergiss nicht, diese Ausführung wieder zu beenden, damit der Server gestoppt wird!"
   ]
  },
  {
   "attachments": {},
   "cell_type": "markdown",
   "metadata": {},
   "source": [
    "Standardmässig geben solche Methoden, die mit `@app.route(...)` annotiert sind, eine Webseite - also ein HTML-String - zurück.\n",
    "\n",
    "Nachfolgend das gleiche Beispiel mit einer \"richtigen\" HTML-Seite:"
   ]
  },
  {
   "cell_type": "code",
   "execution_count": null,
   "metadata": {},
   "outputs": [],
   "source": [
    "@app.route('/home')\n",
    "def about():\n",
    "    return '''\n",
    "            <h1>Hello</h1>\n",
    "            <p>Welcome to my Website!</p>\n",
    "            <p>You can only expect <em>the best</em> on this page!</p>\n",
    "            <div>\n",
    "                <input type=\"checkbox\" name=\"fun\" id=\"fun\" />\n",
    "                <label for=\"fun\">Tickle me if you're feeling adventurous!</label>\n",
    "            </div>\n",
    "            <br />\n",
    "            <button>Click here for some magic</button\n",
    "    '''\n"
   ]
  },
  {
   "attachments": {},
   "cell_type": "markdown",
   "metadata": {},
   "source": [
    "Wir haben in der Funktion nun einen mehrzeiligen HTML-String zurückgegeben.\n",
    "\n",
    "Mit HTML kannst du die Struktur und den Inhalt einer Website angeben.\n",
    "\n",
    "Aber am besten schaust du dir die soeben erstellte Seite im Browser schnell an!\n",
    "\n",
    "Starte noch einmal die Webanwendung mit folgendem Code und öffne in deinem Browser die Seite http://127.0.0.1:5000/home."
   ]
  },
  {
   "cell_type": "code",
   "execution_count": null,
   "metadata": {},
   "outputs": [],
   "source": [
    "app.run()"
   ]
  },
  {
   "attachments": {},
   "cell_type": "markdown",
   "metadata": {},
   "source": [
    "Wenn du beim HTML-String noch nicht nachkommst, dann ist das nicht weiter schlimm.\n",
    "\n",
    "Hier trotzdem eine kurze Erklärung zu den einzelnen HTML-Elementen:\n",
    "* das `<h1>`-Element ist eine Überschrift (Heading) 1. Ordnung.\n",
    "* die `<p>`-Elemente stellen einzelne Paragraphe dar.\n",
    "* mit einem `<div>` kannst du z.B. mehrere Elemente gruppieren.\n",
    "* ein `<input type=\"checkbox\" />` ist eine Checkbox.\n",
    "* der `<label>` ist hier der Text, der neben der Checkbox steht.\n",
    "* ein `<br>` ist eine neue Zeile\n",
    "* und ein `<button>` stellt einen Knopf dar.\n",
    "\n",
    "In diesem Kurs gehen wir nicht weiter auf HTML ein. Wir konzentrieren uns eher auf Backend-Funktionen. Sollte dich HTML interessieren, dann kannst du gerne diese Einführung durcharbeiten: \n",
    "\n",
    "https://labs.it-ninjas.ch/docs/web/html_css/01_html_intro/"
   ]
  }
 ],
 "metadata": {
  "kernelspec": {
   "display_name": "Python 3",
   "language": "python",
   "name": "python3"
  },
  "language_info": {
   "codemirror_mode": {
    "name": "ipython",
    "version": 3
   },
   "file_extension": ".py",
   "mimetype": "text/x-python",
   "name": "python",
   "nbconvert_exporter": "python",
   "pygments_lexer": "ipython3",
   "version": "3.11.3"
  },
  "orig_nbformat": 4
 },
 "nbformat": 4,
 "nbformat_minor": 2
}
