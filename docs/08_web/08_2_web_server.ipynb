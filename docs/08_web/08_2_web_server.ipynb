{
 "cells": [
  {
   "attachments": {},
   "cell_type": "markdown",
   "metadata": {},
   "source": [
    "## Web-Server\n",
    "\n",
    "Vorher haben wir uns angeschaut, wie wir in Python eine HTTP-Anfrage auf einen anderen Server schicken können.\n",
    "\n",
    "Nun kehren wir den Spiess um:\n",
    "\n",
    "Wir stellen den Web-Server zur Verfügung und akzeptieren eingehende HTTP-Anfragen.\n",
    "\n",
    "Hierfür bauen wir uns eine sehr kleine Webanwendung mit dem leichtgewichtigen Web-Framework \"Flask\". Das Tolle an Flask ist, dass es sehr minimalistisch ist und trotzdem sehr viele wichtige Features für ein Backend von Haus aus anbietet.\n",
    "\n",
    "Für den Moment kannst du Flask via Kommandozeile so installieren:"
   ]
  },
  {
   "cell_type": "code",
   "execution_count": null,
   "metadata": {},
   "outputs": [],
   "source": [
    "! pip install flask"
   ]
  },
  {
   "attachments": {},
   "cell_type": "markdown",
   "metadata": {},
   "source": [
    "Nun kannst du Flask bereits benutzen.\n",
    "\n",
    "Im Python-Code kannst du dann eine Flask-App erstellen, indem du den Konstruktor der Klasse `Flask` aufrufst. Den Rückgabewert - also das `Flask`-Objekt - benötigst du nachher noch, deswegen speicherst du es in einer Variable wie `app`:"
   ]
  },
  {
   "cell_type": "code",
   "execution_count": 11,
   "metadata": {},
   "outputs": [],
   "source": [
    "from flask import Flask\n",
    "\n",
    "app = Flask(__name__)\n",
    "\n",
    "\n",
    "@app.route('/')\n",
    "def hello():\n",
    "    return 'Hello, World!'"
   ]
  },
  {
   "attachments": {},
   "cell_type": "markdown",
   "metadata": {},
   "source": [
    "Dann haben wir eine Funktion mit `@app.route('/')` annotiert. Dies hat den Zweck, dass die annotierte Funktion aufgerufen wird, wenn der Pfad \"[unser Server]/\" geladen wird.\n",
    "\n",
    "Das Ganze kannst du ausprobieren, indem du nächsten Code ausführen lässt:"
   ]
  },
  {
   "cell_type": "code",
   "execution_count": 6,
   "metadata": {},
   "outputs": [
    {
     "name": "stdout",
     "output_type": "stream",
     "text": [
      " * Serving Flask app '__main__'\n",
      " * Debug mode: off\n"
     ]
    },
    {
     "name": "stderr",
     "output_type": "stream",
     "text": [
      "WARNING: This is a development server. Do not use it in a production deployment. Use a production WSGI server instead.\n",
      " * Running on http://127.0.0.1:5000\n",
      "Press CTRL+C to quit\n",
      "127.0.0.1 - - [23/May/2023 10:46:46] \"GET / HTTP/1.1\" 200 -\n",
      "127.0.0.1 - - [23/May/2023 10:46:51] \"GET /home HTTP/1.1\" 200 -\n"
     ]
    }
   ],
   "source": [
    "if __name__ == '__main__':\n",
    "    app.run()"
   ]
  },
  {
   "attachments": {},
   "cell_type": "markdown",
   "metadata": {},
   "source": [
    "Nun kannst du folgende URL im Browser des gleichen Computers laden: http://127.0.0.1:5000/\n",
    "\n",
    "Du solltest nun im Browser den Text \"Hello, World!\" sehen:\n",
    "\n",
    "![Hello, World!](./08_2_hello_world_browser.png)\n",
    "\n",
    "Dieser Text ist genau der Output der Funktion `hello()`.\n",
    "\n",
    "Wenn du dann weiterentwickelst, vergiss nicht, die Ausführung wieder zu beenden, damit der Server gestoppt wird!"
   ]
  },
  {
   "attachments": {},
   "cell_type": "markdown",
   "metadata": {},
   "source": [
    "Standardmässig geben solche Methoden, die mit `@app.route(...)` annotiert sind, eine Webseite - also ein HTML-String - zurück.\n",
    "\n",
    "Nachfolgend das gleiche Beispiel mit einer HTML-Seite:"
   ]
  },
  {
   "cell_type": "code",
   "execution_count": 12,
   "metadata": {},
   "outputs": [],
   "source": [
    "@app.route('/home')\n",
    "def about():\n",
    "    return '''\n",
    "            <h1>Hello</h1>\n",
    "            <p>Welcome to my Website!</p>\n",
    "            <p>You can only expect <em>the best</em> on this page!</p>\n",
    "            <div>\n",
    "                <input type=\"checkbox\" name=\"fun\" id=\"fun\" />\n",
    "                <label for=\"fun\">Tickle me if you're feeling adventurous!</label>\n",
    "            </div>\n",
    "            <button>Click here for some magic</button\n",
    "    '''"
   ]
  },
  {
   "cell_type": "code",
   "execution_count": 13,
   "metadata": {},
   "outputs": [
    {
     "name": "stdout",
     "output_type": "stream",
     "text": [
      " * Serving Flask app '__main__'\n",
      " * Debug mode: off\n"
     ]
    },
    {
     "name": "stderr",
     "output_type": "stream",
     "text": [
      "WARNING: This is a development server. Do not use it in a production deployment. Use a production WSGI server instead.\n",
      " * Running on http://127.0.0.1:5000\n",
      "Press CTRL+C to quit\n",
      "127.0.0.1 - - [23/May/2023 10:53:16] \"GET /home HTTP/1.1\" 200 -\n"
     ]
    }
   ],
   "source": [
    "app.run()"
   ]
  }
 ],
 "metadata": {
  "kernelspec": {
   "display_name": "Python 3",
   "language": "python",
   "name": "python3"
  },
  "language_info": {
   "codemirror_mode": {
    "name": "ipython",
    "version": 3
   },
   "file_extension": ".py",
   "mimetype": "text/x-python",
   "name": "python",
   "nbconvert_exporter": "python",
   "pygments_lexer": "ipython3",
   "version": "3.11.3"
  },
  "orig_nbformat": 4
 },
 "nbformat": 4,
 "nbformat_minor": 2
}
