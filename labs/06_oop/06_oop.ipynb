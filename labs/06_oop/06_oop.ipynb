{
 "cells": [
  {
   "attachments": {},
   "cell_type": "markdown",
   "metadata": {},
   "source": [
    "# Aufgaben zu OOP in Python"
   ]
  },
  {
   "attachments": {},
   "cell_type": "markdown",
   "metadata": {},
   "source": [
    "## 1 INI-Datei laden\n",
    "\n",
    "`.ini`-Dateien werden im Zusammenhang mit Python oft verwendet, um z.B. eine Applikation zu konfigurieren.\n",
    "\n",
    "Erstelle ein kleines Programm, dass nachfolgender Inhalt einer INI-Datei lädt.\n",
    "\n",
    "Ziel soll es sein, dass du eine `Settings`-Klasse hast, in welcher dann die entsprechenden Werte zu finden sind. Plane deine Klassen so, dass die Gruppierung der Daten erhalten bleibt (also dass die Werte unter `Units` zusammen bleiben).\n",
    "\n",
    "Verwende folgenden Inhalt für die INI-Datei:\n",
    "\n",
    "```ini\n",
    "[Location]\n",
    "city = New York\n",
    "country = US\n",
    "\n",
    "[Units]\n",
    "temperature = Celsius\n",
    "speed = km/h\n",
    "\n",
    "[Display]\n",
    "theme = Light\n",
    "font_size = 12\n",
    "```\n",
    "\n",
    "Bitte erfülle zusätzlich folgende Anforderungen:\n",
    "* Bitte realisiere das Laden der Datei so, dass du hierfür eine Methode `Settings.load_from(path)` verwendest.\n",
    "* Speichere am Ende des Programms die Eigenschaften in einer JSON-Datei."
   ]
  },
  {
   "attachments": {},
   "cell_type": "markdown",
   "metadata": {},
   "source": [
    "## 2 Shapes zeichnen\n",
    "\n",
    "In dieser Aufgabe implementierst du ein kleines Python-Script, mit welchem der User auf einem Canvas verschiedene Formen wie Rechtecke, Kreise und Linien mit der Maus zeichnen kann.\n",
    "\n",
    "Das Zeichnen funktioniert immer gleich:\n",
    "* Beim Klick auf das Canvas wird die erste Position bestimmt,\n",
    "* beim Loslassen die zweite.\n",
    "\n",
    "Somit sind die Schnittstellen eigentlich immer die gleichen. Achte deshalb darauf, dass du möglichst keinen Code mehrmals schreiben musst. Verschaffe dir hierfür mit OOP und Vererbung einen Vorteil!\n",
    "\n",
    "Zusätzlich hat jede Form bestimmte Werte:\n",
    "* eine Fläche\n",
    "* einen Umfang\n",
    "Implementiere das Zeichnen so, dass diese Werte beim Zeichnen einer Form automatisch ausgegeben werden.\n",
    "\n",
    "Hinweis: Du kannst die Position des Klicks via `onclick(...)`-Callback ermitteln:\n",
    "\n",
    "```python\n",
    "from turtle import Turtle\n",
    "my_turtle = Turtle()\n",
    "def on_click(x, y):\n",
    "    print(x, y)\n",
    "\n",
    "\n",
    "screen = my_turtle.getscreen()\n",
    "screen.onclick(on_click)\n",
    "```\n"
   ]
  }
 ],
 "metadata": {
  "language_info": {
   "name": "python"
  },
  "orig_nbformat": 4
 },
 "nbformat": 4,
 "nbformat_minor": 2
}
