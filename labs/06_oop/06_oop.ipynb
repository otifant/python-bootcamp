{
 "cells": [
  {
   "attachments": {},
   "cell_type": "markdown",
   "metadata": {},
   "source": [
    "# Aufgaben zu OOP in Python"
   ]
  },
  {
   "attachments": {},
   "cell_type": "markdown",
   "metadata": {},
   "source": [
    "## 1 INI-Datei laden\n",
    "\n",
    "`.ini`-Dateien werden im Zusammenhang mit Python oft verwendet, um z.B. eine Applikation zu konfigurieren.\n",
    "\n",
    "Erstelle ein kleines Programm, dass nachfolgender Inhalt einer INI-Datei lädt.\n",
    "\n",
    "Ziel soll es sein, dass du eine `Settings`-Klasse hast, in welcher dann die entsprechenden Werte zu finden sind. Plane deine Klassen so, dass die Gruppierung der Daten erhalten bleibt (also dass die Werte unter `Units` zusammen bleiben).\n",
    "\n",
    "Verwende folgenden Inhalt für die INI-Datei:\n",
    "\n",
    "```ini\n",
    "[Location]\n",
    "city = New York\n",
    "country = US\n",
    "\n",
    "[Units]\n",
    "temperature = Celsius\n",
    "speed = km/h\n",
    "\n",
    "[Display]\n",
    "theme = Light\n",
    "font_size = 12\n",
    "```\n",
    "\n",
    "Bitte erfülle zusätzlich folgende Anforderungen:\n",
    "* Bitte realisiere das Laden der Datei so, dass du hierfür eine Methode `Settings.load_from(path)` verwendest.\n",
    "* Speichere am Ende des Programms die Eigenschaften in einer JSON-Datei."
   ]
  }
 ],
 "metadata": {
  "language_info": {
   "name": "python"
  },
  "orig_nbformat": 4
 },
 "nbformat": 4,
 "nbformat_minor": 2
}
