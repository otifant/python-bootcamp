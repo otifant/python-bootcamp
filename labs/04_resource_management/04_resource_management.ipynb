{
 "cells": [
  {
   "attachments": {},
   "cell_type": "markdown",
   "metadata": {},
   "source": [
    "# Aufgaben zu Exception Handling und Dateien"
   ]
  },
  {
   "cell_type": "markdown",
   "metadata": {},
   "source": [
    "## Aufgabe 1 - JSON laden\n",
    "Schreibe ein Programm, dass diese Datei lädt: https://raw.githubusercontent.com/it-ninjas/labs/master/static/files/json/chat.json\n",
    "\n",
    "Anschliessend gibt es alle Namen aus (egal ob in \"available\" oder \"unavailable\")."
   ]
  },
  {
   "attachments": {},
   "cell_type": "markdown",
   "metadata": {},
   "source": [
    "## Aufgabe 2 - CSV laden\n",
    "Lade dir das CSV herunter, das eine Auflistung von PLZ und Gemeindenamen enthält: https://labs.it-ninjas.ch/files/csv/Postleitzahlen_ISO-8859-1.csv\n",
    "\n",
    "* Speichere dir diese Daten in einem Dictionary.\n",
    "* Gib folgende Informationen aus:\n",
    "    * Anzahl PLZ.\n",
    "    * Kleinste PLZ der Gemeinde Bern.\n",
    "    * Grösste PLZ der Gemeinde Bern.\n",
    "    * Anzahl Gemeinden mit mehr als 10 Buchstaben.\n",
    "    * Anzahl Gemeinden mit 7 Buchstaben.\n",
    "    * Anzahl Gemeinden mit der Buchstabenfolge 'ent'.\n",
    "    * Gemeinden mit 3 Buchstaben.\n",
    "    * Anzahl Buchstaben der kleinsten Gemeinden.\n",
    "    * Kleinsten Gemeinden.\n",
    "    * Anzahl Buchstaben der Gemeinden mit den meisten Buchstaben.\n",
    "    * Gemeinden mit den meisten Buchstaben.\n",
    "* Anschliessend speicherst du deine Ausgaben in eine Datei: \"summary.csv\".\n",
    "\n",
    "Info: Teile dieser Aufgabe stammen von hier: https://labs.it-ninjas.ch/labs/java/java-collections/03_map/\n"
   ]
  },
  {
   "attachments": {},
   "cell_type": "markdown",
   "metadata": {},
   "source": [
    "## Aufgabe 3 - Logger\n",
    "In produktiven Systemen interessierst du dich dafür, was so ausgegeben wird. Bis anhin haben wir für Ausgaben immer `print(...)` verwendet. Nun wäre es praktisch, wenn wir z.B. nachschauen könnten, wieso das Programm gestern bei einer Operation abgebrochen ist oder so ähnlich.\n",
    "\n",
    "Erstelle eine Methode `log(message: str)`, welche\n",
    "* das gleiche wie `print(...)` tut (bzw. diese aufruft)\n",
    "* und die `message` automatisch in einer Datei hinzufügt (Englisch: 'append').\n",
    "\n",
    "Erweitere die Aufgabe 2 mit einem sinnvollen Exception Handling:\n",
    "* Was, wenn im CSV ein \",\" statt einem \";\" verwendet wurde?\n",
    "* Was, wenn die Datei nicht geladen werden kann?\n",
    "* Was, wenn eine Operation sonst scheitert?\n",
    "\n",
    "Nun kommt dein Logger auch zum Zug:\n",
    "* ersetze die `print`s durch deine `log`s.\n",
    "* Verwende das `log` in deinem Exception Handling: Wenn etwas scheitert, logge es!"
   ]
  },
  {
   "attachments": {},
   "cell_type": "markdown",
   "metadata": {},
   "source": [
    "## Aufgabe 4 - Zahlenratespiel\n",
    "Erweitere dein Zahlenratespiel aus Aufgabe 5 in \"02_control_structures.ipynb\" mit einem sinnvollen Exception Handling."
   ]
  },
  {
   "cell_type": "markdown",
   "metadata": {},
   "source": []
  }
 ],
 "metadata": {
  "kernelspec": {
   "display_name": "Python 3",
   "language": "python",
   "name": "python3"
  },
  "language_info": {
   "name": "python",
   "version": "3.10.10"
  },
  "orig_nbformat": 4
 },
 "nbformat": 4,
 "nbformat_minor": 2
}
