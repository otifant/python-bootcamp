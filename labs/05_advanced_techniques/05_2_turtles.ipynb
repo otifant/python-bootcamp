{
 "cells": [
  {
   "attachments": {},
   "cell_type": "markdown",
   "metadata": {},
   "source": [
    "# Aufgaben zu Turtles"
   ]
  },
  {
   "attachments": {},
   "cell_type": "markdown",
   "metadata": {},
   "source": [
    "## Aufgabe 1 - Zufällige Objekte\n",
    "\n",
    "Erstelle ein kleines Programm, das auf deine Tastatur \"hört\". Immer, wenn du eine bestimmte Taste klickst, wird irgendwo auf dem Bildschirm eine zufällige Form (Rechteck, Kreis, Strich) in einer zufälligen Grösse gezeichnet."
   ]
  },
  {
   "attachments": {},
   "cell_type": "markdown",
   "metadata": {},
   "source": [
    "## Aufgabe 2 - Das Haus von Nikolaus\n",
    "\n",
    "Zeichne mit Hilfe von Turtles das Haus von Nikolaus."
   ]
  },
  {
   "attachments": {},
   "cell_type": "markdown",
   "metadata": {},
   "source": [
    "## Aufgabe 3 - Vielecke\n",
    "\n",
    "Schreibe eine Methode, die als Parameter eine Zahl akzeptiert.\n",
    "\n",
    "Lasse dann automatisch eine Form mit so vielen Ecken zeichnen."
   ]
  },
  {
   "attachments": {},
   "cell_type": "markdown",
   "metadata": {},
   "source": [
    "## Aufgabe 4 - weitere Formen\n",
    "\n",
    "Zeichne weitere Formen:\n",
    "* einen Stern\n",
    "* eine Spirale"
   ]
  },
  {
   "attachments": {},
   "cell_type": "markdown",
   "metadata": {},
   "source": [
    "## Aufgabe 5 - Labyrinth (Irrgarten)\n",
    "\n",
    "Zeichne einen Irrgarten.\n",
    "\n",
    "Mache nun ein Spiel daraus: du kannst die Turtle mit den Maustasten steuern. Wenn die Turtle dem Irrgarten ankommt, beginnt das Spiel von vorne.\n",
    "\n",
    "Denke daran, dass am Ende eine Gratulation angezeigt wird, wenn der Spieler erfolgreich war.\n"
   ]
  },
  {
   "attachments": {},
   "cell_type": "markdown",
   "metadata": {},
   "source": [
    "## Aufgabe 6 - eigenes Spiel\n",
    "\n",
    "Entwickle deine eigene Idee wie z.B. ein kleines Pong oder Flappy Bird."
   ]
  },
  {
   "cell_type": "markdown",
   "metadata": {},
   "source": []
  }
 ],
 "metadata": {
  "kernelspec": {
   "display_name": "Python 3",
   "language": "python",
   "name": "python3"
  },
  "language_info": {
   "codemirror_mode": {
    "name": "ipython",
    "version": 3
   },
   "file_extension": ".py",
   "mimetype": "text/x-python",
   "name": "python",
   "nbconvert_exporter": "python",
   "pygments_lexer": "ipython3",
   "version": "3.10.10"
  },
  "orig_nbformat": 4
 },
 "nbformat": 4,
 "nbformat_minor": 2
}
