{
 "cells": [
  {
   "attachments": {},
   "cell_type": "markdown",
   "metadata": {},
   "source": [
    "# Mit externen Programmen kommunizieren"
   ]
  },
  {
   "attachments": {},
   "cell_type": "markdown",
   "metadata": {},
   "source": [
    "## 1 Process Open (`popen(...)`)\n",
    "Bei diesen Aufgabe wirst du das Ausführen von Command-Line-Befehlen mit Hilfen von Process Open (`popen(...)`) trainieren."
   ]
  },
  {
   "attachments": {},
   "cell_type": "markdown",
   "metadata": {},
   "source": [
    "### Aufgabe 1.1 - Im Dateiverzeichnis navigieren\n",
    "\n",
    "\n",
    "In dieser Aufgabe sollst du die bekanntesten Command-Line-Befehlen (unter Windows) kennenlernen. Diese sind:\n",
    "* `dir` (Windows) oder `ls` (Linux/Mac/Windows PowerShell Alias auf `dir`)\n",
    "* `cd`\n",
    "* `mkdir`\n",
    "* `rename`\n",
    "* `set`\n",
    "* `echo Hello World > my-file.txt` -> Schreibt einen Text in eine Datei.\n",
    "\n",
    "Schreibe eine `.bat`-Datei, die\n",
    "* das aktuelle Verzeichnis ausgibt,\n",
    "* in das Verzeichnis \"./output\" wechselt,\n",
    "* dort die System-Variable `Path` in die Datei `something.txt` schreibt,\n",
    "* und diese Datei in `path.txt` umbenennt.\n",
    "\n",
    "Lasse diese `.bat`-Datei via Python ausführen."
   ]
  },
  {
   "attachments": {},
   "cell_type": "markdown",
   "metadata": {},
   "source": [
    "### Aufgabe 1.2 - Git Informationen auslesen\n",
    "Schreibe ein Programm, das folgende Git-Informationen (über dasselbe Projekt) in der Konsole ausgibt:\n",
    "- Auf welchem Branch arbeitest du gerade?\n",
    "- Wie viele Commits wurdest du hochladen, falls du `git push` eingeben würdest?\n",
    "- Was ist die URL zu deinem Remote Repository?\n",
    "\n",
    "Verwende dafür `popen(...)` und die Standard-Git-Befehle."
   ]
  },
  {
   "attachments": {},
   "cell_type": "markdown",
   "metadata": {},
   "source": [
    "### Aufgabe 1.3 - Python-Script starten\n",
    "Schreibe ein Programm, welches ein anderes Python-Script startet.\n",
    "\n",
    "Dein Programm soll nach jeder Zeile, die das Script ausgibt, folgenden Text vorne hinzufügen: \"The other says: \"."
   ]
  },
  {
   "attachments": {},
   "cell_type": "markdown",
   "metadata": {},
   "source": [
    "### Aufgabe 1.4 - Task Manager\n",
    "Schreibe ein Programm,\n",
    "* welches einen Begriff (für ein laufendes Programm) einliest vom User,\n",
    "* dann schaut, ob aktuell ein Prozess läuft, der einen Namen hat, der den Begriff enthält,\n",
    "* den User fragt, ob er diesen Prozess beenden möchte,\n",
    "* und anschliessend diesen Prozess beendet.\n",
    "\n",
    "**Hinweis**\n",
    "Folgende Befehle könnten dir weiterhelfen:\n",
    "* tasklist\n",
    "* taskkill"
   ]
  }
 ],
 "metadata": {
  "language_info": {
   "name": "python"
  },
  "orig_nbformat": 4
 },
 "nbformat": 4,
 "nbformat_minor": 2
}
