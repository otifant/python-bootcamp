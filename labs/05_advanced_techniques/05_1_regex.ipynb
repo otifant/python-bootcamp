{
 "cells": [
  {
   "attachments": {},
   "cell_type": "markdown",
   "metadata": {},
   "source": [
    "# Aufgaben zu RegEx"
   ]
  },
  {
   "attachments": {},
   "cell_type": "markdown",
   "metadata": {},
   "source": [
    "## 1. Input-Validation"
   ]
  },
  {
   "attachments": {},
   "cell_type": "markdown",
   "metadata": {},
   "source": [
    "### 1.1 Email-Adresse\n",
    "Erstelle eine Regex, die verschiedene Email-Adressen validiert – auch deine und solche mit Zahlen, Bindestriche und Underscores.\n",
    "\n",
    "Prüfe deine Regex und Methode auf folgende Email-Adressen:\n",
    "* ✔ andy.arbeit@sbb.ch\n",
    "* ✔ andy.arbeit+spam@gmail.com\n",
    "* ✔ andy.arbeit+spam@gmail+.com\n",
    "* ❌ andy.arbeit@sbb+.ch\n",
    "* ❌ andy.arbeit@ch\n",
    "* ❌ andy.arbeit\n",
    "\n",
    "Welche Regex verwendet der Chrome-Browser (Gehe auf die Suche)?"
   ]
  },
  {
   "attachments": {},
   "cell_type": "markdown",
   "metadata": {},
   "source": [
    "### 1.2 Telefon-Nummer\n",
    "Erstelle eine RegEx, die korrekte Schweizer Telefonnummern erkennt. Folgende Formate sollten u.a. erkannt werden:\n",
    "* 079 123 45 67\n",
    "* +41 79 123 45 67\n",
    "* 0041 79 123 45 67\n",
    "* (0041) 79 123 45 67"
   ]
  },
  {
   "attachments": {},
   "cell_type": "markdown",
   "metadata": {},
   "source": [
    "### 1.3 URL\n",
    "Erstelle eine RegEx, die URLs erkennt wie:\n",
    "* ✔ https://labs.it-ninjas.ch/gugus\n",
    "* ✔ https://labs.it-ninjas.ch:443/gugus\n",
    "* ✔ https://labs.it-ninjas.ch?gugus\n",
    "* ❌ https://labs.it-ninjas.ch?/gugus\n",
    "* ❌ https://labs.it-ninjas.ch/gugus gugus"
   ]
  },
  {
   "attachments": {},
   "cell_type": "markdown",
   "metadata": {},
   "source": [
    "### 1.4 IP-Adressen\n",
    "Erstelle eine RegEx, die sowohl IPv4- wie auch IPv6-Adressen erkennt. Mögliche Beispiele:\n",
    "* ✔ 192.168.1.12\n",
    "* ✔ 127.0.0.1\n",
    "* ✔ 10.0.0.1\n",
    "* ✔ 1200:0000:AB00:1234:0000:2552:7777:1313\n",
    "* ❌ 1200::AB00:1234::2552:7777:1313\n",
    "* ✔ 21DA:D3:0:2F3B:2AA:FF:FE28:9C5A\n",
    "* ✔ FE80:0000:0000:0000:0202:B3FF:FE1E:8329\n",
    "\n",
    "Sollen IPv6-Adressen für dich neu sein, dann recherchiere diese kurz im Netz. Sollten Fragen offen bleiben, dann frage bitte kurz nach."
   ]
  },
  {
   "attachments": {},
   "cell_type": "markdown",
   "metadata": {},
   "source": [
    "### 1.5 Datum\n",
    "Erstelle eine RegEx, die im Stande ist zu entscheiden, ob ein Datum korrekt geschrieben ist.\n",
    "\n",
    "Gehe davon aus, dass das Datum immer «`<Tag>. <Monat> <Jahr>`» in Deutsch (voll ausgeschrieben) ist, z.B.\n",
    "* 24. Dezember 2003\n",
    "* 22. Februar 2022"
   ]
  },
  {
   "attachments": {},
   "cell_type": "markdown",
   "metadata": {},
   "source": [
    "### 1.6 Passwort-Stärke (optional)\n",
    "Was ist für dich ein starkes Passwort? Vielleicht mindestens 8 Zeichen lang, und muss mindestens 1 Zeichen, Gross- und Kleinbuchstaben sowie ein spezielles Zeichen (wie ‘!’) enthalten?\n",
    "\n",
    "Entscheide für dich selbst.\n",
    "\n",
    "Erstelle nun eine RegEx, die ein starkes Passwort erkennt. Hierfür musst du dich wahrscheinlich über \"lookahead assertion\" schlau machen."
   ]
  },
  {
   "attachments": {},
   "cell_type": "markdown",
   "metadata": {},
   "source": [
    "## 2. Text ausschneiden"
   ]
  },
  {
   "attachments": {},
   "cell_type": "markdown",
   "metadata": {},
   "source": [
    "## 2.1 Config-Datei interpretieren\n",
    "Lies folgende Informationen ein. Die ersten beiden Zeilen sind generelle Konfigurationen, die nur einmal vorkommen. Nach dem `-` folgen Listenelemente\n",
    "\n",
    "```yaml\n",
    "cluster_name: The Lost City\n",
    "ip_address: null\n",
    "server_addresses:\n",
    "  - server_name: Poseidon\n",
    "    status: up\n",
    "    ip_address: 192.168.0.1\n",
    "  - server_name: Neptune\n",
    "    status: down\n",
    "    ip_address: 192.168.0.2\n",
    "  - server_name: Triton\n",
    "    status: up\n",
    "    ip_address: 192.168.0.3\n",
    "  - server_name: Nereus\n",
    "    status: up\n",
    "    ip_address: 192.168.0.4\n",
    "```\n",
    "\n",
    "Schreibe ein Programm, welches mit Hilfe von Regex und Named Groups den `cluster_name` sowie alle `server_name`s und `ip_address`es von denjenigen Servern zurückgibt, die den `status: up` haben."
   ]
  },
  {
   "attachments": {},
   "cell_type": "markdown",
   "metadata": {},
   "source": [
    "### 2.2 Python-Code einlesen\n",
    "Schreibe ein kleines Programm, dass die Deklaration einer Python-Funktion interpretieren kann:\n",
    "\n",
    "```python\n",
    "def my_function(argument1, argument2: int, argument3: dict[int, str]) -> bool:\n",
    "```\n",
    "\n",
    "Dein Programm soll den interpretierten Python-Code in Form eines Dictionaries zurückgeben (wobei `[...]` einer Liste und `null` dem Wert `None` entspricht):\n",
    "```json\n",
    "{\n",
    "    \"function_name\": \"my_function\",\n",
    "    \"arguments\": [\n",
    "        {\n",
    "            \"name\": \"argument1\",\n",
    "            \"type\": null\n",
    "        },\n",
    "        {\n",
    "            \"name\": \"argument2\",\n",
    "            \"type\": \"int\"\n",
    "        },\n",
    "        {\n",
    "            \"name\": \"argument3\",\n",
    "            \"type\": \"dict[int, str]\"\n",
    "        }\n",
    "    ],\n",
    "    \"return_value\": \"bool\"\n",
    "}\n",
    "```"
   ]
  }
 ],
 "metadata": {
  "language_info": {
   "name": "python"
  },
  "orig_nbformat": 4
 },
 "nbformat": 4,
 "nbformat_minor": 2
}
