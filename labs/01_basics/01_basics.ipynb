{
 "cells": [
  {
   "attachments": {},
   "cell_type": "markdown",
   "metadata": {},
   "source": [
    "# Aufgaben zu den Basics von Python\n",
    "\n",
    "Kopiere bei den Labs jeweils das Notebook (.ipynb-File) jeweils in einen eigenen Ordner und füge unterhalb der Aufgabenstellung jeweils einen neuen Code-Block hinzu."
   ]
  },
  {
   "attachments": {},
   "cell_type": "markdown",
   "metadata": {},
   "source": [
    "## Aufgabe 1 - Eingabe, Ausgabe\n",
    "\n",
    "Schreibe ein kleines Programm, das\n",
    "* deinen Namen und dein Alter einliest\n",
    "* und anschliessend \"Hallo `<Name>`, du bist `<Alter>` Jahre alt.\""
   ]
  },
  {
   "attachments": {},
   "cell_type": "markdown",
   "metadata": {},
   "source": [
    "## Aufgabe 2 - Zeichnen\n",
    "Zeichne in der Konsole folgende Elemente:\n",
    "* ein Haus\n",
    "* eine Schweizerfahne."
   ]
  },
  {
   "attachments": {},
   "cell_type": "markdown",
   "metadata": {},
   "source": [
    "## Aufgabe 3 - Einfache Berechnungen\n",
    "Berechne die folgenden Dinge:\n",
    "\n",
    "* Fläche eines Rechtecks\n",
    "* Fläche eines Kreises\n",
    "* Umfang eines Rechtecks\n",
    "* Inhalt einer Pyramide mit quadratischen Grundriss und einer bestimmten Höhe\n",
    "* Berechne dein Alter am heutigen Tag in Jahren, Monaten und Tagen\n",
    "* Schreibe eine Methode, welche eine beliebige Ganzzahl als Parameter übernimmt und die Vielfache von 3 zusammen mit der Vielfache von 5 dieser Zahl summiert."
   ]
  },
  {
   "cell_type": "markdown",
   "metadata": {},
   "source": []
  }
 ],
 "metadata": {
  "language_info": {
   "name": "python"
  },
  "orig_nbformat": 4
 },
 "nbformat": 4,
 "nbformat_minor": 2
}
