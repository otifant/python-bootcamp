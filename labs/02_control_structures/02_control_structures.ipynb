{
 "cells": [
  {
   "attachments": {},
   "cell_type": "markdown",
   "metadata": {},
   "source": [
    "# Aufgeben zu Kontrollstrukturen"
   ]
  },
  {
   "attachments": {},
   "cell_type": "markdown",
   "metadata": {},
   "source": [
    "## Aufgabe 1 - Einfache String-Operationen\n",
    "\n",
    "Lasse den User einen Text eingeben und führe folgende Operationen auf diesem Text durch:\n",
    "\n",
    "* Gibt den Text in Grossbuchstaben aus.\n",
    "* Gib eine Info zum Text (zusammenfassend) am Ende aus:\n",
    "    * Anzahl Vokale\n",
    "    * Anzahl Wörter"
   ]
  },
  {
   "attachments": {},
   "cell_type": "markdown",
   "metadata": {},
   "source": [
    "## Aufgabe 2 - String Slicing\n",
    "Schreibe folgende Programme:\n",
    "\n",
    "* Der User muss seinen vollständigen Namen eingeben (Format: Vor- und Nachname, zwingend in nur einer Eingabe). Anschliessend gibst du nur den Vornamen aus.\n",
    "* Bilde ein Kürzel aus diesem Vornamen und dem Nachnamen: die ersten beiden Zeichen des Vornamens sowie den letzten beiden des Nachnamens. Beispiel \"Bernhard Diener\" -> \"Beer\".\n",
    "* Anschliessend gib noch jeden zweiten Buchstaben des Nachnamens aus."
   ]
  },
  {
   "attachments": {},
   "cell_type": "markdown",
   "metadata": {},
   "source": [
    "## Aufgabe 3 - String-Konkatenation\n",
    "Schreibe ein Programm, das \"Your random number for today: {random_number}\" ausgibt, wobei `random_number` mit einer zufälligen Zahl ersetzt wird.\n",
    "\n",
    "Eine zufällige Zahl bekommst du so:\n",
    "\n",
    "```python\n",
    "import random\n",
    "\n",
    "random_number = random.randint(1, 100)\n",
    "```\n",
    "\n",
    "Mache das gleiche für eine Fliesskommazahl zwischen 0 und 1."
   ]
  },
  {
   "attachments": {},
   "cell_type": "markdown",
   "metadata": {},
   "source": [
    "## Aufgabe 4 - Conditions\n",
    "Schreibe Programme, die folgendes tun:\n",
    "* Der User gibt sein Alter ein. Wenn das Alter\n",
    "    * kleiner als 13 ist, dann wird \"Kind\" ausgegeben.\n",
    "    * jünger als 18: \"Teenager\"\n",
    "    * Jünger als 65: Erwachsener\n",
    "    * Ansonsten: Senior.\n",
    "\n",
    "* Schaltjahr:\n",
    "    * Schreibe eine Funktion, die einen Boolean zurückgibt, wenn ein bestimmtes Jahr ein Schaltjahr (Englisch: 'leap year') ist. Informiere dich hierfür, welche Regeln das gelten (z.B. auf Wikipedia).\n",
    "        * Der User gibt ein Jahr ein und das Programm beantwortet das mit einem Satz.\n",
    "* Der User kann zwei Zahlen eingeben und du gibst ihm Auskunft, welche der beiden Zahlen grösser war.\n",
    "* Schreibe ein Programm, dass darüber auskunft gibt, ob die User-Eingabe eine gerade oder ungerade Zahl ist."
   ]
  },
  {
   "attachments": {},
   "cell_type": "markdown",
   "metadata": {},
   "source": [
    "## Aufgabe 5 - Loops\n",
    "\n",
    "* Schreibe eine Methode, die überprüft, ob eine Zahl eine Primzahl ist.\n",
    "* Schreibe ein Programm, das den User nach einer Zahl fragt und dann die ersten `n` (n = Usereingabe) Elemente der Fibonacci-Reihe ausgibt.\n",
    "* Schreibe ein Programm, in welchem der Computer sich eine Zahl von 0 - 100 überlegt. Anschliessend muss der User diese Zahl erraten. Das Spiel geht solange, bis die Zahl erraten wurde oder bis 7 Versuche erreicht wurden. Der Computer kann nur Antworten mit\n",
    "    * \"grösser\"\n",
    "    * \"kleiner\"\n",
    "    * oder \"richtig\".\n",
    "* Anschliessend noch einmal das Ratespiel, aber umgekehrt. Nun muss der Computer raten. Schreibe das Programm so, dass der Computer strukturiert beim Raten vorgeht, also nicht immer eine komplett zufällige Zahl rät. Achte darauf, dass die User-Eingabe nicht abhängig von der Gross-Klein-Schreibung ist.\n",
    "* Schreibe ein Programm, wo der User einen String eingeben kann. Anschliessend wird der String rückwärts ausgegeben."
   ]
  },
  {
   "attachments": {},
   "cell_type": "markdown",
   "metadata": {},
   "source": [
    "## Aufgabe 6 - Ein paar Funktionen\n",
    "Schreibe für folgendes Funktionen:\n",
    "\n",
    "* Summen von 2 Zahlen berechnen.\n",
    "* Kleinstes gemeinsames Vielfaches (kgV) von zwei Zahlen Berechnen\n",
    "* Löse für gegebene `a`, `b` und `c` die Gleichung $ax^2+bx+c=0$. Hierfür kannst du die \"Mitternachtsformel\" brauchen. Denke daran, dass es zwei Lösungen geben kann. Verwende also einen sinnvollen Rückgabe-Typ. (Das Programm muss nur Lösungen zurückgeben, wenn es reelle Lösungen (also keine komplexen) gibt.). Denke daran, am Schluss zu überprüfen, ob deine Lösung stimmt (mit Code automatisch).\n"
   ]
  },
  {
   "cell_type": "markdown",
   "metadata": {},
   "source": []
  }
 ],
 "metadata": {
  "language_info": {
   "name": "python"
  },
  "orig_nbformat": 4
 },
 "nbformat": 4,
 "nbformat_minor": 2
}
