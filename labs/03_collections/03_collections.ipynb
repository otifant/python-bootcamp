{
 "cells": [
  {
   "attachments": {},
   "cell_type": "markdown",
   "metadata": {},
   "source": [
    "# Aufgaben zu Collections"
   ]
  },
  {
   "attachments": {},
   "cell_type": "markdown",
   "metadata": {},
   "source": [
    "# Aufgabe 1 - Listen\n",
    "* Schreibe eine Funktion, die als Eingabe eine Liste mit Zahlen sowie einen Index `i`(also Zahl) erwartet und das `i`-te Element aus dieser Liste zurückgibt.\n",
    "* Schreibe eine Funktion, die als Eingabe eine Liste mit Zahlen erwartet und das grösste Element in der Liste zurückgibt.\n",
    "* Schreibe eine Funktion, die als Eingabe zwei Listen gleicher Länge mit Zahlen erwartet und eine Liste mit den Summen aus beiden Listen zurückgibt. Beispiel: [1, 2, 3] und [4, 5, 6] -> [5, 7, 9]\n",
    "* Schreibe eine Funktion, die als Eingabe eine Liste mit Zahlen erwartet und die Summe aller Zahlen zurückgibt.\n",
    "* Schreibe eine Funktion, die als Eingabe eine Liste mit Strings erwartet und dann eine Liste zurückgibt, wo die Elemente alphabetisch sortiert sind.\n",
    "* Wir haben eine Liste mit folgenden Elementen: `[21, -1, 2, 20, -24, 21, 25, -16, -10, -2, -20, 15, -15, 0, -16, -19, 13, 24, -3, 7]`. Schreibe eine Methode, welche aus der Liste alle Zahlen sucht, welche nicht mehr als 10 von der Zahl -6 abweichen. Schreibe diese Zahlen in eine neue Liste. Die Methode liefert das neue Array zurück.\n",
    "* Verwende noch einmal die gleichen Zahlen. Schreibe eine Methode, welche alle Zahlen in positive Zahlen verwandelt und diese in eine neue Liste schreibt. Die Methode liefert die neue Liste zurück."
   ]
  },
  {
   "attachments": {},
   "cell_type": "markdown",
   "metadata": {},
   "source": [
    "## Aufgabe 2 - Sets\n",
    "* Schreibe eine Funktion, die als Eingabe eine Liste mit sehr vielen Wörter erhält. Als Rückgabe: verschiedenen Elemente (also keine Duplikate).\n",
    "* Schreibe eine Funktion, die dir aus einer Liste alle Elemente ausgibt, die genau 1x in der Liste vorkommen. Lass' dir Helfen mit einer `set`."
   ]
  },
  {
   "attachments": {},
   "cell_type": "markdown",
   "metadata": {},
   "source": [
    "## Aufgabe 3 - Dictionaries\n",
    "* Die gleiche wie in Aufgabe 2 aber mit Mengenangabe. Schreibe eine Funktion, die als Eingabe eine Liste mit sehr vielen Wörter erhält. Als Rückgabe ein Dictionary: das Wort als Key, die Anzahl Vorkommnisse in der Liste als Value.\n",
    "* Mit Dictionaries kannst du dir auch sehr viel Programm-Code ersparen. Das kannst du anhand eines kleinen Taschenrechners sehen. Ziel soll es sein, dass der User 2 Zahlen und einen Operator wie `+`, `-`, `*`, `/` eingeben kann. Anschliessend führt dein Programm diese Operation durch. Speichere hierfür alle Operationen in einem Dictionary: als Key der Operator als String (also z.B. `+`) und als Value eine Funktion, die zwei Zahlen erwartet. Folgendes Beispiel zeigt, wie du Funktionen als Variablen brauchen kannst:"
   ]
  },
  {
   "cell_type": "code",
   "execution_count": null,
   "metadata": {},
   "outputs": [],
   "source": [
    "def calculate(a: float, b: float, operator):\n",
    "    return operator(a, b)\n",
    "\n",
    "print( calculate(6, 7, lambda a,b: a + b) )\n",
    "print( calculate(6, 7, lambda a,b: a * b) )"
   ]
  },
  {
   "attachments": {},
   "cell_type": "markdown",
   "metadata": {},
   "source": [
    "* Schreibe eine Methode, die zwei Sets als Argument akzeptiert. Als Rückgabe liefert sie ein Dictionary, das die Elemente der beiden Sets als Key besitzt und der jeweilige Value ist `True` oder `False`, je nachdem ob das Element in beiden Funktionen vorkommt."
   ]
  },
  {
   "cell_type": "markdown",
   "metadata": {},
   "source": []
  }
 ],
 "metadata": {
  "kernelspec": {
   "display_name": "Python 3",
   "language": "python",
   "name": "python3"
  },
  "language_info": {
   "name": "python",
   "version": "3.10.10"
  },
  "orig_nbformat": 4
 },
 "nbformat": 4,
 "nbformat_minor": 2
}
